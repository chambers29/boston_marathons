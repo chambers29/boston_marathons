{
 "cells": [
  {
   "cell_type": "markdown",
   "id": "508d0c40-977f-4cc1-8ebf-db57eec46e44",
   "metadata": {},
   "source": [
    "#### MODULES IMPORT"
   ]
  },
  {
   "cell_type": "code",
   "execution_count": 2,
   "id": "76e39634-86da-4a66-a6d5-90b439ede523",
   "metadata": {},
   "outputs": [],
   "source": [
    "import pandas as pd\n",
    "import numpy as np\n",
    "import matplotlib.pyplot as plt\n",
    "import math as math"
   ]
  },
  {
   "cell_type": "markdown",
   "id": "105e48d3-f3ab-4a90-83ec-e0cfc14c5a0f",
   "metadata": {},
   "source": [
    "#### CLEAN DATA IMPORT"
   ]
  },
  {
   "cell_type": "code",
   "execution_count": 4,
   "id": "a0fc7ca8-7c38-4cdc-854b-3ca7ce81ff82",
   "metadata": {},
   "outputs": [],
   "source": [
    "df = pd.read_csv('./boston_clean.csv')"
   ]
  },
  {
   "cell_type": "markdown",
   "id": "f7beab9f-b220-4dd8-bed9-0c102043fade",
   "metadata": {},
   "source": [
    "#### CHANGING TYPE OF COLUMNS THAT USING TIME AS VALUES"
   ]
  },
  {
   "cell_type": "code",
   "execution_count": 6,
   "id": "a7fdfbaf-4a6c-48f4-a48b-baa5c4b86e20",
   "metadata": {},
   "outputs": [],
   "source": [
    "time_columns = ['Pace', '5K', '10K', '15K', '20K', '25K', '30K', '35K', '40K', 'Official Time']\n",
    "df[time_columns] = df[time_columns].apply(lambda col: pd.to_timedelta(col, errors='coerce'))"
   ]
  },
  {
   "cell_type": "code",
   "execution_count": 7,
   "id": "692a4619-4c92-4aff-b083-23c34785abbb",
   "metadata": {},
   "outputs": [
    {
     "data": {
      "text/html": [
       "<div>\n",
       "<style scoped>\n",
       "    .dataframe tbody tr th:only-of-type {\n",
       "        vertical-align: middle;\n",
       "    }\n",
       "\n",
       "    .dataframe tbody tr th {\n",
       "        vertical-align: top;\n",
       "    }\n",
       "\n",
       "    .dataframe thead th {\n",
       "        text-align: right;\n",
       "    }\n",
       "</style>\n",
       "<table border=\"1\" class=\"dataframe\">\n",
       "  <thead>\n",
       "    <tr style=\"text-align: right;\">\n",
       "      <th></th>\n",
       "      <th>Name</th>\n",
       "      <th>M/F</th>\n",
       "      <th>Age</th>\n",
       "      <th>Country</th>\n",
       "      <th>City</th>\n",
       "      <th>Pace</th>\n",
       "      <th>5K</th>\n",
       "      <th>10K</th>\n",
       "      <th>15K</th>\n",
       "      <th>20K</th>\n",
       "      <th>25K</th>\n",
       "      <th>30K</th>\n",
       "      <th>35K</th>\n",
       "      <th>40K</th>\n",
       "      <th>Official Time</th>\n",
       "      <th>Rank</th>\n",
       "      <th>Year</th>\n",
       "    </tr>\n",
       "  </thead>\n",
       "  <tbody>\n",
       "    <tr>\n",
       "      <th>0</th>\n",
       "      <td>Desisa, Lelisa</td>\n",
       "      <td>M</td>\n",
       "      <td>25</td>\n",
       "      <td>ETH</td>\n",
       "      <td>Ambo</td>\n",
       "      <td>0 days 00:03:03.925872902</td>\n",
       "      <td>0 days 00:14:43</td>\n",
       "      <td>0 days 00:29:43</td>\n",
       "      <td>0 days 00:44:57</td>\n",
       "      <td>0 days 01:00:29</td>\n",
       "      <td>0 days 01:16:07</td>\n",
       "      <td>0 days 01:32:00</td>\n",
       "      <td>0 days 01:47:59</td>\n",
       "      <td>0 days 02:02:39</td>\n",
       "      <td>0 days 02:09:17</td>\n",
       "      <td>1</td>\n",
       "      <td>2015</td>\n",
       "    </tr>\n",
       "    <tr>\n",
       "      <th>1</th>\n",
       "      <td>Kirui, Geoffrey</td>\n",
       "      <td>M</td>\n",
       "      <td>24</td>\n",
       "      <td>KEN</td>\n",
       "      <td>Keringet</td>\n",
       "      <td>0 days 00:03:04.547244094</td>\n",
       "      <td>0 days 00:15:25</td>\n",
       "      <td>0 days 00:30:28</td>\n",
       "      <td>0 days 00:45:44</td>\n",
       "      <td>0 days 01:01:15</td>\n",
       "      <td>0 days 01:16:59</td>\n",
       "      <td>0 days 01:33:01</td>\n",
       "      <td>0 days 01:48:19</td>\n",
       "      <td>0 days 02:02:53</td>\n",
       "      <td>0 days 02:09:37</td>\n",
       "      <td>2</td>\n",
       "      <td>2017</td>\n",
       "    </tr>\n",
       "    <tr>\n",
       "      <th>2</th>\n",
       "      <td>Tsegay, Yemane Adhane</td>\n",
       "      <td>M</td>\n",
       "      <td>30</td>\n",
       "      <td>ETH</td>\n",
       "      <td>Addis Ababa</td>\n",
       "      <td>0 days 00:03:05.168615286</td>\n",
       "      <td>0 days 00:14:43</td>\n",
       "      <td>0 days 00:29:43</td>\n",
       "      <td>0 days 00:44:58</td>\n",
       "      <td>0 days 01:00:28</td>\n",
       "      <td>0 days 01:16:07</td>\n",
       "      <td>0 days 01:31:59</td>\n",
       "      <td>0 days 01:47:59</td>\n",
       "      <td>0 days 02:02:42</td>\n",
       "      <td>0 days 02:09:48</td>\n",
       "      <td>3</td>\n",
       "      <td>2015</td>\n",
       "    </tr>\n",
       "    <tr>\n",
       "      <th>3</th>\n",
       "      <td>Rupp, Galen</td>\n",
       "      <td>M</td>\n",
       "      <td>30</td>\n",
       "      <td>USA</td>\n",
       "      <td>Portland</td>\n",
       "      <td>0 days 00:03:05.168615286</td>\n",
       "      <td>0 days 00:15:24</td>\n",
       "      <td>0 days 00:30:27</td>\n",
       "      <td>0 days 00:45:44</td>\n",
       "      <td>0 days 01:01:15</td>\n",
       "      <td>0 days 01:16:59</td>\n",
       "      <td>0 days 01:33:01</td>\n",
       "      <td>0 days 01:48:19</td>\n",
       "      <td>0 days 02:03:14</td>\n",
       "      <td>0 days 02:09:58</td>\n",
       "      <td>4</td>\n",
       "      <td>2017</td>\n",
       "    </tr>\n",
       "    <tr>\n",
       "      <th>4</th>\n",
       "      <td>Chebet, Wilson</td>\n",
       "      <td>M</td>\n",
       "      <td>29</td>\n",
       "      <td>KEN</td>\n",
       "      <td>Marakwet</td>\n",
       "      <td>0 days 00:03:05.789986478</td>\n",
       "      <td>0 days 00:14:43</td>\n",
       "      <td>0 days 00:29:43</td>\n",
       "      <td>0 days 00:44:57</td>\n",
       "      <td>0 days 01:00:29</td>\n",
       "      <td>0 days 01:16:07</td>\n",
       "      <td>0 days 01:32:00</td>\n",
       "      <td>0 days 01:47:59</td>\n",
       "      <td>0 days 02:03:01</td>\n",
       "      <td>0 days 02:10:22</td>\n",
       "      <td>5</td>\n",
       "      <td>2015</td>\n",
       "    </tr>\n",
       "  </tbody>\n",
       "</table>\n",
       "</div>"
      ],
      "text/plain": [
       "                    Name M/F  Age Country         City  \\\n",
       "0         Desisa, Lelisa   M   25     ETH         Ambo   \n",
       "1        Kirui, Geoffrey   M   24     KEN     Keringet   \n",
       "2  Tsegay, Yemane Adhane   M   30     ETH  Addis Ababa   \n",
       "3            Rupp, Galen   M   30     USA     Portland   \n",
       "4         Chebet, Wilson   M   29     KEN     Marakwet   \n",
       "\n",
       "                       Pace              5K             10K             15K  \\\n",
       "0 0 days 00:03:03.925872902 0 days 00:14:43 0 days 00:29:43 0 days 00:44:57   \n",
       "1 0 days 00:03:04.547244094 0 days 00:15:25 0 days 00:30:28 0 days 00:45:44   \n",
       "2 0 days 00:03:05.168615286 0 days 00:14:43 0 days 00:29:43 0 days 00:44:58   \n",
       "3 0 days 00:03:05.168615286 0 days 00:15:24 0 days 00:30:27 0 days 00:45:44   \n",
       "4 0 days 00:03:05.789986478 0 days 00:14:43 0 days 00:29:43 0 days 00:44:57   \n",
       "\n",
       "              20K             25K             30K             35K  \\\n",
       "0 0 days 01:00:29 0 days 01:16:07 0 days 01:32:00 0 days 01:47:59   \n",
       "1 0 days 01:01:15 0 days 01:16:59 0 days 01:33:01 0 days 01:48:19   \n",
       "2 0 days 01:00:28 0 days 01:16:07 0 days 01:31:59 0 days 01:47:59   \n",
       "3 0 days 01:01:15 0 days 01:16:59 0 days 01:33:01 0 days 01:48:19   \n",
       "4 0 days 01:00:29 0 days 01:16:07 0 days 01:32:00 0 days 01:47:59   \n",
       "\n",
       "              40K   Official Time  Rank  Year  \n",
       "0 0 days 02:02:39 0 days 02:09:17     1  2015  \n",
       "1 0 days 02:02:53 0 days 02:09:37     2  2017  \n",
       "2 0 days 02:02:42 0 days 02:09:48     3  2015  \n",
       "3 0 days 02:03:14 0 days 02:09:58     4  2017  \n",
       "4 0 days 02:03:01 0 days 02:10:22     5  2015  "
      ]
     },
     "execution_count": 7,
     "metadata": {},
     "output_type": "execute_result"
    }
   ],
   "source": [
    "df.head()"
   ]
  },
  {
   "cell_type": "markdown",
   "id": "b71784a9-a03e-47a8-886c-4150f9c15cd0",
   "metadata": {},
   "source": [
    "### BASIC INFORMATION"
   ]
  },
  {
   "cell_type": "code",
   "execution_count": 51,
   "id": "df418379-fdf7-4e1d-94e7-de0c802e59e9",
   "metadata": {},
   "outputs": [
    {
     "name": "stdout",
     "output_type": "stream",
     "text": [
      "Number of participants: 79638\n"
     ]
    }
   ],
   "source": [
    "num_participants = len(df) # Number of participants\n",
    "print(f\"Number of participants: {num_participants}\")"
   ]
  },
  {
   "cell_type": "markdown",
   "id": "f97adb3f-c69e-48c4-ad2e-cff4f372dc3f",
   "metadata": {},
   "source": [
    "##### PARTICIPANT ATTRIBUTES\n",
    "The dataset contains the following attributes for each marathon participant:\n",
    "- Name, gender, age\n",
    "- Country and city\n",
    "- Split times at each 5K\n",
    "- Pace, official finish time, rank\n",
    "- Year of participation"
   ]
  },
  {
   "cell_type": "markdown",
   "id": "446d353d-52bb-40db-80a3-12b07a3d0ea1",
   "metadata": {},
   "source": [
    "### UNIVARIATE ANALYSIS"
   ]
  },
  {
   "cell_type": "markdown",
   "id": "08e8b65a-3830-496f-a5fd-e336fa980c4c",
   "metadata": {},
   "source": [
    "#### M/F"
   ]
  },
  {
   "cell_type": "code",
   "execution_count": 44,
   "id": "9e9dd236-ec61-4bc6-81f4-0728e83c7adc",
   "metadata": {},
   "outputs": [],
   "source": [
    "df_male = df[df['M/F'] == 'M'] # Dataframe with males only\n",
    "df_female = df[df['M/F'] == 'F'] # Dataframe with females only"
   ]
  },
  {
   "cell_type": "code",
   "execution_count": 57,
   "id": "61a17890-7c03-4b1b-81a6-2901e8fed702",
   "metadata": {},
   "outputs": [
    {
     "name": "stdout",
     "output_type": "stream",
     "text": [
      "Number of males: 43482\n",
      "Number of females: 36156\n"
     ]
    }
   ],
   "source": [
    "num_male = len(df_male) # Number of men\n",
    "num_female = len(df_female) # Number of women\n",
    "\n",
    "print(f\"Number of males: {num_male}\")\n",
    "print(f\"Number of females: {num_female}\")"
   ]
  },
  {
   "cell_type": "code",
   "execution_count": 71,
   "id": "b01f418d-870c-4239-8d73-e8cb1eb52922",
   "metadata": {},
   "outputs": [
    {
     "name": "stdout",
     "output_type": "stream",
     "text": [
      "Percent of males: 54.6\n",
      "Percent of females: 45.4\n",
      "100.0\n"
     ]
    }
   ],
   "source": [
    "percent_male = round((num_male / num_participants * 100),2) # Percent of males\n",
    "percent_female = round((num_female / num_participants * 100),2) # Percent of females\n",
    "\n",
    "print(f\"Percent of males: {percent_male}\")\n",
    "print(f\"Percent of females: {percent_female}\")\n",
    "print(percent_male + percent_female)"
   ]
  },
  {
   "cell_type": "code",
   "execution_count": null,
   "id": "3620ab1f-75bf-4c9b-ae43-7cfd0e63d900",
   "metadata": {},
   "outputs": [],
   "source": []
  }
 ],
 "metadata": {
  "kernelspec": {
   "display_name": "Python [conda env:base] *",
   "language": "python",
   "name": "conda-base-py"
  },
  "language_info": {
   "codemirror_mode": {
    "name": "ipython",
    "version": 3
   },
   "file_extension": ".py",
   "mimetype": "text/x-python",
   "name": "python",
   "nbconvert_exporter": "python",
   "pygments_lexer": "ipython3",
   "version": "3.12.7"
  }
 },
 "nbformat": 4,
 "nbformat_minor": 5
}
