{
 "cells": [
  {
   "cell_type": "markdown",
   "id": "502e1d07-97b7-4eca-b7f6-4145cc3be2ad",
   "metadata": {},
   "source": [
    "# PREPARE"
   ]
  },
  {
   "cell_type": "markdown",
   "id": "508d0c40-977f-4cc1-8ebf-db57eec46e44",
   "metadata": {},
   "source": [
    "## MODULES IMPORT"
   ]
  },
  {
   "cell_type": "code",
   "execution_count": 3,
   "id": "76e39634-86da-4a66-a6d5-90b439ede523",
   "metadata": {},
   "outputs": [],
   "source": [
    "import pandas as pd\n",
    "import numpy as np\n",
    "import matplotlib.pyplot as plt\n",
    "import math as math"
   ]
  },
  {
   "cell_type": "markdown",
   "id": "105e48d3-f3ab-4a90-83ec-e0cfc14c5a0f",
   "metadata": {},
   "source": [
    "## CLEAN DATA IMPORT"
   ]
  },
  {
   "cell_type": "code",
   "execution_count": 5,
   "id": "a0fc7ca8-7c38-4cdc-854b-3ca7ce81ff82",
   "metadata": {},
   "outputs": [],
   "source": [
    "df = pd.read_csv('./boston_clean.csv')"
   ]
  },
  {
   "cell_type": "markdown",
   "id": "f7beab9f-b220-4dd8-bed9-0c102043fade",
   "metadata": {},
   "source": [
    "### CHANGING TYPE OF COLUMNS THAT USING TIME AS VALUES"
   ]
  },
  {
   "cell_type": "code",
   "execution_count": 7,
   "id": "a7fdfbaf-4a6c-48f4-a48b-baa5c4b86e20",
   "metadata": {},
   "outputs": [],
   "source": [
    "time_columns = ['Pace', '5K', '10K', '15K', '20K', '25K', '30K', '35K', '40K', 'Official Time']\n",
    "df[time_columns] = df[time_columns].apply(lambda col: pd.to_timedelta(col, errors='coerce'))"
   ]
  },
  {
   "cell_type": "markdown",
   "id": "b71784a9-a03e-47a8-886c-4150f9c15cd0",
   "metadata": {},
   "source": [
    "# BASIC INFORMATION"
   ]
  },
  {
   "cell_type": "code",
   "execution_count": 9,
   "id": "df418379-fdf7-4e1d-94e7-de0c802e59e9",
   "metadata": {},
   "outputs": [
    {
     "name": "stdout",
     "output_type": "stream",
     "text": [
      "Number of participants: 79638\n"
     ]
    }
   ],
   "source": [
    "num_participants = len(df) # Number of participants\n",
    "print(f\"Number of participants: {num_participants}\")"
   ]
  },
  {
   "cell_type": "markdown",
   "id": "f97adb3f-c69e-48c4-ad2e-cff4f372dc3f",
   "metadata": {},
   "source": [
    "## PARTICIPANT ATTRIBUTES\n",
    "The dataset contains the following attributes for each marathon participant:\n",
    "- Name, gender, age\n",
    "- Country and city\n",
    "- Split times at each 5K\n",
    "- Pace, official finish time, rank\n",
    "- Year of participation"
   ]
  },
  {
   "cell_type": "markdown",
   "id": "446d353d-52bb-40db-80a3-12b07a3d0ea1",
   "metadata": {},
   "source": [
    "# UNIVARIATE ANALYSIS"
   ]
  },
  {
   "cell_type": "markdown",
   "id": "08e8b65a-3830-496f-a5fd-e336fa980c4c",
   "metadata": {},
   "source": [
    "## M/F"
   ]
  },
  {
   "cell_type": "code",
   "execution_count": 13,
   "id": "288b26c5-fb01-4719-8d3c-bde076753ec4",
   "metadata": {},
   "outputs": [],
   "source": [
    "gender = df['M/F']"
   ]
  },
  {
   "cell_type": "markdown",
   "id": "556a1bd3-e2de-44fb-aa81-561fb7f39059",
   "metadata": {},
   "source": [
    "### GENDER DISTRIBUTION "
   ]
  },
  {
   "cell_type": "markdown",
   "id": "653777fb-f6e6-4026-862e-88b4a2fd29f6",
   "metadata": {},
   "source": [
    "#### workshop"
   ]
  },
  {
   "cell_type": "code",
   "execution_count": 100,
   "id": "61a17890-7c03-4b1b-81a6-2901e8fed702",
   "metadata": {},
   "outputs": [],
   "source": [
    "df_male = df[gender == 'M'] # Dataframe with males only\n",
    "df_female = df[gender == 'F'] # Dataframe with females only\n",
    "\n",
    "num_male = len(df_male) # Number of men\n",
    "num_female = len(df_female) # Number of women\n",
    "\n",
    "percent_male = round((num_male / num_participants * 100),2) # Percent of males\n",
    "percent_female = round((num_female / num_participants * 100),2) # Percent of females"
   ]
  },
  {
   "cell_type": "markdown",
   "id": "cee85c91-46e4-4d20-863f-2cdfcd0049a2",
   "metadata": {},
   "source": [
    "#### RESULTS"
   ]
  },
  {
   "cell_type": "code",
   "execution_count": 19,
   "id": "b01f418d-870c-4239-8d73-e8cb1eb52922",
   "metadata": {},
   "outputs": [
    {
     "name": "stdout",
     "output_type": "stream",
     "text": [
      "Number of males: 43482\n",
      "Number of females: 36156\n",
      "Percent of males: 54.6\n",
      "Percent of females: 45.4\n"
     ]
    }
   ],
   "source": [
    "print(f\"Number of males: {num_male}\")\n",
    "print(f\"Number of females: {num_female}\")\n",
    "print(f\"Percent of males: {percent_male}\")\n",
    "print(f\"Percent of females: {percent_female}\")"
   ]
  },
  {
   "cell_type": "markdown",
   "id": "371b3fd0-ce38-42e2-a5ef-ce4f4b1866a4",
   "metadata": {},
   "source": [
    "## AGE"
   ]
  },
  {
   "cell_type": "code",
   "execution_count": 157,
   "id": "3105517f-d81a-4508-bc24-6b443ac80f8e",
   "metadata": {},
   "outputs": [],
   "source": [
    "age = df['Age'] # DataSeries with age"
   ]
  },
  {
   "cell_type": "markdown",
   "id": "d4857c9a-a968-48e7-923b-af29f547d307",
   "metadata": {},
   "source": [
    "### MIN, MAX, AVG, MED"
   ]
  },
  {
   "cell_type": "markdown",
   "id": "b98d887c-1c68-40b2-904b-f6d99921643f",
   "metadata": {},
   "source": [
    "#### workshop"
   ]
  },
  {
   "cell_type": "code",
   "execution_count": 24,
   "id": "7320b3d5-125a-4175-9036-dd8c0c55b711",
   "metadata": {},
   "outputs": [],
   "source": [
    "age_max = age.max() # Max age of participants\n",
    "age_min = age.min() # Min age of participants\n",
    "age_mean = round(age.mean(), 2) # Average age\n",
    "age_median = age.median() # Median age"
   ]
  },
  {
   "cell_type": "markdown",
   "id": "4952481e-0309-4daa-85cf-27bd745bcb6d",
   "metadata": {},
   "source": [
    "#### RESULTS"
   ]
  },
  {
   "cell_type": "code",
   "execution_count": 26,
   "id": "dcf2f648-fc8a-4cd8-ba6e-48ea73944dbc",
   "metadata": {},
   "outputs": [
    {
     "name": "stdout",
     "output_type": "stream",
     "text": [
      "Max age of participants: 84\n",
      "Min age of participants: 18\n",
      "Average age: 42.42\n",
      "Median age: 42.0\n"
     ]
    }
   ],
   "source": [
    "print(f\"Max age of participants: {age_max}\")\n",
    "print(f\"Min age of participants: {age_min}\")\n",
    "print(f\"Average age: {age_mean}\")\n",
    "print(f\"Median age: {age_median}\")"
   ]
  },
  {
   "cell_type": "markdown",
   "id": "f76d116a-a391-4312-8e15-aa3169a67403",
   "metadata": {},
   "source": [
    "### DISTRIBUTION OF AGE GROUPS"
   ]
  },
  {
   "cell_type": "code",
   "execution_count": 155,
   "id": "ac8f121d-7a39-4bb9-81b2-ec5f323a79e8",
   "metadata": {},
   "outputs": [],
   "source": [
    "age_groups = df['Age Group']"
   ]
  },
  {
   "cell_type": "markdown",
   "id": "0caf82b4-9bb8-47a7-9217-4470deb63b48",
   "metadata": {},
   "source": [
    "#### workshop"
   ]
  },
  {
   "cell_type": "code",
   "execution_count": 150,
   "id": "e399281b-653d-4cb0-8374-1e8ba890ea89",
   "metadata": {},
   "outputs": [],
   "source": [
    "# count of age groups\n",
    "age_groups_count = age_groups.value_counts().sort_index()\n",
    "# percentage of age groups\n",
    "age_groups_percent = round(age_groups.value_counts(normalize=True).sort_index() * 100, 2)\n",
    "# creating df to present results\n",
    "df_age_groups_dist = pd.concat([age_groups_count, age_groups_percent], axis=1)"
   ]
  },
  {
   "cell_type": "markdown",
   "id": "17a60df8-c085-4a12-bd36-1fdd4dd66fc6",
   "metadata": {},
   "source": [
    "#### RESULTS"
   ]
  },
  {
   "cell_type": "code",
   "execution_count": 153,
   "id": "ac4e461f-76dc-4c11-aafc-a73c62f65459",
   "metadata": {},
   "outputs": [
    {
     "name": "stdout",
     "output_type": "stream",
     "text": [
      "Percentage distribution of age groups:\n",
      "           count  proportion\n",
      "Age Group                   \n",
      "18–21        952        1.20\n",
      "22–25       4461        5.60\n",
      "26–29       7128        8.95\n",
      "30–33       7188        9.03\n",
      "34–37       8379       10.52\n",
      "38–41       9457       11.87\n",
      "42–45       9875       12.40\n",
      "46–49       9900       12.43\n",
      "50–53       8282       10.40\n",
      "54–57       6154        7.73\n",
      "58–61       4140        5.20\n",
      "62–65       2121        2.66\n",
      "66–69       1018        1.28\n",
      "70–84        583        0.73\n"
     ]
    }
   ],
   "source": [
    "print(f\"Percentage distribution of age groups:{'\\n'}{df_age_groups_dist}\")\n",
    "\n",
    "# RESULTS EXPORT\n",
    "df_age_groups_dist.to_csv('./export/age_groups_dist.csv')"
   ]
  },
  {
   "cell_type": "markdown",
   "id": "d01dbdc7-0936-47e2-9605-daa4c85fafef",
   "metadata": {},
   "source": [
    "## COUNTRY, CONTINENT"
   ]
  },
  {
   "cell_type": "code",
   "execution_count": 33,
   "id": "80d19048-47c0-41c8-b02c-77d08330e4e6",
   "metadata": {},
   "outputs": [],
   "source": [
    "country = df['Country']\n",
    "continent = df['Continent']"
   ]
  },
  {
   "cell_type": "markdown",
   "id": "486aa947-5e3e-4d7c-b5db-cc6d8f44e157",
   "metadata": {},
   "source": [
    "### COUNTRIES COUNT"
   ]
  },
  {
   "cell_type": "markdown",
   "id": "2ae7971f-cc52-483c-b5d6-1011bd2ef372",
   "metadata": {},
   "source": [
    "#### workshop"
   ]
  },
  {
   "cell_type": "code",
   "execution_count": 36,
   "id": "9b042ca1-fc79-415c-b4b3-339576d6c48b",
   "metadata": {},
   "outputs": [],
   "source": [
    "country_num = country.nunique() # number of countries"
   ]
  },
  {
   "cell_type": "markdown",
   "id": "48ae2d81-e3d6-492a-82e3-59d4b4828ff5",
   "metadata": {},
   "source": [
    "#### RESULTS"
   ]
  },
  {
   "cell_type": "code",
   "execution_count": 38,
   "id": "9abebdaa-9897-4965-8758-53b4ccce47cb",
   "metadata": {},
   "outputs": [
    {
     "name": "stdout",
     "output_type": "stream",
     "text": [
      "Number of countries in marathon: 105\n"
     ]
    }
   ],
   "source": [
    "print(f\"Number of countries in marathon: {country_num}\")"
   ]
  },
  {
   "cell_type": "markdown",
   "id": "00ad4b25-2389-4af7-99c4-5a4de582a7ab",
   "metadata": {},
   "source": [
    "### COUNTRIES AND CONTINENTS DISTRIBUTION"
   ]
  },
  {
   "cell_type": "markdown",
   "id": "741e039b-4cc7-456b-bca3-20208c871ef2",
   "metadata": {},
   "source": [
    "#### workshop"
   ]
  },
  {
   "cell_type": "code",
   "execution_count": 115,
   "id": "82fd179c-0511-4934-a3e9-0405619badab",
   "metadata": {},
   "outputs": [],
   "source": [
    "# countries\n",
    "country_count = country.value_counts()\n",
    "country_percent = round(country.value_counts(normalize=True) * 100, 1)\n",
    "# continents\n",
    "continent_count = continent.value_counts()\n",
    "continent_percent = round(continent.value_counts(normalize=True) * 100, 1)\n",
    "# creating df to present results\n",
    "df_country_dist = pd.concat([country_count, country_percent], axis=1)\n",
    "df_continent_dist = pd.concat([continent_count, continent_percent], axis=1)"
   ]
  },
  {
   "cell_type": "markdown",
   "id": "49378b89-d56e-41f5-a873-a1296d05137a",
   "metadata": {},
   "source": [
    "#### RESULTS"
   ]
  },
  {
   "cell_type": "code",
   "execution_count": 121,
   "id": "74cbb7aa-397d-4c01-b026-e5d556954bc1",
   "metadata": {},
   "outputs": [
    {
     "name": "stdout",
     "output_type": "stream",
     "text": [
      "Top 10 countries distribution:\n",
      "\n",
      "         count  proportion\n",
      "Country                   \n",
      "USA      64474        81.0\n",
      "CAN       6171         7.7\n",
      "GBR       1072         1.3\n",
      "MEX        768         1.0\n",
      "GER        573         0.7\n",
      "JPN        491         0.6\n",
      "AUS        475         0.6\n",
      "ITA        474         0.6\n",
      "CHN        430         0.5\n",
      "BRA        428         0.5\n",
      "\n",
      "\n",
      "Continents distribution:\n",
      "\n",
      "               count  proportion\n",
      "Continent                       \n",
      "North America  71701        90.0\n",
      "Europe          4499         5.6\n",
      "Asia            1772         2.2\n",
      "South America    971         1.2\n",
      "Oceania          554         0.7\n",
      "Africa           141         0.2\n"
     ]
    }
   ],
   "source": [
    "print(f\"Top 10 countries distribution:{'\\n'*2}{df_country_dist.head(10)}{'\\n'*2}\")\n",
    "print(f\"Continents distribution:{'\\n'*2}{df_continent_dist}\")\n",
    "\n",
    "# RESULTS EXPORT\n",
    "df_country_dist.to_csv('./export/country_dist.csv')\n",
    "df_continent_dist.to_csv('./export/continent_dist.csv')"
   ]
  },
  {
   "cell_type": "code",
   "execution_count": null,
   "id": "cd2d76e5-7439-45eb-a30a-4a3db5e97acc",
   "metadata": {},
   "outputs": [],
   "source": []
  }
 ],
 "metadata": {
  "kernelspec": {
   "display_name": "Python [conda env:base] *",
   "language": "python",
   "name": "conda-base-py"
  },
  "language_info": {
   "codemirror_mode": {
    "name": "ipython",
    "version": 3
   },
   "file_extension": ".py",
   "mimetype": "text/x-python",
   "name": "python",
   "nbconvert_exporter": "python",
   "pygments_lexer": "ipython3",
   "version": "3.12.7"
  }
 },
 "nbformat": 4,
 "nbformat_minor": 5
}
