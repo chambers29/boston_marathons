{
 "cells": [
  {
   "cell_type": "markdown",
   "id": "502e1d07-97b7-4eca-b7f6-4145cc3be2ad",
   "metadata": {},
   "source": [
    "# PREPARE"
   ]
  },
  {
   "cell_type": "markdown",
   "id": "508d0c40-977f-4cc1-8ebf-db57eec46e44",
   "metadata": {},
   "source": [
    "## MODULES IMPORT"
   ]
  },
  {
   "cell_type": "code",
   "execution_count": 3,
   "id": "76e39634-86da-4a66-a6d5-90b439ede523",
   "metadata": {},
   "outputs": [],
   "source": [
    "import pandas as pd\n",
    "import numpy as np\n",
    "import matplotlib.pyplot as plt\n",
    "import math as math\n",
    "import seaborn as sns"
   ]
  },
  {
   "cell_type": "markdown",
   "id": "105e48d3-f3ab-4a90-83ec-e0cfc14c5a0f",
   "metadata": {},
   "source": [
    "## CLEAN DATA IMPORT"
   ]
  },
  {
   "cell_type": "code",
   "execution_count": 5,
   "id": "a0fc7ca8-7c38-4cdc-854b-3ca7ce81ff82",
   "metadata": {},
   "outputs": [],
   "source": [
    "df = pd.read_csv('./boston_clean.csv')"
   ]
  },
  {
   "cell_type": "markdown",
   "id": "f7beab9f-b220-4dd8-bed9-0c102043fade",
   "metadata": {},
   "source": [
    "### CHANGING TYPE OF COLUMNS THAT USING TIME AS VALUES"
   ]
  },
  {
   "cell_type": "code",
   "execution_count": 7,
   "id": "a7fdfbaf-4a6c-48f4-a48b-baa5c4b86e20",
   "metadata": {},
   "outputs": [],
   "source": [
    "time_columns = ['Pace', '5K', '10K', '15K', '20K', '25K', '30K', '35K', '40K', 'Official Time']\n",
    "df[time_columns] = df[time_columns].apply(lambda col: pd.to_timedelta(col, errors='coerce'))"
   ]
  },
  {
   "cell_type": "markdown",
   "id": "b71784a9-a03e-47a8-886c-4150f9c15cd0",
   "metadata": {},
   "source": [
    "# BASIC INFORMATION"
   ]
  },
  {
   "cell_type": "code",
   "execution_count": 9,
   "id": "df418379-fdf7-4e1d-94e7-de0c802e59e9",
   "metadata": {},
   "outputs": [
    {
     "name": "stdout",
     "output_type": "stream",
     "text": [
      "Number of participants: 79638\n"
     ]
    }
   ],
   "source": [
    "num_participants = len(df) # number of participants\n",
    "print(f\"Number of participants: {num_participants}\")"
   ]
  },
  {
   "cell_type": "markdown",
   "id": "f97adb3f-c69e-48c4-ad2e-cff4f372dc3f",
   "metadata": {},
   "source": [
    "## PARTICIPANT ATTRIBUTES\n",
    "The dataset contains the following attributes for each marathon participant:\n",
    "- Name, gender, age\n",
    "- Country and city\n",
    "- Split times at each 5K\n",
    "- Pace, official finish time, rank\n",
    "- Year of participation"
   ]
  },
  {
   "cell_type": "markdown",
   "id": "446d353d-52bb-40db-80a3-12b07a3d0ea1",
   "metadata": {},
   "source": [
    "# UNIVARIATE ANALYSIS"
   ]
  },
  {
   "cell_type": "markdown",
   "id": "08e8b65a-3830-496f-a5fd-e336fa980c4c",
   "metadata": {},
   "source": [
    "## 1. M/F ---------------------------------"
   ]
  },
  {
   "cell_type": "code",
   "execution_count": 13,
   "id": "0b55e370-662b-430e-830f-8643f962e012",
   "metadata": {},
   "outputs": [],
   "source": [
    "gender = df['M/F']"
   ]
  },
  {
   "cell_type": "markdown",
   "id": "38a8a4b0-2219-4390-911f-04b009524a27",
   "metadata": {
    "jp-MarkdownHeadingCollapsed": true
   },
   "source": [
    "### M/F"
   ]
  },
  {
   "cell_type": "markdown",
   "id": "556a1bd3-e2de-44fb-aa81-561fb7f39059",
   "metadata": {},
   "source": [
    "#### M/F - lab"
   ]
  },
  {
   "cell_type": "code",
   "execution_count": 16,
   "id": "61a17890-7c03-4b1b-81a6-2901e8fed702",
   "metadata": {},
   "outputs": [
    {
     "data": {
      "text/html": [
       "<div>\n",
       "<style scoped>\n",
       "    .dataframe tbody tr th:only-of-type {\n",
       "        vertical-align: middle;\n",
       "    }\n",
       "\n",
       "    .dataframe tbody tr th {\n",
       "        vertical-align: top;\n",
       "    }\n",
       "\n",
       "    .dataframe thead th {\n",
       "        text-align: right;\n",
       "    }\n",
       "</style>\n",
       "<table border=\"1\" class=\"dataframe\">\n",
       "  <thead>\n",
       "    <tr style=\"text-align: right;\">\n",
       "      <th></th>\n",
       "      <th>count</th>\n",
       "      <th>proportion</th>\n",
       "    </tr>\n",
       "    <tr>\n",
       "      <th>M/F</th>\n",
       "      <th></th>\n",
       "      <th></th>\n",
       "    </tr>\n",
       "  </thead>\n",
       "  <tbody>\n",
       "    <tr>\n",
       "      <th>M</th>\n",
       "      <td>43482</td>\n",
       "      <td>54.6</td>\n",
       "    </tr>\n",
       "    <tr>\n",
       "      <th>F</th>\n",
       "      <td>36156</td>\n",
       "      <td>45.4</td>\n",
       "    </tr>\n",
       "  </tbody>\n",
       "</table>\n",
       "</div>"
      ],
      "text/plain": [
       "     count  proportion\n",
       "M/F                   \n",
       "M    43482        54.6\n",
       "F    36156        45.4"
      ]
     },
     "execution_count": 16,
     "metadata": {},
     "output_type": "execute_result"
    }
   ],
   "source": [
    "gender_count = gender.value_counts() # gender count\n",
    "gender_percent = round(gender.value_counts(normalize=True) * 100, 2) # gender percentage\n",
    "df_mf_dist = pd.concat([gender_count, gender_percent], axis=1) # gender count + percentage\n",
    "df_mf_dist"
   ]
  },
  {
   "cell_type": "markdown",
   "id": "cee85c91-46e4-4d20-863f-2cdfcd0049a2",
   "metadata": {},
   "source": [
    "#### M/F - export"
   ]
  },
  {
   "cell_type": "code",
   "execution_count": 18,
   "id": "b01f418d-870c-4239-8d73-e8cb1eb52922",
   "metadata": {},
   "outputs": [],
   "source": [
    "df_mf_dist.to_csv('./export/mf_dist.csv')"
   ]
  },
  {
   "cell_type": "markdown",
   "id": "99fcba17-ae52-41d8-9a96-9336490eb3e8",
   "metadata": {
    "jp-MarkdownHeadingCollapsed": true
   },
   "source": [
    "### M/F - visualization"
   ]
  },
  {
   "cell_type": "code",
   "execution_count": 20,
   "id": "c248ee92-7c95-4d43-a57f-807233c263ca",
   "metadata": {},
   "outputs": [
    {
     "data": {
      "image/png": "[encoded data removed]",
      "text/plain": [
       "<Figure size 640x480 with 1 Axes>"
      ]
     },
     "metadata": {},
     "output_type": "display_data"
    }
   ],
   "source": [
    "x = df_mf_dist['count']\n",
    "labels = df_mf_dist.index\n",
    "\n",
    "plt.pie(x=x, labels=labels, colors=['orange','gold'], startangle=90, autopct= lambda pct: f\"{round(pct/100*gender_count.sum())}\\n{pct:.1f}%\")\n",
    "plt.title('Gender distribution')\n",
    "plt.show()"
   ]
  },
  {
   "cell_type": "markdown",
   "id": "371b3fd0-ce38-42e2-a5ef-ce4f4b1866a4",
   "metadata": {},
   "source": [
    "## 2. AGE ---------------------------------"
   ]
  },
  {
   "cell_type": "code",
   "execution_count": 22,
   "id": "407d4079-5a01-4773-a976-0b3176da906e",
   "metadata": {},
   "outputs": [],
   "source": [
    "age = df['Age']"
   ]
  },
  {
   "cell_type": "markdown",
   "id": "cf9f5f9d-2491-40e5-aa30-bfac5de564f8",
   "metadata": {
    "jp-MarkdownHeadingCollapsed": true
   },
   "source": [
    "### AGE"
   ]
  },
  {
   "cell_type": "markdown",
   "id": "d4857c9a-a968-48e7-923b-af29f547d307",
   "metadata": {},
   "source": [
    "#### AGE - lab"
   ]
  },
  {
   "cell_type": "code",
   "execution_count": 25,
   "id": "7320b3d5-125a-4175-9036-dd8c0c55b711",
   "metadata": {},
   "outputs": [
    {
     "name": "stdout",
     "output_type": "stream",
     "text": [
      "Max age of participants: 84\n",
      "Min age of participants: 18\n",
      "Average age: 42.42\n",
      "Median age: 42.0\n"
     ]
    }
   ],
   "source": [
    "age_max = age.max() # max age \n",
    "age_min = age.min() # min age\n",
    "age_avg = round(age.mean(), 2) # average age\n",
    "age_med = age.median() # median age\n",
    "\n",
    "print(f\"Max age of participants: {age_max}\")\n",
    "print(f\"Min age of participants: {age_min}\")\n",
    "print(f\"Average age: {age_avg}\")\n",
    "print(f\"Median age: {age_med}\")"
   ]
  },
  {
   "cell_type": "markdown",
   "id": "4952481e-0309-4daa-85cf-27bd745bcb6d",
   "metadata": {},
   "source": [
    "#### AGE - export"
   ]
  },
  {
   "cell_type": "markdown",
   "id": "947fd9e7-f2ac-48bf-932c-85c0becce728",
   "metadata": {},
   "source": [
    "### AGE - visualization"
   ]
  },
  {
   "cell_type": "code",
   "execution_count": 310,
   "id": "31603067-45b5-41ca-b91e-967c4b5996f3",
   "metadata": {},
   "outputs": [
    {
     "data": {
      "image/png": "[encoded data removed]",
      "text/plain": [
       "<Figure size 1000x500 with 1 Axes>"
      ]
     },
     "metadata": {},
     "output_type": "display_data"
    }
   ],
   "source": [
    "plt.figure(figsize=(10,5))\n",
    "plt.hist(x=age, bins=67, color='orange')\n",
    "plt.grid(True, linestyle='--', alpha=0.7)\n",
    "plt.xlabel('Age')\n",
    "plt.ylabel('Quantity')\n",
    "plt.title('BOSTON MARATHON (2015, 2016, 2017)\\n\\nAge distribution')\n",
    "plt.show()"
   ]
  },
  {
   "cell_type": "markdown",
   "id": "f76d116a-a391-4312-8e15-aa3169a67403",
   "metadata": {
    "jp-MarkdownHeadingCollapsed": true
   },
   "source": [
    "### DISTRIBUTION OF AGE GROUPS"
   ]
  },
  {
   "cell_type": "code",
   "execution_count": 30,
   "id": "ac8f121d-7a39-4bb9-81b2-ec5f323a79e8",
   "metadata": {},
   "outputs": [],
   "source": [
    "age_groups = df['Age Group']"
   ]
  },
  {
   "cell_type": "markdown",
   "id": "0caf82b4-9bb8-47a7-9217-4470deb63b48",
   "metadata": {},
   "source": [
    "#### DISTRIBUTION OF AGE GROUPS - lab"
   ]
  },
  {
   "cell_type": "code",
   "execution_count": 32,
   "id": "e399281b-653d-4cb0-8374-1e8ba890ea89",
   "metadata": {},
   "outputs": [
    {
     "data": {
      "text/html": [
       "<div>\n",
       "<style scoped>\n",
       "    .dataframe tbody tr th:only-of-type {\n",
       "        vertical-align: middle;\n",
       "    }\n",
       "\n",
       "    .dataframe tbody tr th {\n",
       "        vertical-align: top;\n",
       "    }\n",
       "\n",
       "    .dataframe thead th {\n",
       "        text-align: right;\n",
       "    }\n",
       "</style>\n",
       "<table border=\"1\" class=\"dataframe\">\n",
       "  <thead>\n",
       "    <tr style=\"text-align: right;\">\n",
       "      <th></th>\n",
       "      <th>count</th>\n",
       "      <th>proportion</th>\n",
       "    </tr>\n",
       "    <tr>\n",
       "      <th>Age Group</th>\n",
       "      <th></th>\n",
       "      <th></th>\n",
       "    </tr>\n",
       "  </thead>\n",
       "  <tbody>\n",
       "    <tr>\n",
       "      <th>18–21</th>\n",
       "      <td>952</td>\n",
       "      <td>1.20</td>\n",
       "    </tr>\n",
       "    <tr>\n",
       "      <th>22–25</th>\n",
       "      <td>4461</td>\n",
       "      <td>5.60</td>\n",
       "    </tr>\n",
       "    <tr>\n",
       "      <th>26–29</th>\n",
       "      <td>7128</td>\n",
       "      <td>8.95</td>\n",
       "    </tr>\n",
       "    <tr>\n",
       "      <th>30–33</th>\n",
       "      <td>7188</td>\n",
       "      <td>9.03</td>\n",
       "    </tr>\n",
       "    <tr>\n",
       "      <th>34–37</th>\n",
       "      <td>8379</td>\n",
       "      <td>10.52</td>\n",
       "    </tr>\n",
       "    <tr>\n",
       "      <th>38–41</th>\n",
       "      <td>9457</td>\n",
       "      <td>11.87</td>\n",
       "    </tr>\n",
       "    <tr>\n",
       "      <th>42–45</th>\n",
       "      <td>9875</td>\n",
       "      <td>12.40</td>\n",
       "    </tr>\n",
       "    <tr>\n",
       "      <th>46–49</th>\n",
       "      <td>9900</td>\n",
       "      <td>12.43</td>\n",
       "    </tr>\n",
       "    <tr>\n",
       "      <th>50–53</th>\n",
       "      <td>8282</td>\n",
       "      <td>10.40</td>\n",
       "    </tr>\n",
       "    <tr>\n",
       "      <th>54–57</th>\n",
       "      <td>6154</td>\n",
       "      <td>7.73</td>\n",
       "    </tr>\n",
       "    <tr>\n",
       "      <th>58–61</th>\n",
       "      <td>4140</td>\n",
       "      <td>5.20</td>\n",
       "    </tr>\n",
       "    <tr>\n",
       "      <th>62–65</th>\n",
       "      <td>2121</td>\n",
       "      <td>2.66</td>\n",
       "    </tr>\n",
       "    <tr>\n",
       "      <th>66–69</th>\n",
       "      <td>1018</td>\n",
       "      <td>1.28</td>\n",
       "    </tr>\n",
       "    <tr>\n",
       "      <th>70–84</th>\n",
       "      <td>583</td>\n",
       "      <td>0.73</td>\n",
       "    </tr>\n",
       "  </tbody>\n",
       "</table>\n",
       "</div>"
      ],
      "text/plain": [
       "           count  proportion\n",
       "Age Group                   \n",
       "18–21        952        1.20\n",
       "22–25       4461        5.60\n",
       "26–29       7128        8.95\n",
       "30–33       7188        9.03\n",
       "34–37       8379       10.52\n",
       "38–41       9457       11.87\n",
       "42–45       9875       12.40\n",
       "46–49       9900       12.43\n",
       "50–53       8282       10.40\n",
       "54–57       6154        7.73\n",
       "58–61       4140        5.20\n",
       "62–65       2121        2.66\n",
       "66–69       1018        1.28\n",
       "70–84        583        0.73"
      ]
     },
     "execution_count": 32,
     "metadata": {},
     "output_type": "execute_result"
    }
   ],
   "source": [
    "# count of age groups\n",
    "age_groups_count = age_groups.value_counts().sort_index()\n",
    "\n",
    "# percentage of age groups\n",
    "age_groups_percent = round(age_groups.value_counts(normalize=True).sort_index() * 100, 2)\n",
    "\n",
    "# count and percentage\n",
    "df_age_groups_dist = pd.concat([age_groups_count, age_groups_percent], axis=1)\n",
    "df_age_groups_dist"
   ]
  },
  {
   "cell_type": "markdown",
   "id": "17a60df8-c085-4a12-bd36-1fdd4dd66fc6",
   "metadata": {},
   "source": [
    "#### DISTRIBUTION OF AGE GROUPS - export"
   ]
  },
  {
   "cell_type": "code",
   "execution_count": 34,
   "id": "ac4e461f-76dc-4c11-aafc-a73c62f65459",
   "metadata": {},
   "outputs": [],
   "source": [
    "df_age_groups_dist.to_csv('./export/age_groups_dist.csv')"
   ]
  },
  {
   "cell_type": "markdown",
   "id": "fd6e0cff-5785-4e6f-a170-05d7bbc94a54",
   "metadata": {},
   "source": [
    "### DISTRIBUTION OF AGE GROUPS - visualization"
   ]
  },
  {
   "cell_type": "code",
   "execution_count": 312,
   "id": "8647a47d-eca1-45ab-80d2-0b7059734840",
   "metadata": {},
   "outputs": [
    {
     "data": {
      "image/png": "[encoded data removed]",
      "text/plain": [
       "<Figure size 1000x500 with 1 Axes>"
      ]
     },
     "metadata": {},
     "output_type": "display_data"
    }
   ],
   "source": [
    "plt.figure(figsize=(10,5))\n",
    "\n",
    "for bar in plt.bar(df_age_groups_dist.index, df_age_groups_dist['count'], color='orange', edgecolor='gold'):\n",
    "    height = bar.get_height()\n",
    "    plt.text(bar.get_x() + bar.get_width()/2, height, str(height), ha='center', va='bottom')\n",
    "\n",
    "plt.grid(True, linestyle='--', alpha=0.7)\n",
    "plt.xticks(rotation=30)\n",
    "plt.xlabel('Age Group')\n",
    "plt.ylabel('Quantity')\n",
    "plt.title('BOSTON MARATHON (2015, 2016, 2017)\\n\\nGroup ages distribution')\n",
    "plt.show()"
   ]
  },
  {
   "cell_type": "markdown",
   "id": "d01dbdc7-0936-47e2-9605-daa4c85fafef",
   "metadata": {},
   "source": [
    "## 3. COUNTRY ---------------------------------"
   ]
  },
  {
   "cell_type": "code",
   "execution_count": 36,
   "id": "3182c457-0d3a-4b7a-a2f7-81973c345434",
   "metadata": {},
   "outputs": [],
   "source": [
    "country = df['Country']"
   ]
  },
  {
   "cell_type": "markdown",
   "id": "a15a1a19-c5b6-4251-8852-9a602cb73916",
   "metadata": {},
   "source": [
    "### COUNTRY"
   ]
  },
  {
   "cell_type": "markdown",
   "id": "00ad4b25-2389-4af7-99c4-5a4de582a7ab",
   "metadata": {},
   "source": [
    "#### COUNTRY - lab"
   ]
  },
  {
   "cell_type": "code",
   "execution_count": 39,
   "id": "845357dc-06d0-463e-8459-8a1839f82ac0",
   "metadata": {},
   "outputs": [
    {
     "name": "stdout",
     "output_type": "stream",
     "text": [
      "Number of countries: 105\n"
     ]
    },
    {
     "data": {
      "text/html": [
       "<div>\n",
       "<style scoped>\n",
       "    .dataframe tbody tr th:only-of-type {\n",
       "        vertical-align: middle;\n",
       "    }\n",
       "\n",
       "    .dataframe tbody tr th {\n",
       "        vertical-align: top;\n",
       "    }\n",
       "\n",
       "    .dataframe thead th {\n",
       "        text-align: right;\n",
       "    }\n",
       "</style>\n",
       "<table border=\"1\" class=\"dataframe\">\n",
       "  <thead>\n",
       "    <tr style=\"text-align: right;\">\n",
       "      <th></th>\n",
       "      <th>count</th>\n",
       "      <th>proportion</th>\n",
       "    </tr>\n",
       "    <tr>\n",
       "      <th>Country</th>\n",
       "      <th></th>\n",
       "      <th></th>\n",
       "    </tr>\n",
       "  </thead>\n",
       "  <tbody>\n",
       "    <tr>\n",
       "      <th>USA</th>\n",
       "      <td>64474</td>\n",
       "      <td>81.0</td>\n",
       "    </tr>\n",
       "    <tr>\n",
       "      <th>CAN</th>\n",
       "      <td>6171</td>\n",
       "      <td>7.7</td>\n",
       "    </tr>\n",
       "    <tr>\n",
       "      <th>GBR</th>\n",
       "      <td>1072</td>\n",
       "      <td>1.3</td>\n",
       "    </tr>\n",
       "    <tr>\n",
       "      <th>MEX</th>\n",
       "      <td>768</td>\n",
       "      <td>1.0</td>\n",
       "    </tr>\n",
       "    <tr>\n",
       "      <th>GER</th>\n",
       "      <td>573</td>\n",
       "      <td>0.7</td>\n",
       "    </tr>\n",
       "    <tr>\n",
       "      <th>JPN</th>\n",
       "      <td>491</td>\n",
       "      <td>0.6</td>\n",
       "    </tr>\n",
       "    <tr>\n",
       "      <th>AUS</th>\n",
       "      <td>475</td>\n",
       "      <td>0.6</td>\n",
       "    </tr>\n",
       "    <tr>\n",
       "      <th>ITA</th>\n",
       "      <td>474</td>\n",
       "      <td>0.6</td>\n",
       "    </tr>\n",
       "    <tr>\n",
       "      <th>CHN</th>\n",
       "      <td>430</td>\n",
       "      <td>0.5</td>\n",
       "    </tr>\n",
       "    <tr>\n",
       "      <th>BRA</th>\n",
       "      <td>428</td>\n",
       "      <td>0.5</td>\n",
       "    </tr>\n",
       "  </tbody>\n",
       "</table>\n",
       "</div>"
      ],
      "text/plain": [
       "         count  proportion\n",
       "Country                   \n",
       "USA      64474        81.0\n",
       "CAN       6171         7.7\n",
       "GBR       1072         1.3\n",
       "MEX        768         1.0\n",
       "GER        573         0.7\n",
       "JPN        491         0.6\n",
       "AUS        475         0.6\n",
       "ITA        474         0.6\n",
       "CHN        430         0.5\n",
       "BRA        428         0.5"
      ]
     },
     "execution_count": 39,
     "metadata": {},
     "output_type": "execute_result"
    }
   ],
   "source": [
    "# number of countries\n",
    "country_num = country.nunique() \n",
    "\n",
    "# count of every participant country\n",
    "country_count = country.value_counts() \n",
    "\n",
    "# count of every participant country in percentage\n",
    "country_percent = round(country.value_counts(normalize=True) * 100, 1) \n",
    "\n",
    "# every country count and percentage\n",
    "df_country_dist = pd.concat([country_count, country_percent], axis=1)\n",
    "\n",
    "print(f\"Number of countries: {country_num}\")\n",
    "df_country_dist.head(10)"
   ]
  },
  {
   "cell_type": "markdown",
   "id": "f7dbe730-4ede-40f5-9f55-614fe76676dc",
   "metadata": {},
   "source": [
    "#### COUNTRY - export"
   ]
  },
  {
   "cell_type": "code",
   "execution_count": 41,
   "id": "fd501578-f7ad-4de0-8c2d-876845789860",
   "metadata": {},
   "outputs": [],
   "source": [
    "df_country_dist.to_csv('./export/country_dist.csv')"
   ]
  },
  {
   "cell_type": "markdown",
   "id": "809115c0-8bc8-42e7-b2d6-4687a23f6c4d",
   "metadata": {
    "jp-MarkdownHeadingCollapsed": true
   },
   "source": [
    "### CONTINENT"
   ]
  },
  {
   "cell_type": "code",
   "execution_count": 43,
   "id": "ed539729-0c6f-4a10-b342-e5e50ef1c136",
   "metadata": {},
   "outputs": [],
   "source": [
    "continent = df['Continent']"
   ]
  },
  {
   "cell_type": "markdown",
   "id": "8bf42c3d-82cf-4796-88de-dbcef3330927",
   "metadata": {},
   "source": [
    "#### CONTINENT - lab"
   ]
  },
  {
   "cell_type": "code",
   "execution_count": 45,
   "id": "686eadba-a00f-439b-a898-6b25e107c31e",
   "metadata": {},
   "outputs": [
    {
     "data": {
      "text/html": [
       "<div>\n",
       "<style scoped>\n",
       "    .dataframe tbody tr th:only-of-type {\n",
       "        vertical-align: middle;\n",
       "    }\n",
       "\n",
       "    .dataframe tbody tr th {\n",
       "        vertical-align: top;\n",
       "    }\n",
       "\n",
       "    .dataframe thead th {\n",
       "        text-align: right;\n",
       "    }\n",
       "</style>\n",
       "<table border=\"1\" class=\"dataframe\">\n",
       "  <thead>\n",
       "    <tr style=\"text-align: right;\">\n",
       "      <th></th>\n",
       "      <th>count</th>\n",
       "      <th>proportion</th>\n",
       "    </tr>\n",
       "    <tr>\n",
       "      <th>Continent</th>\n",
       "      <th></th>\n",
       "      <th></th>\n",
       "    </tr>\n",
       "  </thead>\n",
       "  <tbody>\n",
       "    <tr>\n",
       "      <th>North America</th>\n",
       "      <td>71701</td>\n",
       "      <td>90.0</td>\n",
       "    </tr>\n",
       "    <tr>\n",
       "      <th>Europe</th>\n",
       "      <td>4499</td>\n",
       "      <td>5.6</td>\n",
       "    </tr>\n",
       "    <tr>\n",
       "      <th>Asia</th>\n",
       "      <td>1772</td>\n",
       "      <td>2.2</td>\n",
       "    </tr>\n",
       "    <tr>\n",
       "      <th>South America</th>\n",
       "      <td>971</td>\n",
       "      <td>1.2</td>\n",
       "    </tr>\n",
       "    <tr>\n",
       "      <th>Oceania</th>\n",
       "      <td>554</td>\n",
       "      <td>0.7</td>\n",
       "    </tr>\n",
       "    <tr>\n",
       "      <th>Africa</th>\n",
       "      <td>141</td>\n",
       "      <td>0.2</td>\n",
       "    </tr>\n",
       "  </tbody>\n",
       "</table>\n",
       "</div>"
      ],
      "text/plain": [
       "               count  proportion\n",
       "Continent                       \n",
       "North America  71701        90.0\n",
       "Europe          4499         5.6\n",
       "Asia            1772         2.2\n",
       "South America    971         1.2\n",
       "Oceania          554         0.7\n",
       "Africa           141         0.2"
      ]
     },
     "execution_count": 45,
     "metadata": {},
     "output_type": "execute_result"
    }
   ],
   "source": [
    "# participant count by continent from they are\n",
    "continent_count = continent.value_counts()\n",
    "\n",
    "# same but in percentage\n",
    "continent_percent = round(continent.value_counts(normalize=True) * 100, 1)\n",
    "\n",
    "# count + percentage\n",
    "df_continent_dist = pd.concat([continent_count, continent_percent], axis=1)\n",
    "df_continent_dist"
   ]
  },
  {
   "cell_type": "markdown",
   "id": "efa82ecc-a548-403d-a720-29e0ef1c8760",
   "metadata": {},
   "source": [
    "#### CONTINENT - export"
   ]
  },
  {
   "cell_type": "code",
   "execution_count": 47,
   "id": "885a504a-1bd8-4d47-975c-d46f541cf555",
   "metadata": {},
   "outputs": [],
   "source": [
    "df_continent_dist.to_csv('./export/continent_dist.csv')"
   ]
  },
  {
   "cell_type": "markdown",
   "id": "99542249-d307-4ff3-ba0c-b7d31a80e62b",
   "metadata": {
    "jp-MarkdownHeadingCollapsed": true
   },
   "source": [
    "## 4. TIME ---------------------------------"
   ]
  },
  {
   "cell_type": "markdown",
   "id": "94f1d430-16eb-4b71-9e47-faeec1d517fd",
   "metadata": {
    "jp-MarkdownHeadingCollapsed": true
   },
   "source": [
    "### OFFICIAL TIME"
   ]
  },
  {
   "cell_type": "code",
   "execution_count": 50,
   "id": "8bfd8165-bc01-429a-92e1-2388ef5fd661",
   "metadata": {},
   "outputs": [],
   "source": [
    "official_time = df['Official Time']"
   ]
  },
  {
   "cell_type": "markdown",
   "id": "b4b02843-3a31-42e7-a604-19f6326e239b",
   "metadata": {},
   "source": [
    "#### OFFICIAL TIME - lab"
   ]
  },
  {
   "cell_type": "code",
   "execution_count": 52,
   "id": "6746e2f6-c363-4e0f-97d7-2f7318a75049",
   "metadata": {},
   "outputs": [
    {
     "name": "stdout",
     "output_type": "stream",
     "text": [
      "OFFICIAL FINISH TIME STATISTICS\n",
      "Fastest time in marathon is: 02:09:17\n",
      "Longest time in marathon is: 10:30:23\n",
      "Average time in marathon is: 03:53:09\n",
      "Median time in marathon is: 03:46:32\n"
     ]
    }
   ],
   "source": [
    "# official finish time\n",
    "time_fastest = official_time.min()\n",
    "time_longest = official_time.max()\n",
    "time_avg = official_time.mean()\n",
    "time_med = official_time.median()\n",
    "\n",
    "print('OFFICIAL FINISH TIME STATISTICS')\n",
    "print(f\"Fastest time in marathon is: {str(time_fastest)[7:]}\")\n",
    "print(f\"Longest time in marathon is: {str(time_longest)[7:]}\")\n",
    "print(f\"Average time in marathon is: {str(time_avg)[7:15]}\")\n",
    "print(f\"Median time in marathon is: {str(time_med)[7:]}\")"
   ]
  },
  {
   "cell_type": "markdown",
   "id": "d2033413-c1a5-4ee4-9ebc-260032897f88",
   "metadata": {},
   "source": [
    "#### OFFICIAL TIME - export"
   ]
  },
  {
   "cell_type": "markdown",
   "id": "0eb4b82f-9c9b-4921-864c-82db64b60fbd",
   "metadata": {
    "jp-MarkdownHeadingCollapsed": true
   },
   "source": [
    "### PACE"
   ]
  },
  {
   "cell_type": "code",
   "execution_count": 55,
   "id": "d4dff47a-fe69-4a87-bd1e-d3eb6b4f6241",
   "metadata": {},
   "outputs": [],
   "source": [
    "pace = df['Pace'] "
   ]
  },
  {
   "cell_type": "markdown",
   "id": "558bb88a-24cb-4a76-aadc-3d9fb51d26f5",
   "metadata": {},
   "source": [
    "#### PACE - lab"
   ]
  },
  {
   "cell_type": "code",
   "execution_count": 57,
   "id": "f59208fb-6383-4ee7-a903-e73e4067d872",
   "metadata": {},
   "outputs": [
    {
     "name": "stdout",
     "output_type": "stream",
     "text": [
      "PACE STATISTICS\n",
      "Fastest pace in marathon is: 3:03.92 min/km\n",
      "Longest pace in marathon is: 15:13.41 min/km\n",
      "Average pace in marathon is: 5:31.86 min/km\n",
      "Median pace in marathon is: 5:22.49 min/km\n"
     ]
    }
   ],
   "source": [
    "# pace\n",
    "pace_fastest = pace.min()\n",
    "pace_longest = pace.max()\n",
    "pace_avg = pace.mean()\n",
    "pace_med = pace.median()\n",
    "\n",
    "print('PACE STATISTICS')\n",
    "print(f\"Fastest pace in marathon is: {str(pace_fastest)[11:18] + ' min/km'}\")\n",
    "print(f\"Longest pace in marathon is: {str(pace_longest)[10:18] + ' min/km'}\")\n",
    "print(f\"Average pace in marathon is: {str(pace_avg)[11:18] + ' min/km'}\")\n",
    "print(f\"Median pace in marathon is: {str(pace_med)[11:18] + ' min/km'}\")"
   ]
  },
  {
   "cell_type": "markdown",
   "id": "400d4455-20e7-4e37-8d8b-215cc945f6d8",
   "metadata": {},
   "source": [
    "#### PACE - export"
   ]
  },
  {
   "cell_type": "markdown",
   "id": "063179d7-fa31-4644-8678-8825d2cd6b18",
   "metadata": {},
   "source": [
    "# BIVARIATE ANALYSIS"
   ]
  },
  {
   "cell_type": "markdown",
   "id": "c3ad15ab-b1a4-4b5c-aa0d-8dd619ab1c50",
   "metadata": {
    "jp-MarkdownHeadingCollapsed": true
   },
   "source": [
    "## 1. MF X AGE ---------------------------------"
   ]
  },
  {
   "cell_type": "code",
   "execution_count": 61,
   "id": "109fcf37-0f56-46d9-8946-87c990d971b9",
   "metadata": {},
   "outputs": [],
   "source": [
    "df_gender_age = df[['M/F', 'Age', 'Age Group']]\n",
    "\n",
    "df_male_age = df_gender_age[df_gender_age['M/F'] == 'M']\n",
    "df_female_age = df_gender_age[df_gender_age['M/F'] == 'F']"
   ]
  },
  {
   "cell_type": "markdown",
   "id": "649ea954-df8a-441d-9a2f-47fbbefade53",
   "metadata": {
    "jp-MarkdownHeadingCollapsed": true
   },
   "source": [
    "### GENDER X AGE"
   ]
  },
  {
   "cell_type": "markdown",
   "id": "866101e5-2681-4a5f-a2bf-d0ba28345708",
   "metadata": {},
   "source": [
    "#### GENDER X AGE - lab"
   ]
  },
  {
   "cell_type": "code",
   "execution_count": 64,
   "id": "b78e0262-0fe6-4277-8dea-11538d0be1b4",
   "metadata": {},
   "outputs": [
    {
     "data": {
      "text/html": [
       "<div>\n",
       "<style scoped>\n",
       "    .dataframe tbody tr th:only-of-type {\n",
       "        vertical-align: middle;\n",
       "    }\n",
       "\n",
       "    .dataframe tbody tr th {\n",
       "        vertical-align: top;\n",
       "    }\n",
       "\n",
       "    .dataframe thead th {\n",
       "        text-align: right;\n",
       "    }\n",
       "</style>\n",
       "<table border=\"1\" class=\"dataframe\">\n",
       "  <thead>\n",
       "    <tr style=\"text-align: right;\">\n",
       "      <th></th>\n",
       "      <th>min_age</th>\n",
       "      <th>max_age</th>\n",
       "      <th>mean_age</th>\n",
       "      <th>median_age</th>\n",
       "    </tr>\n",
       "    <tr>\n",
       "      <th>M/F</th>\n",
       "      <th></th>\n",
       "      <th></th>\n",
       "      <th></th>\n",
       "      <th></th>\n",
       "    </tr>\n",
       "  </thead>\n",
       "  <tbody>\n",
       "    <tr>\n",
       "      <th>F</th>\n",
       "      <td>18</td>\n",
       "      <td>84</td>\n",
       "      <td>39.770577</td>\n",
       "      <td>40.0</td>\n",
       "    </tr>\n",
       "    <tr>\n",
       "      <th>M</th>\n",
       "      <td>18</td>\n",
       "      <td>83</td>\n",
       "      <td>44.614185</td>\n",
       "      <td>45.0</td>\n",
       "    </tr>\n",
       "  </tbody>\n",
       "</table>\n",
       "</div>"
      ],
      "text/plain": [
       "     min_age  max_age   mean_age  median_age\n",
       "M/F                                         \n",
       "F         18       84  39.770577        40.0\n",
       "M         18       83  44.614185        45.0"
      ]
     },
     "execution_count": 64,
     "metadata": {},
     "output_type": "execute_result"
    }
   ],
   "source": [
    "df_mfxage = df_gender_age.groupby(by='M/F')['Age'].agg(\n",
    "    min_age='min',\n",
    "    max_age='max',\n",
    "    mean_age='mean',\n",
    "    median_age='median')\n",
    "df_mfxage"
   ]
  },
  {
   "cell_type": "markdown",
   "id": "d9fbb183-de97-4a98-8605-a4a11c9946cd",
   "metadata": {},
   "source": [
    "#### GENDER X AGE - export"
   ]
  },
  {
   "cell_type": "code",
   "execution_count": 66,
   "id": "5364b62c-5a4c-4cd4-8c53-775c262b896c",
   "metadata": {},
   "outputs": [],
   "source": [
    "df_mfxage.to_csv('./export/mfxage.csv')"
   ]
  },
  {
   "cell_type": "markdown",
   "id": "5b763654-b13c-4f11-9029-e42a624b6d6a",
   "metadata": {
    "jp-MarkdownHeadingCollapsed": true
   },
   "source": [
    "### GENDER X AGE GROUPS"
   ]
  },
  {
   "cell_type": "markdown",
   "id": "89fb81e9-bcab-4ee2-8695-60885e159e00",
   "metadata": {},
   "source": [
    "#### GENDER X AGE GROUPS - lab"
   ]
  },
  {
   "cell_type": "code",
   "execution_count": 69,
   "id": "e84d6de9-052b-40a0-9c66-388393f947eb",
   "metadata": {},
   "outputs": [
    {
     "name": "stdout",
     "output_type": "stream",
     "text": [
      "male\n",
      "           count  proportion\n",
      "Age Group                   \n",
      "18–21        460        1.06\n",
      "22–25       1641        3.77\n",
      "26–29       2869        6.60\n",
      "30–33       3405        7.83\n",
      "34–37       4082        9.39\n",
      "38–41       4691       10.79\n",
      "42–45       5316       12.23\n",
      "46–49       5707       13.12\n",
      "50–53       5089       11.70\n",
      "54–57       4236        9.74\n",
      "58–61       3026        6.96\n",
      "62–65       1635        3.76\n",
      "66–69        828        1.90\n",
      "70–84        497        1.14\n",
      "\n",
      "female\n",
      "           count  proportion\n",
      "Age Group                   \n",
      "18–21        492        1.36\n",
      "22–25       2820        7.80\n",
      "26–29       4259       11.78\n",
      "30–33       3783       10.46\n",
      "34–37       4297       11.88\n",
      "38–41       4766       13.18\n",
      "42–45       4559       12.61\n",
      "46–49       4193       11.60\n",
      "50–53       3193        8.83\n",
      "54–57       1918        5.30\n",
      "58–61       1114        3.08\n",
      "62–65        486        1.34\n",
      "66–69        190        0.53\n",
      "70–84         86        0.24\n"
     ]
    }
   ],
   "source": [
    "# males\n",
    "male_age_groups_count = df_male_age['Age Group'].value_counts().sort_index()\n",
    "male_age_groups_percent = round(df_male_age['Age Group'].value_counts(normalize=True).sort_index() * 100,2)\n",
    "# females\n",
    "female_age_groups_count = df_female_age['Age Group'].value_counts().sort_index()\n",
    "female_age_groups_percent = round(df_female_age['Age Group'].value_counts(normalize=True).sort_index() * 100,2)\n",
    "# creating df to present results\n",
    "df_male_age_groups_dist = pd.concat([male_age_groups_count, male_age_groups_percent], axis=1)\n",
    "df_female_age_groups_dist = pd.concat([female_age_groups_count, female_age_groups_percent], axis=1)\n",
    "\n",
    "print('male')\n",
    "print(df_male_age_groups_dist)\n",
    "print('\\nfemale')\n",
    "print(df_female_age_groups_dist)"
   ]
  },
  {
   "cell_type": "markdown",
   "id": "a4e692bd-20f8-4000-b97c-3d248526f251",
   "metadata": {},
   "source": [
    "#### GENDER X AGE GROUPS - export"
   ]
  },
  {
   "cell_type": "code",
   "execution_count": 71,
   "id": "55e11adc-e31c-4191-ae88-7d5248b519b2",
   "metadata": {},
   "outputs": [],
   "source": [
    "df_male_age_groups_dist.to_csv('./export/mfxagegroups_male_dist.csv')\n",
    "df_female_age_groups_dist.to_csv('./export/mfxagegroups_female_dist.csv')"
   ]
  },
  {
   "cell_type": "markdown",
   "id": "4d6f0c86-842b-49a1-9bad-c0dd78c1ab56",
   "metadata": {
    "jp-MarkdownHeadingCollapsed": true
   },
   "source": [
    "## 2. MF X COUNTRY ---------------------------------"
   ]
  },
  {
   "cell_type": "code",
   "execution_count": 73,
   "id": "aebd56aa-cff9-4435-b580-ec57b2dab80c",
   "metadata": {},
   "outputs": [],
   "source": [
    "df_gender_country = df[['M/F', 'Country', 'Continent']]\n",
    "\n",
    "df_male_country = df_gender_country[df_gender_country['M/F'] == 'M']\n",
    "df_female_country = df_gender_country[df_gender_country['M/F'] == 'F']"
   ]
  },
  {
   "cell_type": "markdown",
   "id": "612b7c72-5ac3-4bf2-b2f3-d31817198061",
   "metadata": {
    "jp-MarkdownHeadingCollapsed": true
   },
   "source": [
    "### GENDER X COUNTRY"
   ]
  },
  {
   "cell_type": "markdown",
   "id": "3c3220d7-13ed-44ef-a288-cdb44e73f76c",
   "metadata": {},
   "source": [
    "#### GENDER X COUNTRY - lab"
   ]
  },
  {
   "cell_type": "code",
   "execution_count": 76,
   "id": "3873c0e1-7693-41b4-817b-0f38d2629a69",
   "metadata": {},
   "outputs": [
    {
     "name": "stdout",
     "output_type": "stream",
     "text": [
      "males country distribution:\n",
      "         count  proportion\n",
      "Country                   \n",
      "USA      33390       76.79\n",
      "CAN       3499        8.05\n",
      "GBR        707        1.63\n",
      "MEX        510        1.17\n",
      "GER        437        1.01\n",
      "ITA        378        0.87\n",
      "JPN        357        0.82\n",
      "CHN        307        0.71\n",
      "BRA        305        0.70\n",
      "AUS        294        0.68\n",
      "\n",
      "females country distribution:\n",
      "         count  proportion\n",
      "Country                   \n",
      "USA      31084       85.97\n",
      "CAN       2672        7.39\n",
      "GBR        365        1.01\n",
      "MEX        258        0.71\n",
      "AUS        181        0.50\n",
      "GER        136        0.38\n",
      "JPN        134        0.37\n",
      "BRA        123        0.34\n",
      "CHN        123        0.34\n",
      "ITA         96        0.27\n"
     ]
    }
   ],
   "source": [
    "# males\n",
    "male_country_count = df_male_country['Country'].value_counts()\n",
    "male_country_percent = round(df_male_country['Country'].value_counts(normalize=True) * 100, 2)\n",
    "# results df\n",
    "df_male_country_dist = pd.concat([male_country_count, male_country_percent], axis=1)\n",
    "\n",
    "# females\n",
    "female_country_count = df_female_country['Country'].value_counts()\n",
    "female_country_percent = round(df_female_country['Country'].value_counts(normalize=True) * 100, 2)\n",
    "# results df\n",
    "df_female_country_dist = pd.concat([female_country_count, female_country_percent], axis=1)\n",
    "\n",
    "print(f\"males country distribution:\\n{df_male_country_dist.head(10)}\\n\")\n",
    "print(f\"females country distribution:\\n{df_female_country_dist.head(10)}\")"
   ]
  },
  {
   "cell_type": "markdown",
   "id": "c9b8eb6d-31b9-46f4-8c52-8ea50c0dd21e",
   "metadata": {},
   "source": [
    "#### GENDER X COUNTRY - export"
   ]
  },
  {
   "cell_type": "code",
   "execution_count": 78,
   "id": "656b798a-210d-484b-9f8d-5853e5384f14",
   "metadata": {},
   "outputs": [],
   "source": [
    "df_male_country_dist.to_csv('./export/mfxcountry_male_dist.csv')\n",
    "df_female_country_dist.to_csv('./export/mfxcountry_female_dist.csv')"
   ]
  },
  {
   "cell_type": "markdown",
   "id": "b3ec4867-2a58-41c1-b571-592a9fbc9527",
   "metadata": {
    "jp-MarkdownHeadingCollapsed": true
   },
   "source": [
    "### GENDER X CONTINENT"
   ]
  },
  {
   "cell_type": "markdown",
   "id": "e48afad5-8313-499e-8048-3c54bcbc7a32",
   "metadata": {},
   "source": [
    "#### GENDER X CONTINENT - lab"
   ]
  },
  {
   "cell_type": "code",
   "execution_count": 81,
   "id": "45739f96-f122-44f6-8741-286ad5cd3cb7",
   "metadata": {},
   "outputs": [
    {
     "name": "stdout",
     "output_type": "stream",
     "text": [
      "male\n",
      "               count  proportion\n",
      "Continent                       \n",
      "North America  37577       86.42\n",
      "Europe          3425        7.88\n",
      "Asia            1332        3.06\n",
      "South America    713        1.64\n",
      "Oceania          345        0.79\n",
      "Africa            90        0.21\n",
      "\n",
      "female\n",
      "               count  proportion\n",
      "Continent                       \n",
      "North America  34124       94.38\n",
      "Europe          1074        2.97\n",
      "Asia             440        1.22\n",
      "South America    258        0.71\n",
      "Oceania          209        0.58\n",
      "Africa            51        0.14\n"
     ]
    }
   ],
   "source": [
    "# males\n",
    "male_continent_count = df_male_country['Continent'].value_counts()\n",
    "male_continent_percent = round(df_male_country['Continent'].value_counts(normalize=True) * 100, 2)\n",
    "# results df\n",
    "df_male_continent_dist = pd.concat([male_continent_count, male_continent_percent], axis=1)\n",
    "\n",
    "# females\n",
    "female_continent_count = df_female_country['Continent'].value_counts()\n",
    "female_continent_percent = round(df_female_country['Continent'].value_counts(normalize=True) * 100, 2)\n",
    "# results df\n",
    "df_female_continent_dist = pd.concat([female_continent_count, female_continent_percent], axis=1)\n",
    "\n",
    "print('male')\n",
    "print(df_male_continent_dist)\n",
    "print('\\nfemale')\n",
    "print(df_female_continent_dist)"
   ]
  },
  {
   "cell_type": "markdown",
   "id": "f56db70d-6307-4d7d-8865-9664b6ffa359",
   "metadata": {},
   "source": [
    "#### GENDER X CONTINENT - export"
   ]
  },
  {
   "cell_type": "code",
   "execution_count": 83,
   "id": "94d8f0b8-10a5-4833-b64b-a7bbdd88e90a",
   "metadata": {},
   "outputs": [],
   "source": [
    "df_male_continent_dist.to_csv('./export/mfxcontinent_male_dist.csv')\n",
    "df_female_continent_dist.to_csv('./export/mfxcontinent_female_dist.csv')"
   ]
  },
  {
   "cell_type": "markdown",
   "id": "93e344e1-129e-44ab-936f-2b98fac227e1",
   "metadata": {
    "jp-MarkdownHeadingCollapsed": true
   },
   "source": [
    "## 3. MF X TIME ---------------------------------"
   ]
  },
  {
   "cell_type": "code",
   "execution_count": 85,
   "id": "4bf17a0b-7dd1-420a-b194-a544b6b200b9",
   "metadata": {},
   "outputs": [],
   "source": [
    "df_gender_time = df[['M/F', 'Pace', 'Official Time']]"
   ]
  },
  {
   "cell_type": "markdown",
   "id": "aa605559-5c43-47f5-84a5-7d3fc460a70d",
   "metadata": {
    "jp-MarkdownHeadingCollapsed": true
   },
   "source": [
    "### GENDER X OFFICIAL TIME"
   ]
  },
  {
   "cell_type": "markdown",
   "id": "299a7d6b-1b19-44f1-8685-0b490f3f526a",
   "metadata": {},
   "source": [
    "#### GENDER X OFFICIAL TIME - lab"
   ]
  },
  {
   "cell_type": "code",
   "execution_count": 88,
   "id": "03a45bcd-01ca-40ed-b839-efa03bf8f01a",
   "metadata": {},
   "outputs": [
    {
     "data": {
      "text/html": [
       "<div>\n",
       "<style scoped>\n",
       "    .dataframe tbody tr th:only-of-type {\n",
       "        vertical-align: middle;\n",
       "    }\n",
       "\n",
       "    .dataframe tbody tr th {\n",
       "        vertical-align: top;\n",
       "    }\n",
       "\n",
       "    .dataframe thead th {\n",
       "        text-align: right;\n",
       "    }\n",
       "</style>\n",
       "<table border=\"1\" class=\"dataframe\">\n",
       "  <thead>\n",
       "    <tr style=\"text-align: right;\">\n",
       "      <th></th>\n",
       "      <th>min_time</th>\n",
       "      <th>max_time</th>\n",
       "      <th>mean_time</th>\n",
       "      <th>median_time</th>\n",
       "    </tr>\n",
       "    <tr>\n",
       "      <th>M/F</th>\n",
       "      <th></th>\n",
       "      <th></th>\n",
       "      <th></th>\n",
       "      <th></th>\n",
       "    </tr>\n",
       "  </thead>\n",
       "  <tbody>\n",
       "    <tr>\n",
       "      <th>F</th>\n",
       "      <td>0 days 02:21:52</td>\n",
       "      <td>0 days 10:30:23</td>\n",
       "      <td>0 days 04:04:27.026385662</td>\n",
       "      <td>0 days 03:55:38</td>\n",
       "    </tr>\n",
       "    <tr>\n",
       "      <th>M</th>\n",
       "      <td>0 days 02:09:17</td>\n",
       "      <td>0 days 08:25:09</td>\n",
       "      <td>0 days 03:43:46.911664596</td>\n",
       "      <td>0 days 03:35:17</td>\n",
       "    </tr>\n",
       "  </tbody>\n",
       "</table>\n",
       "</div>"
      ],
      "text/plain": [
       "           min_time        max_time                 mean_time     median_time\n",
       "M/F                                                                          \n",
       "F   0 days 02:21:52 0 days 10:30:23 0 days 04:04:27.026385662 0 days 03:55:38\n",
       "M   0 days 02:09:17 0 days 08:25:09 0 days 03:43:46.911664596 0 days 03:35:17"
      ]
     },
     "execution_count": 88,
     "metadata": {},
     "output_type": "execute_result"
    }
   ],
   "source": [
    "df_gender_officialtime = df_gender_time.groupby(by='M/F')['Official Time'].agg(\n",
    "    min_time='min',\n",
    "    max_time='max',\n",
    "    mean_time='mean',\n",
    "    median_time='median')\n",
    "df_gender_officialtime"
   ]
  },
  {
   "cell_type": "markdown",
   "id": "b44b00f1-cfe6-4b8f-89b9-80a8d542a167",
   "metadata": {},
   "source": [
    "#### GENDER X OFFICIAL TIME - export"
   ]
  },
  {
   "cell_type": "code",
   "execution_count": 90,
   "id": "f9d54b44-efc5-4ffb-a503-2fa522df542e",
   "metadata": {},
   "outputs": [],
   "source": [
    "df_gender_officialtime.to_csv('./export/mfxofficialtime.csv')"
   ]
  },
  {
   "cell_type": "markdown",
   "id": "cf0d9d9d-457e-486b-ae11-98b7c17c110f",
   "metadata": {
    "jp-MarkdownHeadingCollapsed": true
   },
   "source": [
    "### GENDER X PACE"
   ]
  },
  {
   "cell_type": "markdown",
   "id": "6c9fd42d-3db8-4e8b-bb54-6c283ab7f87c",
   "metadata": {},
   "source": [
    "#### GENDER X PACE - lab"
   ]
  },
  {
   "cell_type": "code",
   "execution_count": 93,
   "id": "15264e3d-3944-441a-bcfe-4f49190a64da",
   "metadata": {},
   "outputs": [
    {
     "data": {
      "text/html": [
       "<div>\n",
       "<style scoped>\n",
       "    .dataframe tbody tr th:only-of-type {\n",
       "        vertical-align: middle;\n",
       "    }\n",
       "\n",
       "    .dataframe tbody tr th {\n",
       "        vertical-align: top;\n",
       "    }\n",
       "\n",
       "    .dataframe thead th {\n",
       "        text-align: right;\n",
       "    }\n",
       "</style>\n",
       "<table border=\"1\" class=\"dataframe\">\n",
       "  <thead>\n",
       "    <tr style=\"text-align: right;\">\n",
       "      <th></th>\n",
       "      <th>min_time</th>\n",
       "      <th>max_time</th>\n",
       "      <th>mean_time</th>\n",
       "      <th>median_time</th>\n",
       "    </tr>\n",
       "    <tr>\n",
       "      <th>M/F</th>\n",
       "      <th></th>\n",
       "      <th></th>\n",
       "      <th></th>\n",
       "      <th></th>\n",
       "    </tr>\n",
       "  </thead>\n",
       "  <tbody>\n",
       "    <tr>\n",
       "      <th>F</th>\n",
       "      <td>0 days 00:03:21.945637477</td>\n",
       "      <td>0 days 00:15:13.415652588</td>\n",
       "      <td>0 days 00:05:47.907992189</td>\n",
       "      <td>0 days 00:05:35.540443808</td>\n",
       "    </tr>\n",
       "    <tr>\n",
       "      <th>M</th>\n",
       "      <td>0 days 00:03:03.925872902</td>\n",
       "      <td>0 days 00:12:18.188976377</td>\n",
       "      <td>0 days 00:05:18.526788399</td>\n",
       "      <td>0 days 00:05:06.335997773</td>\n",
       "    </tr>\n",
       "  </tbody>\n",
       "</table>\n",
       "</div>"
      ],
      "text/plain": [
       "                     min_time                  max_time  \\\n",
       "M/F                                                       \n",
       "F   0 days 00:03:21.945637477 0 days 00:15:13.415652588   \n",
       "M   0 days 00:03:03.925872902 0 days 00:12:18.188976377   \n",
       "\n",
       "                    mean_time               median_time  \n",
       "M/F                                                      \n",
       "F   0 days 00:05:47.907992189 0 days 00:05:35.540443808  \n",
       "M   0 days 00:05:18.526788399 0 days 00:05:06.335997773  "
      ]
     },
     "execution_count": 93,
     "metadata": {},
     "output_type": "execute_result"
    }
   ],
   "source": [
    "df_gender_pace = df_gender_time.groupby(by='M/F')['Pace'].agg(\n",
    "    min_time='min',\n",
    "    max_time='max',\n",
    "    mean_time='mean',\n",
    "    median_time='median')\n",
    "df_gender_pace"
   ]
  },
  {
   "cell_type": "markdown",
   "id": "c2939982-7277-4ef3-8913-965813811730",
   "metadata": {},
   "source": [
    "#### GENDER X PACE - export"
   ]
  },
  {
   "cell_type": "code",
   "execution_count": 95,
   "id": "2737e468-f051-43e5-8bc2-f83411d6acdf",
   "metadata": {},
   "outputs": [],
   "source": [
    "df_gender_pace.to_csv('./export/mfxpace.csv')"
   ]
  },
  {
   "cell_type": "markdown",
   "id": "b0a7a7b3-236b-4d69-bddd-a6c75b29ba7a",
   "metadata": {
    "jp-MarkdownHeadingCollapsed": true
   },
   "source": [
    "## 4. CONTINENT X AGE ---------------------------------"
   ]
  },
  {
   "cell_type": "code",
   "execution_count": 97,
   "id": "e96d8eac-ea4d-4596-adbe-b4bf53049d98",
   "metadata": {},
   "outputs": [],
   "source": [
    "df_continent_age = df[['Continent', 'Country', 'Age', 'Age Group']]"
   ]
  },
  {
   "cell_type": "markdown",
   "id": "bc270c3e-345b-4537-b55a-01435ccb06b6",
   "metadata": {
    "jp-MarkdownHeadingCollapsed": true
   },
   "source": [
    "### CONTINENT X AGE"
   ]
  },
  {
   "cell_type": "markdown",
   "id": "55a980d2-1e4f-42b5-9fe0-74e2e07ca420",
   "metadata": {},
   "source": [
    "#### CONTINENT X AGE - lab"
   ]
  },
  {
   "cell_type": "code",
   "execution_count": 100,
   "id": "8f3387dc-2a83-4001-887d-1116636e5f33",
   "metadata": {},
   "outputs": [
    {
     "data": {
      "text/html": [
       "<div>\n",
       "<style scoped>\n",
       "    .dataframe tbody tr th:only-of-type {\n",
       "        vertical-align: middle;\n",
       "    }\n",
       "\n",
       "    .dataframe tbody tr th {\n",
       "        vertical-align: top;\n",
       "    }\n",
       "\n",
       "    .dataframe thead th {\n",
       "        text-align: right;\n",
       "    }\n",
       "</style>\n",
       "<table border=\"1\" class=\"dataframe\">\n",
       "  <thead>\n",
       "    <tr style=\"text-align: right;\">\n",
       "      <th></th>\n",
       "      <th>min_age</th>\n",
       "      <th>max_age</th>\n",
       "      <th>mean_age</th>\n",
       "      <th>median_age</th>\n",
       "    </tr>\n",
       "    <tr>\n",
       "      <th>Continent</th>\n",
       "      <th></th>\n",
       "      <th></th>\n",
       "      <th></th>\n",
       "      <th></th>\n",
       "    </tr>\n",
       "  </thead>\n",
       "  <tbody>\n",
       "    <tr>\n",
       "      <th>Africa</th>\n",
       "      <td>19</td>\n",
       "      <td>64</td>\n",
       "      <td>39.503546</td>\n",
       "      <td>37.0</td>\n",
       "    </tr>\n",
       "    <tr>\n",
       "      <th>Asia</th>\n",
       "      <td>19</td>\n",
       "      <td>81</td>\n",
       "      <td>48.676072</td>\n",
       "      <td>48.0</td>\n",
       "    </tr>\n",
       "    <tr>\n",
       "      <th>Europe</th>\n",
       "      <td>19</td>\n",
       "      <td>78</td>\n",
       "      <td>45.880418</td>\n",
       "      <td>46.0</td>\n",
       "    </tr>\n",
       "    <tr>\n",
       "      <th>North America</th>\n",
       "      <td>18</td>\n",
       "      <td>84</td>\n",
       "      <td>41.999944</td>\n",
       "      <td>42.0</td>\n",
       "    </tr>\n",
       "    <tr>\n",
       "      <th>Oceania</th>\n",
       "      <td>22</td>\n",
       "      <td>72</td>\n",
       "      <td>45.050542</td>\n",
       "      <td>45.0</td>\n",
       "    </tr>\n",
       "    <tr>\n",
       "      <th>South America</th>\n",
       "      <td>20</td>\n",
       "      <td>77</td>\n",
       "      <td>44.513903</td>\n",
       "      <td>44.0</td>\n",
       "    </tr>\n",
       "  </tbody>\n",
       "</table>\n",
       "</div>"
      ],
      "text/plain": [
       "               min_age  max_age   mean_age  median_age\n",
       "Continent                                             \n",
       "Africa              19       64  39.503546        37.0\n",
       "Asia                19       81  48.676072        48.0\n",
       "Europe              19       78  45.880418        46.0\n",
       "North America       18       84  41.999944        42.0\n",
       "Oceania             22       72  45.050542        45.0\n",
       "South America       20       77  44.513903        44.0"
      ]
     },
     "execution_count": 100,
     "metadata": {},
     "output_type": "execute_result"
    }
   ],
   "source": [
    "continent_age = df_continent_age.groupby(by='Continent')['Age'].agg(\n",
    "    min_age='min',\n",
    "    max_age='max',\n",
    "    mean_age='mean',\n",
    "    median_age='median')\n",
    "continent_age"
   ]
  },
  {
   "cell_type": "code",
   "execution_count": 101,
   "id": "265e63d7-3bd6-41a0-97ff-e7e215580293",
   "metadata": {},
   "outputs": [
    {
     "data": {
      "text/html": [
       "<div>\n",
       "<style scoped>\n",
       "    .dataframe tbody tr th:only-of-type {\n",
       "        vertical-align: middle;\n",
       "    }\n",
       "\n",
       "    .dataframe tbody tr th {\n",
       "        vertical-align: top;\n",
       "    }\n",
       "\n",
       "    .dataframe thead th {\n",
       "        text-align: right;\n",
       "    }\n",
       "</style>\n",
       "<table border=\"1\" class=\"dataframe\">\n",
       "  <thead>\n",
       "    <tr style=\"text-align: right;\">\n",
       "      <th>Age</th>\n",
       "      <th>18</th>\n",
       "      <th>19</th>\n",
       "      <th>20</th>\n",
       "      <th>21</th>\n",
       "      <th>22</th>\n",
       "      <th>23</th>\n",
       "      <th>24</th>\n",
       "      <th>25</th>\n",
       "      <th>26</th>\n",
       "      <th>27</th>\n",
       "      <th>...</th>\n",
       "      <th>75</th>\n",
       "      <th>76</th>\n",
       "      <th>77</th>\n",
       "      <th>78</th>\n",
       "      <th>79</th>\n",
       "      <th>80</th>\n",
       "      <th>81</th>\n",
       "      <th>82</th>\n",
       "      <th>83</th>\n",
       "      <th>84</th>\n",
       "    </tr>\n",
       "    <tr>\n",
       "      <th>Continent</th>\n",
       "      <th></th>\n",
       "      <th></th>\n",
       "      <th></th>\n",
       "      <th></th>\n",
       "      <th></th>\n",
       "      <th></th>\n",
       "      <th></th>\n",
       "      <th></th>\n",
       "      <th></th>\n",
       "      <th></th>\n",
       "      <th></th>\n",
       "      <th></th>\n",
       "      <th></th>\n",
       "      <th></th>\n",
       "      <th></th>\n",
       "      <th></th>\n",
       "      <th></th>\n",
       "      <th></th>\n",
       "      <th></th>\n",
       "      <th></th>\n",
       "      <th></th>\n",
       "    </tr>\n",
       "  </thead>\n",
       "  <tbody>\n",
       "    <tr>\n",
       "      <th>Africa</th>\n",
       "      <td>0</td>\n",
       "      <td>1</td>\n",
       "      <td>1</td>\n",
       "      <td>1</td>\n",
       "      <td>0</td>\n",
       "      <td>4</td>\n",
       "      <td>4</td>\n",
       "      <td>3</td>\n",
       "      <td>2</td>\n",
       "      <td>4</td>\n",
       "      <td>...</td>\n",
       "      <td>0</td>\n",
       "      <td>0</td>\n",
       "      <td>0</td>\n",
       "      <td>0</td>\n",
       "      <td>0</td>\n",
       "      <td>0</td>\n",
       "      <td>0</td>\n",
       "      <td>0</td>\n",
       "      <td>0</td>\n",
       "      <td>0</td>\n",
       "    </tr>\n",
       "    <tr>\n",
       "      <th>Asia</th>\n",
       "      <td>0</td>\n",
       "      <td>1</td>\n",
       "      <td>0</td>\n",
       "      <td>1</td>\n",
       "      <td>3</td>\n",
       "      <td>3</td>\n",
       "      <td>6</td>\n",
       "      <td>7</td>\n",
       "      <td>5</td>\n",
       "      <td>7</td>\n",
       "      <td>...</td>\n",
       "      <td>4</td>\n",
       "      <td>3</td>\n",
       "      <td>3</td>\n",
       "      <td>2</td>\n",
       "      <td>2</td>\n",
       "      <td>3</td>\n",
       "      <td>1</td>\n",
       "      <td>0</td>\n",
       "      <td>0</td>\n",
       "      <td>0</td>\n",
       "    </tr>\n",
       "    <tr>\n",
       "      <th>Europe</th>\n",
       "      <td>0</td>\n",
       "      <td>1</td>\n",
       "      <td>1</td>\n",
       "      <td>7</td>\n",
       "      <td>5</td>\n",
       "      <td>10</td>\n",
       "      <td>12</td>\n",
       "      <td>19</td>\n",
       "      <td>28</td>\n",
       "      <td>34</td>\n",
       "      <td>...</td>\n",
       "      <td>2</td>\n",
       "      <td>4</td>\n",
       "      <td>1</td>\n",
       "      <td>1</td>\n",
       "      <td>0</td>\n",
       "      <td>0</td>\n",
       "      <td>0</td>\n",
       "      <td>0</td>\n",
       "      <td>0</td>\n",
       "      <td>0</td>\n",
       "    </tr>\n",
       "    <tr>\n",
       "      <th>North America</th>\n",
       "      <td>62</td>\n",
       "      <td>134</td>\n",
       "      <td>261</td>\n",
       "      <td>480</td>\n",
       "      <td>692</td>\n",
       "      <td>899</td>\n",
       "      <td>1276</td>\n",
       "      <td>1502</td>\n",
       "      <td>1667</td>\n",
       "      <td>1700</td>\n",
       "      <td>...</td>\n",
       "      <td>32</td>\n",
       "      <td>21</td>\n",
       "      <td>14</td>\n",
       "      <td>12</td>\n",
       "      <td>5</td>\n",
       "      <td>9</td>\n",
       "      <td>4</td>\n",
       "      <td>4</td>\n",
       "      <td>3</td>\n",
       "      <td>1</td>\n",
       "    </tr>\n",
       "    <tr>\n",
       "      <th>Oceania</th>\n",
       "      <td>0</td>\n",
       "      <td>0</td>\n",
       "      <td>0</td>\n",
       "      <td>0</td>\n",
       "      <td>1</td>\n",
       "      <td>1</td>\n",
       "      <td>1</td>\n",
       "      <td>4</td>\n",
       "      <td>3</td>\n",
       "      <td>5</td>\n",
       "      <td>...</td>\n",
       "      <td>0</td>\n",
       "      <td>0</td>\n",
       "      <td>0</td>\n",
       "      <td>0</td>\n",
       "      <td>0</td>\n",
       "      <td>0</td>\n",
       "      <td>0</td>\n",
       "      <td>0</td>\n",
       "      <td>0</td>\n",
       "      <td>0</td>\n",
       "    </tr>\n",
       "    <tr>\n",
       "      <th>South America</th>\n",
       "      <td>0</td>\n",
       "      <td>0</td>\n",
       "      <td>1</td>\n",
       "      <td>0</td>\n",
       "      <td>0</td>\n",
       "      <td>3</td>\n",
       "      <td>2</td>\n",
       "      <td>4</td>\n",
       "      <td>4</td>\n",
       "      <td>5</td>\n",
       "      <td>...</td>\n",
       "      <td>1</td>\n",
       "      <td>1</td>\n",
       "      <td>1</td>\n",
       "      <td>0</td>\n",
       "      <td>0</td>\n",
       "      <td>0</td>\n",
       "      <td>0</td>\n",
       "      <td>0</td>\n",
       "      <td>0</td>\n",
       "      <td>0</td>\n",
       "    </tr>\n",
       "  </tbody>\n",
       "</table>\n",
       "<p>6 rows × 67 columns</p>\n",
       "</div>"
      ],
      "text/plain": [
       "Age            18   19   20   21   22   23    24    25    26    27  ...  75  \\\n",
       "Continent                                                           ...       \n",
       "Africa          0    1    1    1    0    4     4     3     2     4  ...   0   \n",
       "Asia            0    1    0    1    3    3     6     7     5     7  ...   4   \n",
       "Europe          0    1    1    7    5   10    12    19    28    34  ...   2   \n",
       "North America  62  134  261  480  692  899  1276  1502  1667  1700  ...  32   \n",
       "Oceania         0    0    0    0    1    1     1     4     3     5  ...   0   \n",
       "South America   0    0    1    0    0    3     2     4     4     5  ...   1   \n",
       "\n",
       "Age            76  77  78  79  80  81  82  83  84  \n",
       "Continent                                          \n",
       "Africa          0   0   0   0   0   0   0   0   0  \n",
       "Asia            3   3   2   2   3   1   0   0   0  \n",
       "Europe          4   1   1   0   0   0   0   0   0  \n",
       "North America  21  14  12   5   9   4   4   3   1  \n",
       "Oceania         0   0   0   0   0   0   0   0   0  \n",
       "South America   1   1   0   0   0   0   0   0   0  \n",
       "\n",
       "[6 rows x 67 columns]"
      ]
     },
     "execution_count": 101,
     "metadata": {},
     "output_type": "execute_result"
    }
   ],
   "source": [
    "continent_age_count = pd.crosstab(df_continent_age['Continent'], df_continent_age['Age'])\n",
    "continent_age_count"
   ]
  },
  {
   "cell_type": "markdown",
   "id": "6f7cc310-45d6-4785-a697-7aa68d5c4af0",
   "metadata": {},
   "source": [
    "#### CONTINENT X AGE - export"
   ]
  },
  {
   "cell_type": "code",
   "execution_count": 103,
   "id": "a56dbede-f01f-42ab-9636-d4ebd6169930",
   "metadata": {},
   "outputs": [],
   "source": [
    "continent_age.to_csv('./export/continentxage.csv')\n",
    "continent_age_count.to_csv('./export/continentxage_count.csv')"
   ]
  },
  {
   "cell_type": "markdown",
   "id": "5b13ffa0-84ff-4ebf-bf4c-0abeedf88136",
   "metadata": {
    "jp-MarkdownHeadingCollapsed": true
   },
   "source": [
    "### CONTINENT X AGE GROUPS"
   ]
  },
  {
   "cell_type": "markdown",
   "id": "836a806b-47bb-4f5f-91bd-92a2a8aed974",
   "metadata": {},
   "source": [
    "#### CONTINENT X AGE GROUPS - lab"
   ]
  },
  {
   "cell_type": "code",
   "execution_count": 106,
   "id": "e6220333-dae1-4205-aa6d-53b080a3c6b9",
   "metadata": {},
   "outputs": [
    {
     "data": {
      "text/html": [
       "<div>\n",
       "<style scoped>\n",
       "    .dataframe tbody tr th:only-of-type {\n",
       "        vertical-align: middle;\n",
       "    }\n",
       "\n",
       "    .dataframe tbody tr th {\n",
       "        vertical-align: top;\n",
       "    }\n",
       "\n",
       "    .dataframe thead th {\n",
       "        text-align: right;\n",
       "    }\n",
       "</style>\n",
       "<table border=\"1\" class=\"dataframe\">\n",
       "  <thead>\n",
       "    <tr style=\"text-align: right;\">\n",
       "      <th>Age Group</th>\n",
       "      <th>18–21</th>\n",
       "      <th>22–25</th>\n",
       "      <th>26–29</th>\n",
       "      <th>30–33</th>\n",
       "      <th>34–37</th>\n",
       "      <th>38–41</th>\n",
       "      <th>42–45</th>\n",
       "      <th>46–49</th>\n",
       "      <th>50–53</th>\n",
       "      <th>54–57</th>\n",
       "      <th>58–61</th>\n",
       "      <th>62–65</th>\n",
       "      <th>66–69</th>\n",
       "      <th>70–84</th>\n",
       "    </tr>\n",
       "    <tr>\n",
       "      <th>Continent</th>\n",
       "      <th></th>\n",
       "      <th></th>\n",
       "      <th></th>\n",
       "      <th></th>\n",
       "      <th></th>\n",
       "      <th></th>\n",
       "      <th></th>\n",
       "      <th></th>\n",
       "      <th></th>\n",
       "      <th></th>\n",
       "      <th></th>\n",
       "      <th></th>\n",
       "      <th></th>\n",
       "      <th></th>\n",
       "    </tr>\n",
       "  </thead>\n",
       "  <tbody>\n",
       "    <tr>\n",
       "      <th>Africa</th>\n",
       "      <td>3</td>\n",
       "      <td>11</td>\n",
       "      <td>21</td>\n",
       "      <td>22</td>\n",
       "      <td>14</td>\n",
       "      <td>8</td>\n",
       "      <td>16</td>\n",
       "      <td>15</td>\n",
       "      <td>10</td>\n",
       "      <td>8</td>\n",
       "      <td>6</td>\n",
       "      <td>7</td>\n",
       "      <td>0</td>\n",
       "      <td>0</td>\n",
       "    </tr>\n",
       "    <tr>\n",
       "      <th>Asia</th>\n",
       "      <td>2</td>\n",
       "      <td>19</td>\n",
       "      <td>44</td>\n",
       "      <td>88</td>\n",
       "      <td>140</td>\n",
       "      <td>151</td>\n",
       "      <td>241</td>\n",
       "      <td>263</td>\n",
       "      <td>252</td>\n",
       "      <td>202</td>\n",
       "      <td>157</td>\n",
       "      <td>97</td>\n",
       "      <td>69</td>\n",
       "      <td>47</td>\n",
       "    </tr>\n",
       "    <tr>\n",
       "      <th>Europe</th>\n",
       "      <td>9</td>\n",
       "      <td>46</td>\n",
       "      <td>155</td>\n",
       "      <td>280</td>\n",
       "      <td>400</td>\n",
       "      <td>573</td>\n",
       "      <td>704</td>\n",
       "      <td>738</td>\n",
       "      <td>635</td>\n",
       "      <td>454</td>\n",
       "      <td>275</td>\n",
       "      <td>121</td>\n",
       "      <td>69</td>\n",
       "      <td>40</td>\n",
       "    </tr>\n",
       "    <tr>\n",
       "      <th>North America</th>\n",
       "      <td>937</td>\n",
       "      <td>4369</td>\n",
       "      <td>6861</td>\n",
       "      <td>6701</td>\n",
       "      <td>7626</td>\n",
       "      <td>8509</td>\n",
       "      <td>8648</td>\n",
       "      <td>8644</td>\n",
       "      <td>7211</td>\n",
       "      <td>5360</td>\n",
       "      <td>3634</td>\n",
       "      <td>1851</td>\n",
       "      <td>865</td>\n",
       "      <td>485</td>\n",
       "    </tr>\n",
       "    <tr>\n",
       "      <th>Oceania</th>\n",
       "      <td>0</td>\n",
       "      <td>7</td>\n",
       "      <td>19</td>\n",
       "      <td>39</td>\n",
       "      <td>63</td>\n",
       "      <td>68</td>\n",
       "      <td>99</td>\n",
       "      <td>84</td>\n",
       "      <td>62</td>\n",
       "      <td>60</td>\n",
       "      <td>25</td>\n",
       "      <td>20</td>\n",
       "      <td>5</td>\n",
       "      <td>3</td>\n",
       "    </tr>\n",
       "    <tr>\n",
       "      <th>South America</th>\n",
       "      <td>1</td>\n",
       "      <td>9</td>\n",
       "      <td>28</td>\n",
       "      <td>58</td>\n",
       "      <td>136</td>\n",
       "      <td>148</td>\n",
       "      <td>167</td>\n",
       "      <td>156</td>\n",
       "      <td>112</td>\n",
       "      <td>70</td>\n",
       "      <td>43</td>\n",
       "      <td>25</td>\n",
       "      <td>10</td>\n",
       "      <td>8</td>\n",
       "    </tr>\n",
       "  </tbody>\n",
       "</table>\n",
       "</div>"
      ],
      "text/plain": [
       "Age Group      18–21  22–25  26–29  30–33  34–37  38–41  42–45  46–49  50–53  \\\n",
       "Continent                                                                      \n",
       "Africa             3     11     21     22     14      8     16     15     10   \n",
       "Asia               2     19     44     88    140    151    241    263    252   \n",
       "Europe             9     46    155    280    400    573    704    738    635   \n",
       "North America    937   4369   6861   6701   7626   8509   8648   8644   7211   \n",
       "Oceania            0      7     19     39     63     68     99     84     62   \n",
       "South America      1      9     28     58    136    148    167    156    112   \n",
       "\n",
       "Age Group      54–57  58–61  62–65  66–69  70–84  \n",
       "Continent                                         \n",
       "Africa             8      6      7      0      0  \n",
       "Asia             202    157     97     69     47  \n",
       "Europe           454    275    121     69     40  \n",
       "North America   5360   3634   1851    865    485  \n",
       "Oceania           60     25     20      5      3  \n",
       "South America     70     43     25     10      8  "
      ]
     },
     "execution_count": 106,
     "metadata": {},
     "output_type": "execute_result"
    }
   ],
   "source": [
    "continent_age_groups = pd.crosstab(df_continent_age['Continent'], df_continent_age['Age Group'])\n",
    "continent_age_groups"
   ]
  },
  {
   "cell_type": "markdown",
   "id": "dc1ef39d-df56-43ee-b6dd-027d52111e26",
   "metadata": {},
   "source": [
    "#### CONTINENT X AGE GROUPS - export"
   ]
  },
  {
   "cell_type": "code",
   "execution_count": 108,
   "id": "8d535156-19e3-485d-8104-8cd8abb13fc2",
   "metadata": {},
   "outputs": [],
   "source": [
    "continent_age_groups.to_csv('./export/continentxagegroups_dist.csv')"
   ]
  },
  {
   "cell_type": "markdown",
   "id": "b869decc-e784-4dbc-a328-09c68a6cfa0b",
   "metadata": {
    "jp-MarkdownHeadingCollapsed": true
   },
   "source": [
    "## 5. AGE X TIME ---------------------------------"
   ]
  },
  {
   "cell_type": "code",
   "execution_count": 110,
   "id": "b535992d-9a24-461c-bd8f-f375dff6a026",
   "metadata": {},
   "outputs": [],
   "source": [
    "df_age_time = df[['Age', 'Age Group', 'Pace', 'Official Time']]"
   ]
  },
  {
   "cell_type": "markdown",
   "id": "1103161b-5a2d-4975-b9ba-ec37f1177416",
   "metadata": {
    "jp-MarkdownHeadingCollapsed": true
   },
   "source": [
    "### AGE X OFFICIAL TIME"
   ]
  },
  {
   "cell_type": "markdown",
   "id": "fcdc5f57-7e03-4597-a8ef-2b8331c29141",
   "metadata": {},
   "source": [
    "#### AGE X OFFICIAL TIME - lab"
   ]
  },
  {
   "cell_type": "code",
   "execution_count": 113,
   "id": "ca656a05-f2f2-4679-b106-b01ec7e0e9fa",
   "metadata": {},
   "outputs": [
    {
     "data": {
      "text/html": [
       "<div>\n",
       "<style scoped>\n",
       "    .dataframe tbody tr th:only-of-type {\n",
       "        vertical-align: middle;\n",
       "    }\n",
       "\n",
       "    .dataframe tbody tr th {\n",
       "        vertical-align: top;\n",
       "    }\n",
       "\n",
       "    .dataframe thead th {\n",
       "        text-align: right;\n",
       "    }\n",
       "</style>\n",
       "<table border=\"1\" class=\"dataframe\">\n",
       "  <thead>\n",
       "    <tr style=\"text-align: right;\">\n",
       "      <th></th>\n",
       "      <th>min_officialtime</th>\n",
       "      <th>max_officialtime</th>\n",
       "      <th>mean_officialtime</th>\n",
       "      <th>median_officialtime</th>\n",
       "    </tr>\n",
       "    <tr>\n",
       "      <th>Age</th>\n",
       "      <th></th>\n",
       "      <th></th>\n",
       "      <th></th>\n",
       "      <th></th>\n",
       "    </tr>\n",
       "  </thead>\n",
       "  <tbody>\n",
       "    <tr>\n",
       "      <th>18</th>\n",
       "      <td>0 days 02:46:59</td>\n",
       "      <td>0 days 06:03:14</td>\n",
       "      <td>0 days 04:15:25.387096774</td>\n",
       "      <td>0 days 04:15:45.500000</td>\n",
       "    </tr>\n",
       "    <tr>\n",
       "      <th>19</th>\n",
       "      <td>0 days 02:27:11</td>\n",
       "      <td>0 days 07:04:33</td>\n",
       "      <td>0 days 04:00:38.583941605</td>\n",
       "      <td>0 days 03:48:49</td>\n",
       "    </tr>\n",
       "    <tr>\n",
       "      <th>20</th>\n",
       "      <td>0 days 02:22:21</td>\n",
       "      <td>0 days 06:01:34</td>\n",
       "      <td>0 days 03:51:15.193181818</td>\n",
       "      <td>0 days 03:44:17</td>\n",
       "    </tr>\n",
       "    <tr>\n",
       "      <th>21</th>\n",
       "      <td>0 days 02:12:45</td>\n",
       "      <td>0 days 06:01:29</td>\n",
       "      <td>0 days 03:53:03.292433537</td>\n",
       "      <td>0 days 03:43:28</td>\n",
       "    </tr>\n",
       "    <tr>\n",
       "      <th>22</th>\n",
       "      <td>0 days 02:27:16</td>\n",
       "      <td>0 days 06:01:31</td>\n",
       "      <td>0 days 03:54:20.863052781</td>\n",
       "      <td>0 days 03:46:20</td>\n",
       "    </tr>\n",
       "    <tr>\n",
       "      <th>...</th>\n",
       "      <td>...</td>\n",
       "      <td>...</td>\n",
       "      <td>...</td>\n",
       "      <td>...</td>\n",
       "    </tr>\n",
       "    <tr>\n",
       "      <th>80</th>\n",
       "      <td>0 days 04:14:10</td>\n",
       "      <td>0 days 05:59:54</td>\n",
       "      <td>0 days 04:56:46.583333333</td>\n",
       "      <td>0 days 04:45:02</td>\n",
       "    </tr>\n",
       "    <tr>\n",
       "      <th>81</th>\n",
       "      <td>0 days 04:26:49</td>\n",
       "      <td>0 days 06:08:10</td>\n",
       "      <td>0 days 05:12:45.600000</td>\n",
       "      <td>0 days 05:20:49</td>\n",
       "    </tr>\n",
       "    <tr>\n",
       "      <th>82</th>\n",
       "      <td>0 days 04:18:00</td>\n",
       "      <td>0 days 05:57:54</td>\n",
       "      <td>0 days 05:22:37.250000</td>\n",
       "      <td>0 days 05:37:17.500000</td>\n",
       "    </tr>\n",
       "    <tr>\n",
       "      <th>83</th>\n",
       "      <td>0 days 04:44:39</td>\n",
       "      <td>0 days 05:44:53</td>\n",
       "      <td>0 days 05:07:04.333333333</td>\n",
       "      <td>0 days 04:51:41</td>\n",
       "    </tr>\n",
       "    <tr>\n",
       "      <th>84</th>\n",
       "      <td>0 days 06:04:07</td>\n",
       "      <td>0 days 06:04:07</td>\n",
       "      <td>0 days 06:04:07</td>\n",
       "      <td>0 days 06:04:07</td>\n",
       "    </tr>\n",
       "  </tbody>\n",
       "</table>\n",
       "<p>67 rows × 4 columns</p>\n",
       "</div>"
      ],
      "text/plain": [
       "    min_officialtime max_officialtime         mean_officialtime  \\\n",
       "Age                                                               \n",
       "18   0 days 02:46:59  0 days 06:03:14 0 days 04:15:25.387096774   \n",
       "19   0 days 02:27:11  0 days 07:04:33 0 days 04:00:38.583941605   \n",
       "20   0 days 02:22:21  0 days 06:01:34 0 days 03:51:15.193181818   \n",
       "21   0 days 02:12:45  0 days 06:01:29 0 days 03:53:03.292433537   \n",
       "22   0 days 02:27:16  0 days 06:01:31 0 days 03:54:20.863052781   \n",
       "..               ...              ...                       ...   \n",
       "80   0 days 04:14:10  0 days 05:59:54 0 days 04:56:46.583333333   \n",
       "81   0 days 04:26:49  0 days 06:08:10    0 days 05:12:45.600000   \n",
       "82   0 days 04:18:00  0 days 05:57:54    0 days 05:22:37.250000   \n",
       "83   0 days 04:44:39  0 days 05:44:53 0 days 05:07:04.333333333   \n",
       "84   0 days 06:04:07  0 days 06:04:07           0 days 06:04:07   \n",
       "\n",
       "       median_officialtime  \n",
       "Age                         \n",
       "18  0 days 04:15:45.500000  \n",
       "19         0 days 03:48:49  \n",
       "20         0 days 03:44:17  \n",
       "21         0 days 03:43:28  \n",
       "22         0 days 03:46:20  \n",
       "..                     ...  \n",
       "80         0 days 04:45:02  \n",
       "81         0 days 05:20:49  \n",
       "82  0 days 05:37:17.500000  \n",
       "83         0 days 04:51:41  \n",
       "84         0 days 06:04:07  \n",
       "\n",
       "[67 rows x 4 columns]"
      ]
     },
     "execution_count": 113,
     "metadata": {},
     "output_type": "execute_result"
    }
   ],
   "source": [
    "age_official_time = df_age_time.groupby(by='Age')['Official Time'].agg(\n",
    "    min_officialtime='min',\n",
    "    max_officialtime='max',\n",
    "    mean_officialtime='mean',\n",
    "    median_officialtime='median')\n",
    "age_official_time"
   ]
  },
  {
   "cell_type": "code",
   "execution_count": 114,
   "id": "bbebc084-275c-40e5-a6ad-2bf4e43c7cdb",
   "metadata": {},
   "outputs": [
    {
     "data": {
      "text/html": [
       "<div>\n",
       "<style scoped>\n",
       "    .dataframe tbody tr th:only-of-type {\n",
       "        vertical-align: middle;\n",
       "    }\n",
       "\n",
       "    .dataframe tbody tr th {\n",
       "        vertical-align: top;\n",
       "    }\n",
       "\n",
       "    .dataframe thead th {\n",
       "        text-align: right;\n",
       "    }\n",
       "</style>\n",
       "<table border=\"1\" class=\"dataframe\">\n",
       "  <thead>\n",
       "    <tr style=\"text-align: right;\">\n",
       "      <th></th>\n",
       "      <th>min_officialtime</th>\n",
       "      <th>max_officialtime</th>\n",
       "      <th>mean_officialtime</th>\n",
       "      <th>median_officialtime</th>\n",
       "    </tr>\n",
       "    <tr>\n",
       "      <th>Age Group</th>\n",
       "      <th></th>\n",
       "      <th></th>\n",
       "      <th></th>\n",
       "      <th></th>\n",
       "    </tr>\n",
       "  </thead>\n",
       "  <tbody>\n",
       "    <tr>\n",
       "      <th>18–21</th>\n",
       "      <td>0 days 02:12:45</td>\n",
       "      <td>0 days 07:04:33</td>\n",
       "      <td>0 days 03:55:06.240546218</td>\n",
       "      <td>0 days 03:46:33</td>\n",
       "    </tr>\n",
       "    <tr>\n",
       "      <th>22–25</th>\n",
       "      <td>0 days 02:09:17</td>\n",
       "      <td>0 days 07:16:59</td>\n",
       "      <td>0 days 03:49:14.993499215</td>\n",
       "      <td>0 days 03:38:45</td>\n",
       "    </tr>\n",
       "    <tr>\n",
       "      <th>26–29</th>\n",
       "      <td>0 days 02:10:22</td>\n",
       "      <td>0 days 06:13:24</td>\n",
       "      <td>0 days 03:45:36.662878787</td>\n",
       "      <td>0 days 03:35:14</td>\n",
       "    </tr>\n",
       "    <tr>\n",
       "      <th>30–33</th>\n",
       "      <td>0 days 02:09:48</td>\n",
       "      <td>0 days 06:52:10</td>\n",
       "      <td>0 days 03:44:09.837367835</td>\n",
       "      <td>0 days 03:33:58.500000</td>\n",
       "    </tr>\n",
       "    <tr>\n",
       "      <th>34–37</th>\n",
       "      <td>0 days 02:17:40</td>\n",
       "      <td>0 days 10:30:23</td>\n",
       "      <td>0 days 03:43:36.139038071</td>\n",
       "      <td>0 days 03:35:37</td>\n",
       "    </tr>\n",
       "    <tr>\n",
       "      <th>38–41</th>\n",
       "      <td>0 days 02:12:42</td>\n",
       "      <td>0 days 08:23:27</td>\n",
       "      <td>0 days 03:46:55.285502802</td>\n",
       "      <td>0 days 03:39:53</td>\n",
       "    </tr>\n",
       "    <tr>\n",
       "      <th>42–45</th>\n",
       "      <td>0 days 02:18:44</td>\n",
       "      <td>0 days 07:22:23</td>\n",
       "      <td>0 days 03:49:26.704202531</td>\n",
       "      <td>0 days 03:43:51</td>\n",
       "    </tr>\n",
       "    <tr>\n",
       "      <th>46–49</th>\n",
       "      <td>0 days 02:24:49</td>\n",
       "      <td>0 days 07:58:14</td>\n",
       "      <td>0 days 03:52:48.105555555</td>\n",
       "      <td>0 days 03:47:22</td>\n",
       "    </tr>\n",
       "    <tr>\n",
       "      <th>50–53</th>\n",
       "      <td>0 days 02:30:57</td>\n",
       "      <td>0 days 08:00:37</td>\n",
       "      <td>0 days 03:57:34.878048780</td>\n",
       "      <td>0 days 03:51:44</td>\n",
       "    </tr>\n",
       "    <tr>\n",
       "      <th>54–57</th>\n",
       "      <td>0 days 02:44:52</td>\n",
       "      <td>0 days 07:19:37</td>\n",
       "      <td>0 days 04:03:25.281280467</td>\n",
       "      <td>0 days 03:57:11.500000</td>\n",
       "    </tr>\n",
       "    <tr>\n",
       "      <th>58–61</th>\n",
       "      <td>0 days 02:45:47</td>\n",
       "      <td>0 days 07:51:30</td>\n",
       "      <td>0 days 04:12:36.892512077</td>\n",
       "      <td>0 days 04:07:01</td>\n",
       "    </tr>\n",
       "    <tr>\n",
       "      <th>62–65</th>\n",
       "      <td>0 days 03:11:09</td>\n",
       "      <td>0 days 08:06:01</td>\n",
       "      <td>0 days 04:22:03.300801508</td>\n",
       "      <td>0 days 04:16:42</td>\n",
       "    </tr>\n",
       "    <tr>\n",
       "      <th>66–69</th>\n",
       "      <td>0 days 03:04:55</td>\n",
       "      <td>0 days 07:59:33</td>\n",
       "      <td>0 days 04:32:01.316306483</td>\n",
       "      <td>0 days 04:27:20.500000</td>\n",
       "    </tr>\n",
       "    <tr>\n",
       "      <th>70–84</th>\n",
       "      <td>0 days 03:29:38</td>\n",
       "      <td>0 days 06:56:47</td>\n",
       "      <td>0 days 04:49:10.699828473</td>\n",
       "      <td>0 days 04:45:01</td>\n",
       "    </tr>\n",
       "  </tbody>\n",
       "</table>\n",
       "</div>"
      ],
      "text/plain": [
       "          min_officialtime max_officialtime         mean_officialtime  \\\n",
       "Age Group                                                               \n",
       "18–21      0 days 02:12:45  0 days 07:04:33 0 days 03:55:06.240546218   \n",
       "22–25      0 days 02:09:17  0 days 07:16:59 0 days 03:49:14.993499215   \n",
       "26–29      0 days 02:10:22  0 days 06:13:24 0 days 03:45:36.662878787   \n",
       "30–33      0 days 02:09:48  0 days 06:52:10 0 days 03:44:09.837367835   \n",
       "34–37      0 days 02:17:40  0 days 10:30:23 0 days 03:43:36.139038071   \n",
       "38–41      0 days 02:12:42  0 days 08:23:27 0 days 03:46:55.285502802   \n",
       "42–45      0 days 02:18:44  0 days 07:22:23 0 days 03:49:26.704202531   \n",
       "46–49      0 days 02:24:49  0 days 07:58:14 0 days 03:52:48.105555555   \n",
       "50–53      0 days 02:30:57  0 days 08:00:37 0 days 03:57:34.878048780   \n",
       "54–57      0 days 02:44:52  0 days 07:19:37 0 days 04:03:25.281280467   \n",
       "58–61      0 days 02:45:47  0 days 07:51:30 0 days 04:12:36.892512077   \n",
       "62–65      0 days 03:11:09  0 days 08:06:01 0 days 04:22:03.300801508   \n",
       "66–69      0 days 03:04:55  0 days 07:59:33 0 days 04:32:01.316306483   \n",
       "70–84      0 days 03:29:38  0 days 06:56:47 0 days 04:49:10.699828473   \n",
       "\n",
       "             median_officialtime  \n",
       "Age Group                         \n",
       "18–21            0 days 03:46:33  \n",
       "22–25            0 days 03:38:45  \n",
       "26–29            0 days 03:35:14  \n",
       "30–33     0 days 03:33:58.500000  \n",
       "34–37            0 days 03:35:37  \n",
       "38–41            0 days 03:39:53  \n",
       "42–45            0 days 03:43:51  \n",
       "46–49            0 days 03:47:22  \n",
       "50–53            0 days 03:51:44  \n",
       "54–57     0 days 03:57:11.500000  \n",
       "58–61            0 days 04:07:01  \n",
       "62–65            0 days 04:16:42  \n",
       "66–69     0 days 04:27:20.500000  \n",
       "70–84            0 days 04:45:01  "
      ]
     },
     "execution_count": 114,
     "metadata": {},
     "output_type": "execute_result"
    }
   ],
   "source": [
    "age_groups_official_time = df_age_time.groupby(by='Age Group')['Official Time'].agg(\n",
    "    min_officialtime='min',\n",
    "    max_officialtime='max',\n",
    "    mean_officialtime='mean',\n",
    "    median_officialtime='median')\n",
    "age_groups_official_time"
   ]
  },
  {
   "cell_type": "markdown",
   "id": "80fc0e36-5f58-4149-8122-7924d70bafe6",
   "metadata": {},
   "source": [
    "#### AGE X OFFICIAL TIME - export"
   ]
  },
  {
   "cell_type": "code",
   "execution_count": 116,
   "id": "6c7a56b2-33c1-4989-9303-7f2ae3df84c7",
   "metadata": {},
   "outputs": [],
   "source": [
    "age_official_time.to_csv('./export/agexofficialtime.csv')\n",
    "age_groups_official_time.to_csv('./export/agegroupsxofficialtime.csv')"
   ]
  },
  {
   "cell_type": "markdown",
   "id": "7f40d464-5dfd-4a79-921f-02aee9657fbe",
   "metadata": {
    "jp-MarkdownHeadingCollapsed": true
   },
   "source": [
    "### AGE X PACE"
   ]
  },
  {
   "cell_type": "markdown",
   "id": "8af97118-3e0c-4860-a94b-c86a2d22142f",
   "metadata": {},
   "source": [
    "#### AGE X PACE - lab"
   ]
  },
  {
   "cell_type": "code",
   "execution_count": 119,
   "id": "7c6309e0-edda-44b0-923e-e6a4146d7c1d",
   "metadata": {},
   "outputs": [
    {
     "data": {
      "text/html": [
       "<div>\n",
       "<style scoped>\n",
       "    .dataframe tbody tr th:only-of-type {\n",
       "        vertical-align: middle;\n",
       "    }\n",
       "\n",
       "    .dataframe tbody tr th {\n",
       "        vertical-align: top;\n",
       "    }\n",
       "\n",
       "    .dataframe thead th {\n",
       "        text-align: right;\n",
       "    }\n",
       "</style>\n",
       "<table border=\"1\" class=\"dataframe\">\n",
       "  <thead>\n",
       "    <tr style=\"text-align: right;\">\n",
       "      <th></th>\n",
       "      <th>min_pace</th>\n",
       "      <th>max_pace</th>\n",
       "      <th>mean_pace</th>\n",
       "      <th>median_pace</th>\n",
       "    </tr>\n",
       "    <tr>\n",
       "      <th>Age</th>\n",
       "      <th></th>\n",
       "      <th></th>\n",
       "      <th></th>\n",
       "      <th></th>\n",
       "    </tr>\n",
       "  </thead>\n",
       "  <tbody>\n",
       "    <tr>\n",
       "      <th>18</th>\n",
       "      <td>0 days 00:03:57.985166626</td>\n",
       "      <td>0 days 00:08:36.980831941</td>\n",
       "      <td>0 days 00:06:03.532213806</td>\n",
       "      <td>0 days 00:06:03.812833054</td>\n",
       "    </tr>\n",
       "    <tr>\n",
       "      <th>19</th>\n",
       "      <td>0 days 00:03:29.402091783</td>\n",
       "      <td>0 days 00:10:03.972798854</td>\n",
       "      <td>0 days 00:05:42.502522494</td>\n",
       "      <td>0 days 00:05:25.598504732</td>\n",
       "    </tr>\n",
       "    <tr>\n",
       "      <th>20</th>\n",
       "      <td>0 days 00:03:22.567008669</td>\n",
       "      <td>0 days 00:08:34.495347172</td>\n",
       "      <td>0 days 00:05:29.140791263</td>\n",
       "      <td>0 days 00:05:19.384792809</td>\n",
       "    </tr>\n",
       "    <tr>\n",
       "      <th>21</th>\n",
       "      <td>0 days 00:03:08.896842440</td>\n",
       "      <td>0 days 00:08:34.495347172</td>\n",
       "      <td>0 days 00:05:31.695312462</td>\n",
       "      <td>0 days 00:05:18.142050425</td>\n",
       "    </tr>\n",
       "    <tr>\n",
       "      <th>22</th>\n",
       "      <td>0 days 00:03:30.023462976</td>\n",
       "      <td>0 days 00:08:34.495347172</td>\n",
       "      <td>0 days 00:05:33.528300289</td>\n",
       "      <td>0 days 00:05:21.870277578</td>\n",
       "    </tr>\n",
       "    <tr>\n",
       "      <th>...</th>\n",
       "      <td>...</td>\n",
       "      <td>...</td>\n",
       "      <td>...</td>\n",
       "      <td>...</td>\n",
       "    </tr>\n",
       "    <tr>\n",
       "      <th>80</th>\n",
       "      <td>0 days 00:06:01.638033882</td>\n",
       "      <td>0 days 00:08:32.009862403</td>\n",
       "      <td>0 days 00:07:02.221725124</td>\n",
       "      <td>0 days 00:06:45.444702934</td>\n",
       "    </tr>\n",
       "    <tr>\n",
       "      <th>81</th>\n",
       "      <td>0 days 00:06:19.657798457</td>\n",
       "      <td>0 days 00:08:43.815915056</td>\n",
       "      <td>0 days 00:07:25.026047880</td>\n",
       "      <td>0 days 00:07:36.707826294</td>\n",
       "    </tr>\n",
       "    <tr>\n",
       "      <th>82</th>\n",
       "      <td>0 days 00:06:07.230374612</td>\n",
       "      <td>0 days 00:08:29.524377634</td>\n",
       "      <td>0 days 00:07:39.193311063</td>\n",
       "      <td>0 days 00:08:00.009246003</td>\n",
       "    </tr>\n",
       "    <tr>\n",
       "      <th>83</th>\n",
       "      <td>0 days 00:06:45.134017338</td>\n",
       "      <td>0 days 00:08:10.883241867</td>\n",
       "      <td>0 days 00:07:17.031071873</td>\n",
       "      <td>0 days 00:06:55.075956414</td>\n",
       "    </tr>\n",
       "    <tr>\n",
       "      <th>84</th>\n",
       "      <td>0 days 00:08:38.223574325</td>\n",
       "      <td>0 days 00:08:38.223574325</td>\n",
       "      <td>0 days 00:08:38.223574325</td>\n",
       "      <td>0 days 00:08:38.223574325</td>\n",
       "    </tr>\n",
       "  </tbody>\n",
       "</table>\n",
       "<p>67 rows × 4 columns</p>\n",
       "</div>"
      ],
      "text/plain": [
       "                     min_pace                  max_pace  \\\n",
       "Age                                                       \n",
       "18  0 days 00:03:57.985166626 0 days 00:08:36.980831941   \n",
       "19  0 days 00:03:29.402091783 0 days 00:10:03.972798854   \n",
       "20  0 days 00:03:22.567008669 0 days 00:08:34.495347172   \n",
       "21  0 days 00:03:08.896842440 0 days 00:08:34.495347172   \n",
       "22  0 days 00:03:30.023462976 0 days 00:08:34.495347172   \n",
       "..                        ...                       ...   \n",
       "80  0 days 00:06:01.638033882 0 days 00:08:32.009862403   \n",
       "81  0 days 00:06:19.657798457 0 days 00:08:43.815915056   \n",
       "82  0 days 00:06:07.230374612 0 days 00:08:29.524377634   \n",
       "83  0 days 00:06:45.134017338 0 days 00:08:10.883241867   \n",
       "84  0 days 00:08:38.223574325 0 days 00:08:38.223574325   \n",
       "\n",
       "                    mean_pace               median_pace  \n",
       "Age                                                      \n",
       "18  0 days 00:06:03.532213806 0 days 00:06:03.812833054  \n",
       "19  0 days 00:05:42.502522494 0 days 00:05:25.598504732  \n",
       "20  0 days 00:05:29.140791263 0 days 00:05:19.384792809  \n",
       "21  0 days 00:05:31.695312462 0 days 00:05:18.142050425  \n",
       "22  0 days 00:05:33.528300289 0 days 00:05:21.870277578  \n",
       "..                        ...                       ...  \n",
       "80  0 days 00:07:02.221725124 0 days 00:06:45.444702934  \n",
       "81  0 days 00:07:25.026047880 0 days 00:07:36.707826294  \n",
       "82  0 days 00:07:39.193311063 0 days 00:08:00.009246003  \n",
       "83  0 days 00:07:17.031071873 0 days 00:06:55.075956414  \n",
       "84  0 days 00:08:38.223574325 0 days 00:08:38.223574325  \n",
       "\n",
       "[67 rows x 4 columns]"
      ]
     },
     "execution_count": 119,
     "metadata": {},
     "output_type": "execute_result"
    }
   ],
   "source": [
    "age_pace = df_age_time.groupby(by='Age')['Pace'].agg(\n",
    "    min_pace='min',\n",
    "    max_pace='max',\n",
    "    mean_pace='mean',\n",
    "    median_pace='median')\n",
    "age_pace"
   ]
  },
  {
   "cell_type": "code",
   "execution_count": 120,
   "id": "f55fac2f-958b-4bc5-b120-52e96a670475",
   "metadata": {},
   "outputs": [
    {
     "data": {
      "text/html": [
       "<div>\n",
       "<style scoped>\n",
       "    .dataframe tbody tr th:only-of-type {\n",
       "        vertical-align: middle;\n",
       "    }\n",
       "\n",
       "    .dataframe tbody tr th {\n",
       "        vertical-align: top;\n",
       "    }\n",
       "\n",
       "    .dataframe thead th {\n",
       "        text-align: right;\n",
       "    }\n",
       "</style>\n",
       "<table border=\"1\" class=\"dataframe\">\n",
       "  <thead>\n",
       "    <tr style=\"text-align: right;\">\n",
       "      <th></th>\n",
       "      <th>min_pace</th>\n",
       "      <th>max_pace</th>\n",
       "      <th>mean_pace</th>\n",
       "      <th>median_pace</th>\n",
       "    </tr>\n",
       "    <tr>\n",
       "      <th>Age Group</th>\n",
       "      <th></th>\n",
       "      <th></th>\n",
       "      <th></th>\n",
       "      <th></th>\n",
       "    </tr>\n",
       "  </thead>\n",
       "  <tbody>\n",
       "    <tr>\n",
       "      <th>18–21</th>\n",
       "      <td>0 days 00:03:08.896842440</td>\n",
       "      <td>0 days 00:10:03.972798854</td>\n",
       "      <td>0 days 00:05:34.615566728</td>\n",
       "      <td>0 days 00:05:22.491648771</td>\n",
       "    </tr>\n",
       "    <tr>\n",
       "      <th>22–25</th>\n",
       "      <td>0 days 00:03:03.925872902</td>\n",
       "      <td>0 days 00:10:21.371192237</td>\n",
       "      <td>0 days 00:05:26.291749390</td>\n",
       "      <td>0 days 00:05:11.306967310</td>\n",
       "    </tr>\n",
       "    <tr>\n",
       "      <th>26–29</th>\n",
       "      <td>0 days 00:03:05.789986478</td>\n",
       "      <td>0 days 00:08:51.272369362</td>\n",
       "      <td>0 days 00:05:21.113962137</td>\n",
       "      <td>0 days 00:05:06.335997773</td>\n",
       "    </tr>\n",
       "    <tr>\n",
       "      <th>30–33</th>\n",
       "      <td>0 days 00:03:05.168615286</td>\n",
       "      <td>0 days 00:09:46.574405472</td>\n",
       "      <td>0 days 00:05:19.062091270</td>\n",
       "      <td>0 days 00:05:04.471884196</td>\n",
       "    </tr>\n",
       "    <tr>\n",
       "      <th>34–37</th>\n",
       "      <td>0 days 00:03:16.353296746</td>\n",
       "      <td>0 days 00:15:13.415652588</td>\n",
       "      <td>0 days 00:05:18.266932760</td>\n",
       "      <td>0 days 00:05:06.957368965</td>\n",
       "    </tr>\n",
       "    <tr>\n",
       "      <th>38–41</th>\n",
       "      <td>0 days 00:03:08.896842440</td>\n",
       "      <td>0 days 00:11:56.440984649</td>\n",
       "      <td>0 days 00:05:22.982267221</td>\n",
       "      <td>0 days 00:05:13.171080887</td>\n",
       "    </tr>\n",
       "    <tr>\n",
       "      <th>42–45</th>\n",
       "      <td>0 days 00:03:17.596039131</td>\n",
       "      <td>0 days 00:10:29.449017736</td>\n",
       "      <td>0 days 00:05:26.572500142</td>\n",
       "      <td>0 days 00:05:18.763421617</td>\n",
       "    </tr>\n",
       "    <tr>\n",
       "      <th>46–49</th>\n",
       "      <td>0 days 00:03:26.295235822</td>\n",
       "      <td>0 days 00:12:18.188976377</td>\n",
       "      <td>0 days 00:05:31.385604533</td>\n",
       "      <td>0 days 00:05:23.734391155</td>\n",
       "    </tr>\n",
       "    <tr>\n",
       "      <th>50–53</th>\n",
       "      <td>0 days 00:03:34.994432514</td>\n",
       "      <td>0 days 00:11:23.508311461</td>\n",
       "      <td>0 days 00:05:38.138768744</td>\n",
       "      <td>0 days 00:05:29.948103078</td>\n",
       "    </tr>\n",
       "    <tr>\n",
       "      <th>54–57</th>\n",
       "      <td>0 days 00:03:54.878310665</td>\n",
       "      <td>0 days 00:10:25.720790582</td>\n",
       "      <td>0 days 00:05:46.441095829</td>\n",
       "      <td>0 days 00:05:37.404557384</td>\n",
       "    </tr>\n",
       "    <tr>\n",
       "      <th>58–61</th>\n",
       "      <td>0 days 00:03:56.121053050</td>\n",
       "      <td>0 days 00:11:10.459516424</td>\n",
       "      <td>0 days 00:05:59.516066269</td>\n",
       "      <td>0 days 00:05:51.696094806</td>\n",
       "    </tr>\n",
       "    <tr>\n",
       "      <th>62–65</th>\n",
       "      <td>0 days 00:04:32.160582199</td>\n",
       "      <td>0 days 00:11:31.586136960</td>\n",
       "      <td>0 days 00:06:12.938142145</td>\n",
       "      <td>0 days 00:06:05.366261035</td>\n",
       "    </tr>\n",
       "    <tr>\n",
       "      <th>66–69</th>\n",
       "      <td>0 days 00:04:23.461385508</td>\n",
       "      <td>0 days 00:11:22.265569076</td>\n",
       "      <td>0 days 00:06:27.120356606</td>\n",
       "      <td>0 days 00:06:20.279169649</td>\n",
       "    </tr>\n",
       "    <tr>\n",
       "      <th>70–84</th>\n",
       "      <td>0 days 00:04:58.258172273</td>\n",
       "      <td>0 days 00:09:52.788117394</td>\n",
       "      <td>0 days 00:06:51.508667596</td>\n",
       "      <td>0 days 00:06:45.755388530</td>\n",
       "    </tr>\n",
       "  </tbody>\n",
       "</table>\n",
       "</div>"
      ],
      "text/plain": [
       "                           min_pace                  max_pace  \\\n",
       "Age Group                                                       \n",
       "18–21     0 days 00:03:08.896842440 0 days 00:10:03.972798854   \n",
       "22–25     0 days 00:03:03.925872902 0 days 00:10:21.371192237   \n",
       "26–29     0 days 00:03:05.789986478 0 days 00:08:51.272369362   \n",
       "30–33     0 days 00:03:05.168615286 0 days 00:09:46.574405472   \n",
       "34–37     0 days 00:03:16.353296746 0 days 00:15:13.415652588   \n",
       "38–41     0 days 00:03:08.896842440 0 days 00:11:56.440984649   \n",
       "42–45     0 days 00:03:17.596039131 0 days 00:10:29.449017736   \n",
       "46–49     0 days 00:03:26.295235822 0 days 00:12:18.188976377   \n",
       "50–53     0 days 00:03:34.994432514 0 days 00:11:23.508311461   \n",
       "54–57     0 days 00:03:54.878310665 0 days 00:10:25.720790582   \n",
       "58–61     0 days 00:03:56.121053050 0 days 00:11:10.459516424   \n",
       "62–65     0 days 00:04:32.160582199 0 days 00:11:31.586136960   \n",
       "66–69     0 days 00:04:23.461385508 0 days 00:11:22.265569076   \n",
       "70–84     0 days 00:04:58.258172273 0 days 00:09:52.788117394   \n",
       "\n",
       "                          mean_pace               median_pace  \n",
       "Age Group                                                      \n",
       "18–21     0 days 00:05:34.615566728 0 days 00:05:22.491648771  \n",
       "22–25     0 days 00:05:26.291749390 0 days 00:05:11.306967310  \n",
       "26–29     0 days 00:05:21.113962137 0 days 00:05:06.335997773  \n",
       "30–33     0 days 00:05:19.062091270 0 days 00:05:04.471884196  \n",
       "34–37     0 days 00:05:18.266932760 0 days 00:05:06.957368965  \n",
       "38–41     0 days 00:05:22.982267221 0 days 00:05:13.171080887  \n",
       "42–45     0 days 00:05:26.572500142 0 days 00:05:18.763421617  \n",
       "46–49     0 days 00:05:31.385604533 0 days 00:05:23.734391155  \n",
       "50–53     0 days 00:05:38.138768744 0 days 00:05:29.948103078  \n",
       "54–57     0 days 00:05:46.441095829 0 days 00:05:37.404557384  \n",
       "58–61     0 days 00:05:59.516066269 0 days 00:05:51.696094806  \n",
       "62–65     0 days 00:06:12.938142145 0 days 00:06:05.366261035  \n",
       "66–69     0 days 00:06:27.120356606 0 days 00:06:20.279169649  \n",
       "70–84     0 days 00:06:51.508667596 0 days 00:06:45.755388530  "
      ]
     },
     "execution_count": 120,
     "metadata": {},
     "output_type": "execute_result"
    }
   ],
   "source": [
    "age_groups_pace = df_age_time.groupby(by='Age Group')['Pace'].agg(\n",
    "    min_pace='min',\n",
    "    max_pace='max',\n",
    "    mean_pace='mean',\n",
    "    median_pace='median')\n",
    "age_groups_pace"
   ]
  },
  {
   "cell_type": "markdown",
   "id": "7b60fd18-b75e-45e5-a5ba-4e96e9c5f718",
   "metadata": {},
   "source": [
    "#### AGE X PACE - export"
   ]
  },
  {
   "cell_type": "code",
   "execution_count": 122,
   "id": "75a2bb2f-a43a-4484-ae43-1083daa5bd92",
   "metadata": {},
   "outputs": [],
   "source": [
    "age_pace.to_csv('./export/agexpace.csv')\n",
    "age_groups_pace.to_csv('./export/agegroupsxpace.csv')"
   ]
  },
  {
   "cell_type": "markdown",
   "id": "b0d76c94-6593-42f7-a0fa-d96f74f8869c",
   "metadata": {
    "jp-MarkdownHeadingCollapsed": true
   },
   "source": [
    "## 6. CONTINENT X TIME ---------------------------------"
   ]
  },
  {
   "cell_type": "code",
   "execution_count": 124,
   "id": "99d2799e-5e50-4a0c-82ba-c31bc189d85c",
   "metadata": {},
   "outputs": [],
   "source": [
    "df_continent_time = df[['Continent', 'Country', 'Pace', 'Official Time']]"
   ]
  },
  {
   "cell_type": "markdown",
   "id": "ef687959-4771-4c30-965c-4b11507c5fe7",
   "metadata": {},
   "source": [
    "### CONTINENT X OFFICIAL TIME"
   ]
  },
  {
   "cell_type": "markdown",
   "id": "3c4c9061-ceba-4103-a412-0055b1e440c6",
   "metadata": {},
   "source": [
    "#### CONTINENT X OFFICIAL TIME - lab"
   ]
  },
  {
   "cell_type": "code",
   "execution_count": 127,
   "id": "54c256d3-97e0-4872-b772-8c8578015fc7",
   "metadata": {},
   "outputs": [
    {
     "data": {
      "text/html": [
       "<div>\n",
       "<style scoped>\n",
       "    .dataframe tbody tr th:only-of-type {\n",
       "        vertical-align: middle;\n",
       "    }\n",
       "\n",
       "    .dataframe tbody tr th {\n",
       "        vertical-align: top;\n",
       "    }\n",
       "\n",
       "    .dataframe thead th {\n",
       "        text-align: right;\n",
       "    }\n",
       "</style>\n",
       "<table border=\"1\" class=\"dataframe\">\n",
       "  <thead>\n",
       "    <tr style=\"text-align: right;\">\n",
       "      <th></th>\n",
       "      <th>min_time</th>\n",
       "      <th>max_time</th>\n",
       "      <th>mean_time</th>\n",
       "      <th>median_time</th>\n",
       "    </tr>\n",
       "    <tr>\n",
       "      <th>Continent</th>\n",
       "      <th></th>\n",
       "      <th></th>\n",
       "      <th></th>\n",
       "      <th></th>\n",
       "    </tr>\n",
       "  </thead>\n",
       "  <tbody>\n",
       "    <tr>\n",
       "      <th>Africa</th>\n",
       "      <td>0 days 02:09:17</td>\n",
       "      <td>0 days 05:52:09</td>\n",
       "      <td>0 days 03:26:48.340425531</td>\n",
       "      <td>0 days 03:04:55</td>\n",
       "    </tr>\n",
       "    <tr>\n",
       "      <th>Asia</th>\n",
       "      <td>0 days 02:10:28</td>\n",
       "      <td>0 days 06:37:48</td>\n",
       "      <td>0 days 04:04:07.472911963</td>\n",
       "      <td>0 days 03:56:30.500000</td>\n",
       "    </tr>\n",
       "    <tr>\n",
       "      <th>Europe</th>\n",
       "      <td>0 days 02:13:52</td>\n",
       "      <td>0 days 06:07:01</td>\n",
       "      <td>0 days 03:50:14.135807957</td>\n",
       "      <td>0 days 03:44:14</td>\n",
       "    </tr>\n",
       "    <tr>\n",
       "      <th>North America</th>\n",
       "      <td>0 days 02:09:58</td>\n",
       "      <td>0 days 10:30:23</td>\n",
       "      <td>0 days 03:53:24.371668456</td>\n",
       "      <td>0 days 03:46:42</td>\n",
       "    </tr>\n",
       "    <tr>\n",
       "      <th>Oceania</th>\n",
       "      <td>0 days 02:28:18</td>\n",
       "      <td>0 days 06:37:04</td>\n",
       "      <td>0 days 03:47:44.588447653</td>\n",
       "      <td>0 days 03:41:36.500000</td>\n",
       "    </tr>\n",
       "    <tr>\n",
       "      <th>South America</th>\n",
       "      <td>0 days 02:24:54</td>\n",
       "      <td>0 days 06:16:50</td>\n",
       "      <td>0 days 03:35:53.294541709</td>\n",
       "      <td>0 days 03:31:33</td>\n",
       "    </tr>\n",
       "  </tbody>\n",
       "</table>\n",
       "</div>"
      ],
      "text/plain": [
       "                     min_time        max_time                 mean_time  \\\n",
       "Continent                                                                 \n",
       "Africa        0 days 02:09:17 0 days 05:52:09 0 days 03:26:48.340425531   \n",
       "Asia          0 days 02:10:28 0 days 06:37:48 0 days 04:04:07.472911963   \n",
       "Europe        0 days 02:13:52 0 days 06:07:01 0 days 03:50:14.135807957   \n",
       "North America 0 days 02:09:58 0 days 10:30:23 0 days 03:53:24.371668456   \n",
       "Oceania       0 days 02:28:18 0 days 06:37:04 0 days 03:47:44.588447653   \n",
       "South America 0 days 02:24:54 0 days 06:16:50 0 days 03:35:53.294541709   \n",
       "\n",
       "                         median_time  \n",
       "Continent                             \n",
       "Africa               0 days 03:04:55  \n",
       "Asia          0 days 03:56:30.500000  \n",
       "Europe               0 days 03:44:14  \n",
       "North America        0 days 03:46:42  \n",
       "Oceania       0 days 03:41:36.500000  \n",
       "South America        0 days 03:31:33  "
      ]
     },
     "execution_count": 127,
     "metadata": {},
     "output_type": "execute_result"
    }
   ],
   "source": [
    "continent_officialtime = df_continent_time.groupby(by='Continent')['Official Time'].agg(\n",
    "    min_time='min',\n",
    "    max_time='max',\n",
    "    mean_time='mean',\n",
    "    median_time='median')\n",
    "continent_officialtime"
   ]
  },
  {
   "cell_type": "markdown",
   "id": "46d1e335-fd28-4f1e-8dbe-a404f7d71d72",
   "metadata": {},
   "source": [
    "#### CONTINENT X OFFICIAL TIME - export"
   ]
  },
  {
   "cell_type": "code",
   "execution_count": 129,
   "id": "7e33b442-db13-4f3f-873e-f71ffbc6af0f",
   "metadata": {},
   "outputs": [],
   "source": [
    "continent_officialtime.to_csv('./export/continentxofficialtime.csv')"
   ]
  },
  {
   "cell_type": "markdown",
   "id": "a6144dcc-8d5a-4042-976c-cc8128b86dd9",
   "metadata": {},
   "source": [
    "### CONTINENT X PACE"
   ]
  },
  {
   "cell_type": "markdown",
   "id": "6b1e567c-faf1-414c-ae55-5b4b1bdc8c37",
   "metadata": {},
   "source": [
    "#### CONTINENT X PACE - lab"
   ]
  },
  {
   "cell_type": "code",
   "execution_count": 132,
   "id": "6380d62a-1b90-45be-8e28-45c4ab8c80c5",
   "metadata": {},
   "outputs": [
    {
     "data": {
      "text/html": [
       "<div>\n",
       "<style scoped>\n",
       "    .dataframe tbody tr th:only-of-type {\n",
       "        vertical-align: middle;\n",
       "    }\n",
       "\n",
       "    .dataframe tbody tr th {\n",
       "        vertical-align: top;\n",
       "    }\n",
       "\n",
       "    .dataframe thead th {\n",
       "        text-align: right;\n",
       "    }\n",
       "</style>\n",
       "<table border=\"1\" class=\"dataframe\">\n",
       "  <thead>\n",
       "    <tr style=\"text-align: right;\">\n",
       "      <th></th>\n",
       "      <th>min_time</th>\n",
       "      <th>max_time</th>\n",
       "      <th>mean_time</th>\n",
       "      <th>median_time</th>\n",
       "    </tr>\n",
       "    <tr>\n",
       "      <th>Continent</th>\n",
       "      <th></th>\n",
       "      <th></th>\n",
       "      <th></th>\n",
       "      <th></th>\n",
       "    </tr>\n",
       "  </thead>\n",
       "  <tbody>\n",
       "    <tr>\n",
       "      <th>Africa</th>\n",
       "      <td>0 days 00:03:03.925872902</td>\n",
       "      <td>0 days 00:08:20.825180943</td>\n",
       "      <td>0 days 00:04:54.397738483</td>\n",
       "      <td>0 days 00:04:23.461385508</td>\n",
       "    </tr>\n",
       "    <tr>\n",
       "      <th>Asia</th>\n",
       "      <td>0 days 00:03:05.789986478</td>\n",
       "      <td>0 days 00:09:26.069156128</td>\n",
       "      <td>0 days 00:05:47.448188133</td>\n",
       "      <td>0 days 00:05:36.783186192</td>\n",
       "    </tr>\n",
       "    <tr>\n",
       "      <th>Europe</th>\n",
       "      <td>0 days 00:03:10.760956016</td>\n",
       "      <td>0 days 00:08:41.951801479</td>\n",
       "      <td>0 days 00:05:27.694924675</td>\n",
       "      <td>0 days 00:05:19.384792809</td>\n",
       "    </tr>\n",
       "    <tr>\n",
       "      <th>North America</th>\n",
       "      <td>0 days 00:03:05.168615286</td>\n",
       "      <td>0 days 00:15:13.415652588</td>\n",
       "      <td>0 days 00:05:32.208666744</td>\n",
       "      <td>0 days 00:05:22.491648771</td>\n",
       "    </tr>\n",
       "    <tr>\n",
       "      <th>Oceania</th>\n",
       "      <td>0 days 00:03:31.266205360</td>\n",
       "      <td>0 days 00:09:24.826413743</td>\n",
       "      <td>0 days 00:05:24.137048660</td>\n",
       "      <td>0 days 00:05:15.345880060</td>\n",
       "    </tr>\n",
       "    <tr>\n",
       "      <th>South America</th>\n",
       "      <td>0 days 00:03:26.295235822</td>\n",
       "      <td>0 days 00:08:56.243338900</td>\n",
       "      <td>0 days 00:05:07.301650840</td>\n",
       "      <td>0 days 00:05:01.365028235</td>\n",
       "    </tr>\n",
       "  </tbody>\n",
       "</table>\n",
       "</div>"
      ],
      "text/plain": [
       "                               min_time                  max_time  \\\n",
       "Continent                                                           \n",
       "Africa        0 days 00:03:03.925872902 0 days 00:08:20.825180943   \n",
       "Asia          0 days 00:03:05.789986478 0 days 00:09:26.069156128   \n",
       "Europe        0 days 00:03:10.760956016 0 days 00:08:41.951801479   \n",
       "North America 0 days 00:03:05.168615286 0 days 00:15:13.415652588   \n",
       "Oceania       0 days 00:03:31.266205360 0 days 00:09:24.826413743   \n",
       "South America 0 days 00:03:26.295235822 0 days 00:08:56.243338900   \n",
       "\n",
       "                              mean_time               median_time  \n",
       "Continent                                                          \n",
       "Africa        0 days 00:04:54.397738483 0 days 00:04:23.461385508  \n",
       "Asia          0 days 00:05:47.448188133 0 days 00:05:36.783186192  \n",
       "Europe        0 days 00:05:27.694924675 0 days 00:05:19.384792809  \n",
       "North America 0 days 00:05:32.208666744 0 days 00:05:22.491648771  \n",
       "Oceania       0 days 00:05:24.137048660 0 days 00:05:15.345880060  \n",
       "South America 0 days 00:05:07.301650840 0 days 00:05:01.365028235  "
      ]
     },
     "execution_count": 132,
     "metadata": {},
     "output_type": "execute_result"
    }
   ],
   "source": [
    "continent_pace = df_continent_time.groupby(by='Continent')['Pace'].agg(\n",
    "    min_time='min',\n",
    "    max_time='max',\n",
    "    mean_time='mean',\n",
    "    median_time='median')\n",
    "continent_pace"
   ]
  },
  {
   "cell_type": "markdown",
   "id": "c0dac631-c49d-4ee2-aacb-5486c342d82c",
   "metadata": {},
   "source": [
    "#### CONTINENT X PACE - export"
   ]
  },
  {
   "cell_type": "code",
   "execution_count": 134,
   "id": "1cf3c8d3-5b24-4a30-bcfb-778349a9068a",
   "metadata": {},
   "outputs": [],
   "source": [
    "continent_pace.to_csv('./export/continentxpace.csv')"
   ]
  }
 ],
 "metadata": {
  "kernelspec": {
   "display_name": "Python [conda env:base] *",
   "language": "python",
   "name": "conda-base-py"
  },
  "language_info": {
   "codemirror_mode": {
    "name": "ipython",
    "version": 3
   },
   "file_extension": ".py",
   "mimetype": "text/x-python",
   "name": "python",
   "nbconvert_exporter": "python",
   "pygments_lexer": "ipython3",
   "version": "3.12.7"
  }
 },
 "nbformat": 4,
 "nbformat_minor": 5
}
