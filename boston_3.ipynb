{
 "cells": [
  {
   "cell_type": "markdown",
   "id": "502e1d07-97b7-4eca-b7f6-4145cc3be2ad",
   "metadata": {},
   "source": [
    "# PREPARE"
   ]
  },
  {
   "cell_type": "markdown",
   "id": "508d0c40-977f-4cc1-8ebf-db57eec46e44",
   "metadata": {},
   "source": [
    "### MODULES IMPORT"
   ]
  },
  {
   "cell_type": "code",
   "execution_count": 3,
   "id": "76e39634-86da-4a66-a6d5-90b439ede523",
   "metadata": {},
   "outputs": [],
   "source": [
    "import pandas as pd\n",
    "import numpy as np\n",
    "import matplotlib.pyplot as plt\n",
    "import math as math"
   ]
  },
  {
   "cell_type": "markdown",
   "id": "105e48d3-f3ab-4a90-83ec-e0cfc14c5a0f",
   "metadata": {},
   "source": [
    "### CLEAN DATA IMPORT"
   ]
  },
  {
   "cell_type": "code",
   "execution_count": 5,
   "id": "a0fc7ca8-7c38-4cdc-854b-3ca7ce81ff82",
   "metadata": {},
   "outputs": [],
   "source": [
    "df = pd.read_csv('./boston_clean.csv')"
   ]
  },
  {
   "cell_type": "markdown",
   "id": "f7beab9f-b220-4dd8-bed9-0c102043fade",
   "metadata": {},
   "source": [
    "### CHANGING TYPE OF COLUMNS THAT USING TIME AS VALUES"
   ]
  },
  {
   "cell_type": "code",
   "execution_count": 7,
   "id": "a7fdfbaf-4a6c-48f4-a48b-baa5c4b86e20",
   "metadata": {},
   "outputs": [],
   "source": [
    "time_columns = ['Pace', '5K', '10K', '15K', '20K', '25K', '30K', '35K', '40K', 'Official Time']\n",
    "df[time_columns] = df[time_columns].apply(lambda col: pd.to_timedelta(col, errors='coerce'))"
   ]
  },
  {
   "cell_type": "markdown",
   "id": "b71784a9-a03e-47a8-886c-4150f9c15cd0",
   "metadata": {},
   "source": [
    "# BASIC INFORMATION"
   ]
  },
  {
   "cell_type": "code",
   "execution_count": 9,
   "id": "df418379-fdf7-4e1d-94e7-de0c802e59e9",
   "metadata": {},
   "outputs": [
    {
     "name": "stdout",
     "output_type": "stream",
     "text": [
      "Number of participants: 79638\n"
     ]
    }
   ],
   "source": [
    "num_participants = len(df) # Number of participants\n",
    "print(f\"Number of participants: {num_participants}\")"
   ]
  },
  {
   "cell_type": "markdown",
   "id": "f97adb3f-c69e-48c4-ad2e-cff4f372dc3f",
   "metadata": {},
   "source": [
    "##### PARTICIPANT ATTRIBUTES\n",
    "The dataset contains the following attributes for each marathon participant:\n",
    "- Name, gender, age\n",
    "- Country and city\n",
    "- Split times at each 5K\n",
    "- Pace, official finish time, rank\n",
    "- Year of participation"
   ]
  },
  {
   "cell_type": "markdown",
   "id": "446d353d-52bb-40db-80a3-12b07a3d0ea1",
   "metadata": {},
   "source": [
    "# UNIVARIATE ANALYSIS"
   ]
  },
  {
   "cell_type": "markdown",
   "id": "08e8b65a-3830-496f-a5fd-e336fa980c4c",
   "metadata": {},
   "source": [
    "## M/F"
   ]
  },
  {
   "cell_type": "code",
   "execution_count": 13,
   "id": "9e9dd236-ec61-4bc6-81f4-0728e83c7adc",
   "metadata": {},
   "outputs": [],
   "source": [
    "df_male = df[df['M/F'] == 'M'] # Dataframe with males only\n",
    "df_female = df[df['M/F'] == 'F'] # Dataframe with females only"
   ]
  },
  {
   "cell_type": "code",
   "execution_count": 14,
   "id": "61a17890-7c03-4b1b-81a6-2901e8fed702",
   "metadata": {},
   "outputs": [
    {
     "name": "stdout",
     "output_type": "stream",
     "text": [
      "Number of males: 43482\n",
      "Number of females: 36156\n"
     ]
    }
   ],
   "source": [
    "num_male = len(df_male) # Number of men\n",
    "num_female = len(df_female) # Number of women\n",
    "\n",
    "print(f\"Number of males: {num_male}\")\n",
    "print(f\"Number of females: {num_female}\")"
   ]
  },
  {
   "cell_type": "code",
   "execution_count": 15,
   "id": "b01f418d-870c-4239-8d73-e8cb1eb52922",
   "metadata": {},
   "outputs": [
    {
     "name": "stdout",
     "output_type": "stream",
     "text": [
      "Percent of males: 54.6\n",
      "Percent of females: 45.4\n",
      "100.0\n"
     ]
    }
   ],
   "source": [
    "percent_male = round((num_male / num_participants * 100),2) # Percent of males\n",
    "percent_female = round((num_female / num_participants * 100),2) # Percent of females\n",
    "\n",
    "print(f\"Percent of males: {percent_male}\")\n",
    "print(f\"Percent of females: {percent_female}\")\n",
    "print(percent_male + percent_female)"
   ]
  },
  {
   "cell_type": "markdown",
   "id": "371b3fd0-ce38-42e2-a5ef-ce4f4b1866a4",
   "metadata": {},
   "source": [
    "## AGE"
   ]
  },
  {
   "cell_type": "code",
   "execution_count": 17,
   "id": "8a421c96-a3d7-4053-a26c-8a3e05aff71d",
   "metadata": {},
   "outputs": [],
   "source": [
    "age = df['Age']"
   ]
  },
  {
   "cell_type": "code",
   "execution_count": 18,
   "id": "7320b3d5-125a-4175-9036-dd8c0c55b711",
   "metadata": {},
   "outputs": [],
   "source": [
    "age_max = age.max() # Max age of participants\n",
    "age_min = age.min() # Min age of participants"
   ]
  },
  {
   "cell_type": "code",
   "execution_count": 19,
   "id": "2e824dcc-e6c8-42bb-b3df-a3cc7cde31e8",
   "metadata": {},
   "outputs": [],
   "source": [
    "age_mean = round(age.mean(), 2) # Average age\n",
    "age_median = age.median() # Median age"
   ]
  },
  {
   "cell_type": "code",
   "execution_count": 20,
   "id": "dcf2f648-fc8a-4cd8-ba6e-48ea73944dbc",
   "metadata": {},
   "outputs": [
    {
     "name": "stdout",
     "output_type": "stream",
     "text": [
      "Max age of participants: 84\n",
      "Min age of participants: 18\n",
      "Average age: 42.42\n",
      "Median age: 42.0\n"
     ]
    }
   ],
   "source": [
    "print(f\"Max age of participants: {age_max}\")\n",
    "print(f\"Min age of participants: {age_min}\")\n",
    "print(f\"Average age: {age_mean}\")\n",
    "print(f\"Median age: {age_median}\")"
   ]
  },
  {
   "cell_type": "markdown",
   "id": "ee5111b4-80ef-43fc-9a5b-1abab32d8b52",
   "metadata": {},
   "source": [
    "### CREATING AGE GROUPS"
   ]
  },
  {
   "cell_type": "code",
   "execution_count": 22,
   "id": "dbc7be30-99b0-45ea-9b8b-2aad1fc377b5",
   "metadata": {},
   "outputs": [
    {
     "name": "stdout",
     "output_type": "stream",
     "text": [
      "Age groups: [[18, 22], [22, 26], [26, 30], [30, 34], [34, 38], [38, 42], [42, 46], [46, 50], [50, 54], [54, 58], [58, 62], [62, 66], [66, 70], [70, 85]]\n"
     ]
    }
   ],
   "source": [
    "age_edges = list(np.arange(age_min, 70, 4)) # Creating age group edges with maximum age of 69\n",
    "age_edges.append(70) # Adding one more starting edge that equals 70\n",
    "age_edges.append(age_max + 1) # Adding ending edge that equals maximum age +1\n",
    "                                # Now last group will be 70+ \n",
    "\n",
    "age_groups = [[age_edges[i], age_edges[i+1]] for i in range(len(age_edges)-1)] # Creating age groups\n",
    "print(f\"Age groups: {age_groups}\")"
   ]
  },
  {
   "cell_type": "markdown",
   "id": "06a9cf47-ad63-4605-acf2-1ca0f77cde29",
   "metadata": {},
   "source": [
    "#### CREATING COLUMN WITH AGE GROUP"
   ]
  },
  {
   "cell_type": "code",
   "execution_count": 24,
   "id": "ca4a7fbf-b22d-4bd4-a36e-fd46b3343d9a",
   "metadata": {},
   "outputs": [],
   "source": [
    "labels = [f\"{g[0]}–{g[1]-1}\" for g in age_groups]\n",
    "bins = [g[0] for g in age_groups] + [age_groups[-1][1]]\n",
    "\n",
    "df['Age Group'] = pd.cut(age, bins=bins, labels=labels, right=False)\n",
    "age_group = df['Age Group']"
   ]
  },
  {
   "cell_type": "code",
   "execution_count": 73,
   "id": "0567fd4e-efbb-440e-a9bd-2baeaca1dffe",
   "metadata": {},
   "outputs": [
    {
     "name": "stdout",
     "output_type": "stream",
     "text": [
      "Age distribution in percentage:\n",
      "Age Group\n",
      "18–21      1.2%\n",
      "22–25      5.6%\n",
      "26–29     8.95%\n",
      "30–33     9.03%\n",
      "34–37    10.52%\n",
      "38–41    11.87%\n",
      "42–45     12.4%\n",
      "46–49    12.43%\n",
      "50–53     10.4%\n",
      "54–57     7.73%\n",
      "58–61      5.2%\n",
      "62–65     2.66%\n",
      "66–69     1.28%\n",
      "70–84     0.73%\n",
      "Name: count, dtype: object\n"
     ]
    }
   ],
   "source": [
    "age_distribution = age_group.value_counts().sort_index() # Counting age distributions\n",
    "age_distribution_percent = round(age_distribution / len(df) * 100, 2) # Converting into percentage\n",
    "\n",
    "print(f\"Age distribution in percentage:{'\\n'}{age_distribution_percent.astype(str)+'%'}\")"
   ]
  }
 ],
 "metadata": {
  "kernelspec": {
   "display_name": "Python [conda env:base] *",
   "language": "python",
   "name": "conda-base-py"
  },
  "language_info": {
   "codemirror_mode": {
    "name": "ipython",
    "version": 3
   },
   "file_extension": ".py",
   "mimetype": "text/x-python",
   "name": "python",
   "nbconvert_exporter": "python",
   "pygments_lexer": "ipython3",
   "version": "3.12.7"
  }
 },
 "nbformat": 4,
 "nbformat_minor": 5
}
