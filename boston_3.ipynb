{
 "cells": [
  {
   "cell_type": "markdown",
   "id": "502e1d07-97b7-4eca-b7f6-4145cc3be2ad",
   "metadata": {},
   "source": [
    "# PREPARE"
   ]
  },
  {
   "cell_type": "markdown",
   "id": "508d0c40-977f-4cc1-8ebf-db57eec46e44",
   "metadata": {},
   "source": [
    "## MODULES IMPORT"
   ]
  },
  {
   "cell_type": "code",
   "execution_count": 3,
   "id": "76e39634-86da-4a66-a6d5-90b439ede523",
   "metadata": {},
   "outputs": [],
   "source": [
    "import pandas as pd\n",
    "import numpy as np\n",
    "import matplotlib.pyplot as plt\n",
    "import math as math"
   ]
  },
  {
   "cell_type": "markdown",
   "id": "105e48d3-f3ab-4a90-83ec-e0cfc14c5a0f",
   "metadata": {},
   "source": [
    "## CLEAN DATA IMPORT"
   ]
  },
  {
   "cell_type": "code",
   "execution_count": 5,
   "id": "a0fc7ca8-7c38-4cdc-854b-3ca7ce81ff82",
   "metadata": {},
   "outputs": [],
   "source": [
    "df = pd.read_csv('./boston_clean.csv')"
   ]
  },
  {
   "cell_type": "markdown",
   "id": "f7beab9f-b220-4dd8-bed9-0c102043fade",
   "metadata": {},
   "source": [
    "### CHANGING TYPE OF COLUMNS THAT USING TIME AS VALUES"
   ]
  },
  {
   "cell_type": "code",
   "execution_count": 7,
   "id": "a7fdfbaf-4a6c-48f4-a48b-baa5c4b86e20",
   "metadata": {},
   "outputs": [],
   "source": [
    "time_columns = ['Pace', '5K', '10K', '15K', '20K', '25K', '30K', '35K', '40K', 'Official Time']\n",
    "df[time_columns] = df[time_columns].apply(lambda col: pd.to_timedelta(col, errors='coerce'))"
   ]
  },
  {
   "cell_type": "markdown",
   "id": "b71784a9-a03e-47a8-886c-4150f9c15cd0",
   "metadata": {},
   "source": [
    "# BASIC INFORMATION"
   ]
  },
  {
   "cell_type": "code",
   "execution_count": 9,
   "id": "df418379-fdf7-4e1d-94e7-de0c802e59e9",
   "metadata": {},
   "outputs": [
    {
     "name": "stdout",
     "output_type": "stream",
     "text": [
      "Number of participants: 79638\n"
     ]
    }
   ],
   "source": [
    "num_participants = len(df) # number of participants\n",
    "print(f\"Number of participants: {num_participants}\")"
   ]
  },
  {
   "cell_type": "markdown",
   "id": "f97adb3f-c69e-48c4-ad2e-cff4f372dc3f",
   "metadata": {},
   "source": [
    "## PARTICIPANT ATTRIBUTES\n",
    "The dataset contains the following attributes for each marathon participant:\n",
    "- Name, gender, age\n",
    "- Country and city\n",
    "- Split times at each 5K\n",
    "- Pace, official finish time, rank\n",
    "- Year of participation"
   ]
  },
  {
   "cell_type": "markdown",
   "id": "446d353d-52bb-40db-80a3-12b07a3d0ea1",
   "metadata": {},
   "source": [
    "# UNIVARIATE ANALYSIS"
   ]
  },
  {
   "cell_type": "markdown",
   "id": "08e8b65a-3830-496f-a5fd-e336fa980c4c",
   "metadata": {},
   "source": [
    "## M/F"
   ]
  },
  {
   "cell_type": "code",
   "execution_count": 13,
   "id": "288b26c5-fb01-4719-8d3c-bde076753ec4",
   "metadata": {},
   "outputs": [],
   "source": [
    "gender = df['M/F']"
   ]
  },
  {
   "cell_type": "markdown",
   "id": "556a1bd3-e2de-44fb-aa81-561fb7f39059",
   "metadata": {},
   "source": [
    "#### M/F - lab"
   ]
  },
  {
   "cell_type": "code",
   "execution_count": 15,
   "id": "61a17890-7c03-4b1b-81a6-2901e8fed702",
   "metadata": {},
   "outputs": [],
   "source": [
    "df_male = df[gender == 'M'] # Dataframe with males only\n",
    "df_female = df[gender == 'F'] # Dataframe with females only\n",
    "\n",
    "gender_count = gender.value_counts() # gender count\n",
    "gender_percent = round(gender.value_counts(normalize=True) * 100, 2) # gender percentage\n",
    "df_gender_dist = pd.concat([gender_count, gender_percent], axis=1) # gender distribution"
   ]
  },
  {
   "cell_type": "markdown",
   "id": "cee85c91-46e4-4d20-863f-2cdfcd0049a2",
   "metadata": {},
   "source": [
    "#### M/F - results"
   ]
  },
  {
   "cell_type": "code",
   "execution_count": 17,
   "id": "b01f418d-870c-4239-8d73-e8cb1eb52922",
   "metadata": {},
   "outputs": [
    {
     "name": "stdout",
     "output_type": "stream",
     "text": [
      "Gender distribution:\n",
      "     count  proportion\n",
      "M/F                   \n",
      "M    43482        54.6\n",
      "F    36156        45.4\n"
     ]
    }
   ],
   "source": [
    "print(f\"Gender distribution:\\n{df_gender_dist}\")\n",
    "# RESULTS EXPORT\n",
    "df_gender_dist.to_csv('./export/gender_dist.csv')"
   ]
  },
  {
   "cell_type": "markdown",
   "id": "371b3fd0-ce38-42e2-a5ef-ce4f4b1866a4",
   "metadata": {},
   "source": [
    "## AGE"
   ]
  },
  {
   "cell_type": "code",
   "execution_count": 19,
   "id": "3105517f-d81a-4508-bc24-6b443ac80f8e",
   "metadata": {},
   "outputs": [],
   "source": [
    "age = df['Age'] # DataSeries with age"
   ]
  },
  {
   "cell_type": "markdown",
   "id": "d4857c9a-a968-48e7-923b-af29f547d307",
   "metadata": {},
   "source": [
    "#### AGE - lab"
   ]
  },
  {
   "cell_type": "code",
   "execution_count": 21,
   "id": "7320b3d5-125a-4175-9036-dd8c0c55b711",
   "metadata": {},
   "outputs": [],
   "source": [
    "age_max = age.max() # max age of participants\n",
    "age_min = age.min() # min age of participants\n",
    "age_avg = round(age.mean(), 2) # average age\n",
    "age_med = age.median() # median age"
   ]
  },
  {
   "cell_type": "markdown",
   "id": "4952481e-0309-4daa-85cf-27bd745bcb6d",
   "metadata": {},
   "source": [
    "#### AGE - results"
   ]
  },
  {
   "cell_type": "code",
   "execution_count": 23,
   "id": "dcf2f648-fc8a-4cd8-ba6e-48ea73944dbc",
   "metadata": {},
   "outputs": [
    {
     "name": "stdout",
     "output_type": "stream",
     "text": [
      "Max age of participants: 84\n",
      "Min age of participants: 18\n",
      "Average age: 42.42\n",
      "Median age: 42.0\n"
     ]
    }
   ],
   "source": [
    "print(f\"Max age of participants: {age_max}\")\n",
    "print(f\"Min age of participants: {age_min}\")\n",
    "print(f\"Average age: {age_avg}\")\n",
    "print(f\"Median age: {age_med}\")"
   ]
  },
  {
   "cell_type": "markdown",
   "id": "f76d116a-a391-4312-8e15-aa3169a67403",
   "metadata": {},
   "source": [
    "### DISTRIBUTION OF AGE GROUPS"
   ]
  },
  {
   "cell_type": "code",
   "execution_count": 25,
   "id": "ac8f121d-7a39-4bb9-81b2-ec5f323a79e8",
   "metadata": {},
   "outputs": [],
   "source": [
    "age_groups = df['Age Group']"
   ]
  },
  {
   "cell_type": "markdown",
   "id": "0caf82b4-9bb8-47a7-9217-4470deb63b48",
   "metadata": {},
   "source": [
    "#### DISTRIBUTION OF AGE GROUPS - lab"
   ]
  },
  {
   "cell_type": "code",
   "execution_count": 27,
   "id": "e399281b-653d-4cb0-8374-1e8ba890ea89",
   "metadata": {},
   "outputs": [],
   "source": [
    "# count of age groups\n",
    "age_groups_count = age_groups.value_counts().sort_index()\n",
    "\n",
    "# percentage of age groups\n",
    "age_groups_percent = round(age_groups.value_counts(normalize=True).sort_index() * 100, 2)\n",
    "\n",
    "# creating df to present results\n",
    "df_age_groups_dist = pd.concat([age_groups_count, age_groups_percent], axis=1)"
   ]
  },
  {
   "cell_type": "markdown",
   "id": "17a60df8-c085-4a12-bd36-1fdd4dd66fc6",
   "metadata": {},
   "source": [
    "#### DISTRIBUTION OF AGE GROUPS - results"
   ]
  },
  {
   "cell_type": "code",
   "execution_count": 29,
   "id": "ac4e461f-76dc-4c11-aafc-a73c62f65459",
   "metadata": {},
   "outputs": [
    {
     "name": "stdout",
     "output_type": "stream",
     "text": [
      "Percentage distribution of age groups:\n",
      "           count  proportion\n",
      "Age Group                   \n",
      "18–21        952        1.20\n",
      "22–25       4461        5.60\n",
      "26–29       7128        8.95\n",
      "30–33       7188        9.03\n",
      "34–37       8379       10.52\n",
      "38–41       9457       11.87\n",
      "42–45       9875       12.40\n",
      "46–49       9900       12.43\n",
      "50–53       8282       10.40\n",
      "54–57       6154        7.73\n",
      "58–61       4140        5.20\n",
      "62–65       2121        2.66\n",
      "66–69       1018        1.28\n",
      "70–84        583        0.73\n"
     ]
    }
   ],
   "source": [
    "print(f\"Percentage distribution of age groups:{'\\n'}{df_age_groups_dist}\")\n",
    "\n",
    "# results export\n",
    "df_age_groups_dist.to_csv('./export/age_groups_dist.csv')"
   ]
  },
  {
   "cell_type": "markdown",
   "id": "d01dbdc7-0936-47e2-9605-daa4c85fafef",
   "metadata": {},
   "source": [
    "## COUNTRY"
   ]
  },
  {
   "cell_type": "code",
   "execution_count": 31,
   "id": "80d19048-47c0-41c8-b02c-77d08330e4e6",
   "metadata": {},
   "outputs": [],
   "source": [
    "country = df['Country']"
   ]
  },
  {
   "cell_type": "markdown",
   "id": "00ad4b25-2389-4af7-99c4-5a4de582a7ab",
   "metadata": {},
   "source": [
    "#### COUNTRY - lab"
   ]
  },
  {
   "cell_type": "code",
   "execution_count": 33,
   "id": "845357dc-06d0-463e-8459-8a1839f82ac0",
   "metadata": {},
   "outputs": [],
   "source": [
    "# countries\n",
    "country_num = country.nunique() # number of countries\n",
    "country_count = country.value_counts()\n",
    "country_percent = round(country.value_counts(normalize=True) * 100, 1)\n",
    "\n",
    "# creating df to present results\n",
    "df_country_dist = pd.concat([country_count, country_percent], axis=1)"
   ]
  },
  {
   "cell_type": "markdown",
   "id": "f7dbe730-4ede-40f5-9f55-614fe76676dc",
   "metadata": {},
   "source": [
    "#### COUNTRY - results"
   ]
  },
  {
   "cell_type": "code",
   "execution_count": 35,
   "id": "fd501578-f7ad-4de0-8c2d-876845789860",
   "metadata": {},
   "outputs": [
    {
     "name": "stdout",
     "output_type": "stream",
     "text": [
      "Number of countries in marathon: 105\n",
      "\n",
      "Top 10 countries distribution:\n",
      "\n",
      "         count  proportion\n",
      "Country                   \n",
      "USA      64474        81.0\n",
      "CAN       6171         7.7\n",
      "GBR       1072         1.3\n",
      "MEX        768         1.0\n",
      "GER        573         0.7\n",
      "JPN        491         0.6\n",
      "AUS        475         0.6\n",
      "ITA        474         0.6\n",
      "CHN        430         0.5\n",
      "BRA        428         0.5\n",
      "\n",
      "\n"
     ]
    }
   ],
   "source": [
    "print(f\"Number of countries in marathon: {country_num}\")\n",
    "print(f\"\\nTop 10 countries distribution:{'\\n'*2}{df_country_dist.head(10)}{'\\n'*2}\")\n",
    "\n",
    "# results export\n",
    "df_country_dist.to_csv('./export/country_dist.csv')"
   ]
  },
  {
   "cell_type": "markdown",
   "id": "809115c0-8bc8-42e7-b2d6-4687a23f6c4d",
   "metadata": {},
   "source": [
    "### CONTINENT"
   ]
  },
  {
   "cell_type": "code",
   "execution_count": 37,
   "id": "ed539729-0c6f-4a10-b342-e5e50ef1c136",
   "metadata": {},
   "outputs": [],
   "source": [
    "continent = df['Continent']"
   ]
  },
  {
   "cell_type": "markdown",
   "id": "8bf42c3d-82cf-4796-88de-dbcef3330927",
   "metadata": {},
   "source": [
    "#### CONTINENT - lab"
   ]
  },
  {
   "cell_type": "code",
   "execution_count": 39,
   "id": "686eadba-a00f-439b-a898-6b25e107c31e",
   "metadata": {},
   "outputs": [],
   "source": [
    "# continents\n",
    "continent_count = continent.value_counts()\n",
    "continent_percent = round(continent.value_counts(normalize=True) * 100, 1)\n",
    "\n",
    "# creating df to present results\n",
    "df_continent_dist = pd.concat([continent_count, continent_percent], axis=1)"
   ]
  },
  {
   "cell_type": "markdown",
   "id": "efa82ecc-a548-403d-a720-29e0ef1c8760",
   "metadata": {},
   "source": [
    "#### CONTINENT - results"
   ]
  },
  {
   "cell_type": "code",
   "execution_count": 41,
   "id": "885a504a-1bd8-4d47-975c-d46f541cf555",
   "metadata": {},
   "outputs": [
    {
     "name": "stdout",
     "output_type": "stream",
     "text": [
      "Continents distribution:\n",
      "\n",
      "               count  proportion\n",
      "Continent                       \n",
      "North America  71701        90.0\n",
      "Europe          4499         5.6\n",
      "Asia            1772         2.2\n",
      "South America    971         1.2\n",
      "Oceania          554         0.7\n",
      "Africa           141         0.2\n"
     ]
    }
   ],
   "source": [
    "print(f\"Continents distribution:{'\\n'*2}{df_continent_dist}\")\n",
    "\n",
    "# results export\n",
    "df_continent_dist.to_csv('./export/continent_dist.csv')"
   ]
  },
  {
   "cell_type": "markdown",
   "id": "99542249-d307-4ff3-ba0c-b7d31a80e62b",
   "metadata": {},
   "source": [
    "## OFFICIAL TIME"
   ]
  },
  {
   "cell_type": "code",
   "execution_count": 43,
   "id": "8bfd8165-bc01-429a-92e1-2388ef5fd661",
   "metadata": {},
   "outputs": [],
   "source": [
    "official_time = df['Official Time'] # DataSeries with official finish time"
   ]
  },
  {
   "cell_type": "markdown",
   "id": "b4b02843-3a31-42e7-a604-19f6326e239b",
   "metadata": {},
   "source": [
    "#### OFFICIAL TIME - lab"
   ]
  },
  {
   "cell_type": "code",
   "execution_count": 45,
   "id": "6746e2f6-c363-4e0f-97d7-2f7318a75049",
   "metadata": {},
   "outputs": [],
   "source": [
    "# official finish time\n",
    "time_fastest = official_time.min()\n",
    "time_longest = official_time.max()\n",
    "time_avg = official_time.mean()\n",
    "time_med = official_time.median()"
   ]
  },
  {
   "cell_type": "markdown",
   "id": "d2033413-c1a5-4ee4-9ebc-260032897f88",
   "metadata": {},
   "source": [
    "#### OFFICIAL TIME - results"
   ]
  },
  {
   "cell_type": "code",
   "execution_count": 47,
   "id": "e1579e2e-5320-4d7e-ad85-e52a04980725",
   "metadata": {},
   "outputs": [
    {
     "name": "stdout",
     "output_type": "stream",
     "text": [
      "OFFICIAL FINISH TIME STATISTICS\n",
      "Fastest time in marathon is: 02:09:17\n",
      "Longest time in marathon is: 10:30:23\n",
      "Average time in marathon is: 03:53:09\n",
      "Median time in marathon is: 03:46:32\n"
     ]
    }
   ],
   "source": [
    "print('OFFICIAL FINISH TIME STATISTICS')\n",
    "print(f\"Fastest time in marathon is: {str(time_fastest)[7:]}\")\n",
    "print(f\"Longest time in marathon is: {str(time_longest)[7:]}\")\n",
    "print(f\"Average time in marathon is: {str(time_avg)[7:15]}\")\n",
    "print(f\"Median time in marathon is: {str(time_med)[7:]}\")"
   ]
  },
  {
   "cell_type": "markdown",
   "id": "0eb4b82f-9c9b-4921-864c-82db64b60fbd",
   "metadata": {},
   "source": [
    "### PACE"
   ]
  },
  {
   "cell_type": "code",
   "execution_count": 49,
   "id": "d4dff47a-fe69-4a87-bd1e-d3eb6b4f6241",
   "metadata": {},
   "outputs": [],
   "source": [
    "pace = df['Pace'] # DataSeries with pace"
   ]
  },
  {
   "cell_type": "markdown",
   "id": "558bb88a-24cb-4a76-aadc-3d9fb51d26f5",
   "metadata": {},
   "source": [
    "#### PACE - lab"
   ]
  },
  {
   "cell_type": "code",
   "execution_count": 51,
   "id": "f59208fb-6383-4ee7-a903-e73e4067d872",
   "metadata": {},
   "outputs": [],
   "source": [
    "# pace\n",
    "pace_fastest = pace.min()\n",
    "pace_longest = pace.max()\n",
    "pace_avg = pace.mean()\n",
    "pace_med = pace.median()"
   ]
  },
  {
   "cell_type": "markdown",
   "id": "400d4455-20e7-4e37-8d8b-215cc945f6d8",
   "metadata": {},
   "source": [
    "#### PACE - results"
   ]
  },
  {
   "cell_type": "code",
   "execution_count": 53,
   "id": "e32344b8-8927-4153-8929-502770fe0841",
   "metadata": {},
   "outputs": [
    {
     "name": "stdout",
     "output_type": "stream",
     "text": [
      "PACE STATISTICS\n",
      "Fastest pace in marathon is: 3:03.92 min/km\n",
      "Longest pace in marathon is: 15:13.41 min/km\n",
      "Average pace in marathon is: 5:31.86 min/km\n",
      "Median pace in marathon is: 5:22.49 min/km\n"
     ]
    }
   ],
   "source": [
    "print('PACE STATISTICS')\n",
    "print(f\"Fastest pace in marathon is: {str(pace_fastest)[11:18] + ' min/km'}\")\n",
    "print(f\"Longest pace in marathon is: {str(pace_longest)[10:18] + ' min/km'}\")\n",
    "print(f\"Average pace in marathon is: {str(pace_avg)[11:18] + ' min/km'}\")\n",
    "print(f\"Median pace in marathon is: {str(pace_med)[11:18] + ' min/km'}\")"
   ]
  },
  {
   "cell_type": "markdown",
   "id": "063179d7-fa31-4644-8678-8825d2cd6b18",
   "metadata": {},
   "source": [
    "# BIVARIATE ANALYSIS"
   ]
  },
  {
   "cell_type": "markdown",
   "id": "c3ad15ab-b1a4-4b5c-aa0d-8dd619ab1c50",
   "metadata": {},
   "source": [
    "## GENDER X AGE"
   ]
  },
  {
   "cell_type": "code",
   "execution_count": 56,
   "id": "04419c17-6714-4b87-91bd-289dd4be9983",
   "metadata": {},
   "outputs": [],
   "source": [
    "df_gender_age = df[['M/F', 'Age', 'Age Group']]\n",
    "\n",
    "df_male_age = df_gender_age[df_gender_age['M/F'] == 'M']\n",
    "df_female_age = df_gender_age[df_gender_age['M/F'] == 'F']"
   ]
  },
  {
   "cell_type": "markdown",
   "id": "866101e5-2681-4a5f-a2bf-d0ba28345708",
   "metadata": {},
   "source": [
    "#### GENDER X AGE - lab"
   ]
  },
  {
   "cell_type": "code",
   "execution_count": 58,
   "id": "b78e0262-0fe6-4277-8dea-11538d0be1b4",
   "metadata": {},
   "outputs": [],
   "source": [
    "# male\n",
    "male_age_max = df_male_age['Age'].max()\n",
    "male_age_min = df_male_age['Age'].min()\n",
    "male_age_avg = round(df_male_age['Age'].mean())\n",
    "male_age_med = df_male_age['Age'].median()\n",
    "# female\n",
    "female_age_max = df_female_age['Age'].max()\n",
    "female_age_min = df_female_age['Age'].min()\n",
    "female_age_avg = round(df_female_age['Age'].mean())\n",
    "female_age_med = df_female_age['Age'].median()"
   ]
  },
  {
   "cell_type": "markdown",
   "id": "d9fbb183-de97-4a98-8605-a4a11c9946cd",
   "metadata": {},
   "source": [
    "#### GENDER X AGE - results"
   ]
  },
  {
   "cell_type": "code",
   "execution_count": 113,
   "id": "5364b62c-5a4c-4cd4-8c53-775c262b896c",
   "metadata": {},
   "outputs": [
    {
     "name": "stdout",
     "output_type": "stream",
     "text": [
      "male\n",
      "\n",
      "Male max age: 83\n",
      "Male min age: 18\n",
      "Male average age: 45\n",
      "Male median age: 45.0\n",
      "\n",
      "female\n",
      "\n",
      "Female max age: 84\n",
      "Female min age: 18\n",
      "Female average age: 40\n",
      "Female median age: 40.0\n"
     ]
    }
   ],
   "source": [
    "print(\"male\\n\")\n",
    "print(f\"Male max age: {male_age_max}\")\n",
    "print(f\"Male min age: {male_age_min}\")\n",
    "print(f\"Male average age: {male_age_avg}\")\n",
    "print(f\"Male median age: {male_age_med}\\n\")\n",
    "print(\"female\\n\")\n",
    "print(f\"Female max age: {female_age_max}\")\n",
    "print(f\"Female min age: {female_age_min}\")\n",
    "print(f\"Female average age: {female_age_avg}\")\n",
    "print(f\"Female median age: {female_age_med}\")"
   ]
  },
  {
   "cell_type": "markdown",
   "id": "5b763654-b13c-4f11-9029-e42a624b6d6a",
   "metadata": {},
   "source": [
    "### GENDER X AGE GROUPS"
   ]
  },
  {
   "cell_type": "markdown",
   "id": "89fb81e9-bcab-4ee2-8695-60885e159e00",
   "metadata": {},
   "source": [
    "#### GENDER X AGE GROUPS - lab"
   ]
  },
  {
   "cell_type": "code",
   "execution_count": 63,
   "id": "e84d6de9-052b-40a0-9c66-388393f947eb",
   "metadata": {},
   "outputs": [],
   "source": [
    "# males\n",
    "male_age_groups_count = df_male_age['Age Group'].value_counts().sort_index()\n",
    "male_age_groups_percent = round(df_male_age['Age Group'].value_counts(normalize=True).sort_index() * 100,2)\n",
    "# females\n",
    "female_age_groups_count = df_female_age['Age Group'].value_counts().sort_index()\n",
    "female_age_groups_percent = round(df_female_age['Age Group'].value_counts(normalize=True).sort_index() * 100,2)\n",
    "# creating df to present results\n",
    "df_male_age_groups_dist = pd.concat([male_age_groups_count, male_age_groups_percent], axis=1)\n",
    "df_female_age_groups_dist = pd.concat([female_age_groups_count, female_age_groups_percent], axis=1)"
   ]
  },
  {
   "cell_type": "markdown",
   "id": "a4e692bd-20f8-4000-b97c-3d248526f251",
   "metadata": {},
   "source": [
    "#### GENDER X AGE GROUPS - results"
   ]
  },
  {
   "cell_type": "code",
   "execution_count": 119,
   "id": "55e11adc-e31c-4191-ae88-7d5248b519b2",
   "metadata": {},
   "outputs": [
    {
     "name": "stdout",
     "output_type": "stream",
     "text": [
      "male\n",
      "           count  proportion\n",
      "Age Group                   \n",
      "18–21        460        1.06\n",
      "22–25       1641        3.77\n",
      "26–29       2869        6.60\n",
      "30–33       3405        7.83\n",
      "34–37       4082        9.39\n",
      "38–41       4691       10.79\n",
      "42–45       5316       12.23\n",
      "46–49       5707       13.12\n",
      "50–53       5089       11.70\n",
      "54–57       4236        9.74\n",
      "58–61       3026        6.96\n",
      "62–65       1635        3.76\n",
      "66–69        828        1.90\n",
      "70–84        497        1.14\n",
      "\n",
      "female\n",
      "           count  proportion\n",
      "Age Group                   \n",
      "18–21        492        1.36\n",
      "22–25       2820        7.80\n",
      "26–29       4259       11.78\n",
      "30–33       3783       10.46\n",
      "34–37       4297       11.88\n",
      "38–41       4766       13.18\n",
      "42–45       4559       12.61\n",
      "46–49       4193       11.60\n",
      "50–53       3193        8.83\n",
      "54–57       1918        5.30\n",
      "58–61       1114        3.08\n",
      "62–65        486        1.34\n",
      "66–69        190        0.53\n",
      "70–84         86        0.24\n"
     ]
    }
   ],
   "source": [
    "print('male')\n",
    "print(df_male_age_groups_dist)\n",
    "print('\\nfemale')\n",
    "print(df_female_age_groups_dist)\n",
    "\n",
    "# results export\n",
    "df_male_age_groups_dist.to_csv('./export/male_age_groups_dist.csv')\n",
    "df_female_age_groups_dist.to_csv('./export/female_age_groups_dist.csv')"
   ]
  },
  {
   "cell_type": "markdown",
   "id": "4d6f0c86-842b-49a1-9bad-c0dd78c1ab56",
   "metadata": {},
   "source": [
    "## GENDER X COUNTRY"
   ]
  },
  {
   "cell_type": "code",
   "execution_count": 142,
   "id": "819c3b6d-45b9-4c85-9be6-27e5cb52b935",
   "metadata": {},
   "outputs": [],
   "source": [
    "df_gender_country = df[['M/F', 'Country', 'Continent']]\n",
    "\n",
    "df_male_country = df_gender_country[df_gender_country['M/F'] == 'M']\n",
    "df_female_country = df_gender_country[df_gender_country['M/F'] == 'F']"
   ]
  },
  {
   "cell_type": "markdown",
   "id": "3c3220d7-13ed-44ef-a288-cdb44e73f76c",
   "metadata": {},
   "source": [
    "#### GENDER X COUNTRY - lab"
   ]
  },
  {
   "cell_type": "code",
   "execution_count": 161,
   "id": "3873c0e1-7693-41b4-817b-0f38d2629a69",
   "metadata": {},
   "outputs": [],
   "source": [
    "# males\n",
    "male_country_count = df_male_country['Country'].value_counts()\n",
    "male_country_percent = round(df_male_country['Country'].value_counts(normalize=True) * 100, 2)\n",
    "# results df\n",
    "df_male_country_dist = pd.concat([male_country_count, male_country_percent], axis=1)\n",
    "\n",
    "# females\n",
    "female_country_count = df_female_country['Country'].value_counts()\n",
    "female_country_percent = round(df_female_country['Country'].value_counts(normalize=True) * 100, 2)\n",
    "# results df\n",
    "df_female_country_dist = pd.concat([female_country_count, female_country_percent], axis=1)"
   ]
  },
  {
   "cell_type": "markdown",
   "id": "c9b8eb6d-31b9-46f4-8c52-8ea50c0dd21e",
   "metadata": {},
   "source": [
    "#### GENDER X COUNTRY - results"
   ]
  },
  {
   "cell_type": "code",
   "execution_count": 176,
   "id": "656b798a-210d-484b-9f8d-5853e5384f14",
   "metadata": {
    "collapsed": true,
    "jupyter": {
     "outputs_hidden": true
    }
   },
   "outputs": [
    {
     "name": "stdout",
     "output_type": "stream",
     "text": [
      "males country distribution:\n",
      "         count  proportion\n",
      "Country                   \n",
      "USA      33390       76.79\n",
      "CAN       3499        8.05\n",
      "GBR        707        1.63\n",
      "MEX        510        1.17\n",
      "GER        437        1.01\n",
      "ITA        378        0.87\n",
      "JPN        357        0.82\n",
      "CHN        307        0.71\n",
      "BRA        305        0.70\n",
      "AUS        294        0.68\n",
      "\n",
      "females country distribution:\n",
      "         count  proportion\n",
      "Country                   \n",
      "USA      31084       85.97\n",
      "CAN       2672        7.39\n",
      "GBR        365        1.01\n",
      "MEX        258        0.71\n",
      "AUS        181        0.50\n",
      "GER        136        0.38\n",
      "JPN        134        0.37\n",
      "BRA        123        0.34\n",
      "CHN        123        0.34\n",
      "ITA         96        0.27\n"
     ]
    }
   ],
   "source": [
    "print(f\"males country distribution:\\n{df_male_country_dist.head(10)}\\n\")\n",
    "print(f\"females country distribution:\\n{df_female_country_dist.head(10)}\")"
   ]
  },
  {
   "cell_type": "markdown",
   "id": "b3ec4867-2a58-41c1-b571-592a9fbc9527",
   "metadata": {},
   "source": [
    "### GENDER X CONTINENT"
   ]
  },
  {
   "cell_type": "markdown",
   "id": "e48afad5-8313-499e-8048-3c54bcbc7a32",
   "metadata": {},
   "source": [
    "#### GENDER X CONTINENT - lab"
   ]
  },
  {
   "cell_type": "code",
   "execution_count": 183,
   "id": "45739f96-f122-44f6-8741-286ad5cd3cb7",
   "metadata": {},
   "outputs": [],
   "source": [
    "# males\n",
    "male_continent_count = df_male_country['Continent'].value_counts()\n",
    "male_continent_percent = round(df_male_country['Continent'].value_counts(normalize=True) * 100, 2)\n",
    "# results df\n",
    "df_male_continent_dist = pd.concat([male_continent_count, male_continent_percent], axis=1)\n",
    "\n",
    "# females\n",
    "female_continent_count = df_female_country['Continent'].value_counts()\n",
    "female_continent_percent = round(df_female_country['Continent'].value_counts(normalize=True) * 100, 2)\n",
    "# results df\n",
    "df_female_continent_dist = pd.concat([female_continent_count, female_continent_percent], axis=1)"
   ]
  },
  {
   "cell_type": "markdown",
   "id": "f56db70d-6307-4d7d-8865-9664b6ffa359",
   "metadata": {},
   "source": [
    "#### GENDER X CONTINENT - results"
   ]
  },
  {
   "cell_type": "code",
   "execution_count": 192,
   "id": "94d8f0b8-10a5-4833-b64b-a7bbdd88e90a",
   "metadata": {},
   "outputs": [
    {
     "name": "stdout",
     "output_type": "stream",
     "text": [
      "male\n",
      "               count  proportion\n",
      "Continent                       \n",
      "North America  37577       86.42\n",
      "Europe          3425        7.88\n",
      "Asia            1332        3.06\n",
      "South America    713        1.64\n",
      "Oceania          345        0.79\n",
      "Africa            90        0.21\n",
      "\n",
      "female\n",
      "               count  proportion\n",
      "Continent                       \n",
      "North America  34124       94.38\n",
      "Europe          1074        2.97\n",
      "Asia             440        1.22\n",
      "South America    258        0.71\n",
      "Oceania          209        0.58\n",
      "Africa            51        0.14\n"
     ]
    }
   ],
   "source": [
    "print('male')\n",
    "print(df_male_continent_dist)\n",
    "print('\\nfemale')\n",
    "print(df_female_continent_dist)\n",
    "\n",
    "# results export\n",
    "df_male_continent_dist.to_csv('./export/male_continent_dist.csv')\n",
    "df_female_continent_dist.to_csv('./export/female_continent_dist.csv')"
   ]
  },
  {
   "cell_type": "markdown",
   "id": "93e344e1-129e-44ab-936f-2b98fac227e1",
   "metadata": {},
   "source": [
    "## GENDER X TIME"
   ]
  },
  {
   "cell_type": "markdown",
   "id": "299a7d6b-1b19-44f1-8685-0b490f3f526a",
   "metadata": {},
   "source": [
    "#### GENDER X TIME - lab"
   ]
  },
  {
   "cell_type": "markdown",
   "id": "b44b00f1-cfe6-4b8f-89b9-80a8d542a167",
   "metadata": {},
   "source": [
    "#### GENDER X TIME - results"
   ]
  },
  {
   "cell_type": "markdown",
   "id": "b0a7a7b3-236b-4d69-bddd-a6c75b29ba7a",
   "metadata": {},
   "source": [
    "## AGE X COUNTRY"
   ]
  },
  {
   "cell_type": "markdown",
   "id": "b869decc-e784-4dbc-a328-09c68a6cfa0b",
   "metadata": {},
   "source": [
    "## AGE X TIME"
   ]
  },
  {
   "cell_type": "markdown",
   "id": "b0d76c94-6593-42f7-a0fa-d96f74f8869c",
   "metadata": {},
   "source": [
    "## COUNTRY X TIME"
   ]
  },
  {
   "cell_type": "code",
   "execution_count": null,
   "id": "99d2799e-5e50-4a0c-82ba-c31bc189d85c",
   "metadata": {},
   "outputs": [],
   "source": []
  }
 ],
 "metadata": {
  "kernelspec": {
   "display_name": "Python [conda env:base] *",
   "language": "python",
   "name": "conda-base-py"
  },
  "language_info": {
   "codemirror_mode": {
    "name": "ipython",
    "version": 3
   },
   "file_extension": ".py",
   "mimetype": "text/x-python",
   "name": "python",
   "nbconvert_exporter": "python",
   "pygments_lexer": "ipython3",
   "version": "3.12.7"
  }
 },
 "nbformat": 4,
 "nbformat_minor": 5
}
