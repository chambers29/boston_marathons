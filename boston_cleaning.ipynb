{
 "cells": [
  {
   "cell_type": "markdown",
   "id": "7a56ea98-8e18-406d-9e54-4a52ae3219bc",
   "metadata": {},
   "source": [
    "# DATA CLEANING"
   ]
  },
  {
   "cell_type": "markdown",
   "id": "c0db364b-09f9-4820-85d2-191362433a80",
   "metadata": {},
   "source": [
    "#### MODULES IMPORT"
   ]
  },
  {
   "cell_type": "code",
   "execution_count": 3,
   "id": "190add63-3522-42e0-ba69-d04c4a78de53",
   "metadata": {},
   "outputs": [],
   "source": [
    "import pandas as pd\n",
    "import numpy as np\n",
    "import matplotlib.pyplot as plt\n",
    "import math as math"
   ]
  },
  {
   "cell_type": "markdown",
   "id": "860f2b01-15aa-4ae3-a713-5f1d48a1ebce",
   "metadata": {},
   "source": [
    "#### RAW DATA IMPORT"
   ]
  },
  {
   "cell_type": "code",
   "execution_count": 5,
   "id": "5bff1d9b-42df-45de-b983-1386fd30289f",
   "metadata": {},
   "outputs": [],
   "source": [
    "df_2015 = pd.read_csv('./raw/marathon_results_2015.csv')\n",
    "df_2016 = pd.read_csv('./raw/marathon_results_2016.csv')\n",
    "df_2017 = pd.read_csv('./raw/marathon_results_2017.csv')"
   ]
  },
  {
   "cell_type": "markdown",
   "id": "51d67be3-d713-4f9c-b6b7-57d4ec896304",
   "metadata": {},
   "source": [
    "#### ADDING YEAR COLUMNS TO EACH DATASET"
   ]
  },
  {
   "cell_type": "code",
   "execution_count": 7,
   "id": "149a9209-ff53-4e43-b945-efbe2308893e",
   "metadata": {},
   "outputs": [],
   "source": [
    "df_2015['Year'] = 2015\n",
    "df_2016['Year'] = 2016\n",
    "df_2017['Year'] = 2017"
   ]
  },
  {
   "cell_type": "markdown",
   "id": "354b7fa2-4cf6-474e-8ef2-811f1e4fb1af",
   "metadata": {},
   "source": [
    "#### COMBINING IMPORTED DATASETS INTO ONE"
   ]
  },
  {
   "cell_type": "code",
   "execution_count": 9,
   "id": "064c089c-f9e9-46b4-9810-540a5adc3302",
   "metadata": {},
   "outputs": [],
   "source": [
    "df_all = pd.concat([df_2015, df_2016, df_2017])"
   ]
  },
  {
   "cell_type": "markdown",
   "id": "a4426014-7b23-4e51-934e-d4800e45b47c",
   "metadata": {},
   "source": [
    "#### SELECTING COLUMNS"
   ]
  },
  {
   "cell_type": "code",
   "execution_count": 11,
   "id": "d1e838ab-30f1-4ddc-9711-cfd29de46211",
   "metadata": {},
   "outputs": [],
   "source": [
    "df_all = df_all[['Name', 'M/F', 'Age', 'Country', 'City', 'Pace', '5K', '10K', '15K', '20K', '25K', '30K', '35K', '40K', 'Official Time', 'Year']]"
   ]
  },
  {
   "cell_type": "markdown",
   "id": "8c36f437-0399-422c-8d6f-818d6e04f93d",
   "metadata": {},
   "source": [
    "#### CHANGING TYPE OF COLUMNS THAT ARE USING TIME VALUES"
   ]
  },
  {
   "cell_type": "code",
   "execution_count": 13,
   "id": "324ae4d3-c0ee-41eb-a1c7-ab40d3397012",
   "metadata": {},
   "outputs": [],
   "source": [
    "time_columns = ['Pace', '5K', '10K', '15K', '20K', '25K', '30K', '35K', '40K', 'Official Time']\n",
    "df_all[time_columns] = df_all[time_columns].apply(lambda col: pd.to_timedelta(col, errors='coerce'))"
   ]
  },
  {
   "cell_type": "markdown",
   "id": "cca80b2a-1f36-40eb-9ac1-0b9ba6dfb52c",
   "metadata": {},
   "source": [
    "#### CONVERTING MILES TO KILOMETERS IN 'Pace' COLUMN"
   ]
  },
  {
   "cell_type": "code",
   "execution_count": 15,
   "id": "15708aab-7b15-4d1d-9e00-c9e4da25b125",
   "metadata": {},
   "outputs": [],
   "source": [
    "df_all['Pace'] = df_all['Pace'] / 1.609344"
   ]
  },
  {
   "cell_type": "markdown",
   "id": "255ed6ee-96d9-429e-a061-65cbfcb4359d",
   "metadata": {},
   "source": [
    "#### SORTING DATAFRAME BY OFFICIAL TIME"
   ]
  },
  {
   "cell_type": "code",
   "execution_count": 17,
   "id": "b519b460-7131-452c-8dd3-39240ceaaa0b",
   "metadata": {},
   "outputs": [],
   "source": [
    "df_all = df_all.sort_values(by='Official Time').reset_index(drop=True)"
   ]
  },
  {
   "cell_type": "markdown",
   "id": "eafed86c-a411-4a99-bdff-c8e4d46a19b4",
   "metadata": {},
   "source": [
    "#### MAKING NEW 'RANK' COLUMN THAT REPRESENT RANK OF EACH RUNNER BY OFFICIAL TIME"
   ]
  },
  {
   "cell_type": "code",
   "execution_count": 19,
   "id": "cd0d5127-7127-4af7-9b56-e94572b5f678",
   "metadata": {},
   "outputs": [],
   "source": [
    "df_all['Rank'] = pd.Series(df_all.index) + 1"
   ]
  },
  {
   "cell_type": "markdown",
   "id": "4ef10be3-dcd3-48e8-843e-ff178d3a2c10",
   "metadata": {},
   "source": [
    "#### CHANGING COLUMNS ORDER"
   ]
  },
  {
   "cell_type": "code",
   "execution_count": 21,
   "id": "3e1c1f74-03a1-40b3-a873-b1e5a563f647",
   "metadata": {},
   "outputs": [],
   "source": [
    "df_all = df_all[['Name', 'M/F', 'Age', 'Country', 'City', 'Pace', '5K', '10K', '15K', '20K', '25K', '30K', '35K', '40K', 'Official Time', 'Rank', 'Year']]"
   ]
  },
  {
   "cell_type": "markdown",
   "id": "8550b370-bfad-4ecb-a747-0dea7e020907",
   "metadata": {},
   "source": [
    "#### CHECKING IF ALL GOOD"
   ]
  },
  {
   "cell_type": "code",
   "execution_count": 23,
   "id": "9b315a13-0292-4207-9897-6a4e3eee2614",
   "metadata": {},
   "outputs": [
    {
     "name": "stdout",
     "output_type": "stream",
     "text": [
      "<class 'pandas.core.frame.DataFrame'>\n",
      "RangeIndex: 79638 entries, 0 to 79637\n",
      "Data columns (total 17 columns):\n",
      " #   Column         Non-Null Count  Dtype          \n",
      "---  ------         --------------  -----          \n",
      " 0   Name           79638 non-null  object         \n",
      " 1   M/F            79638 non-null  object         \n",
      " 2   Age            79638 non-null  int64          \n",
      " 3   Country        79638 non-null  object         \n",
      " 4   City           79637 non-null  object         \n",
      " 5   Pace           79638 non-null  timedelta64[ns]\n",
      " 6   5K             79409 non-null  timedelta64[ns]\n",
      " 7   10K            79524 non-null  timedelta64[ns]\n",
      " 8   15K            79587 non-null  timedelta64[ns]\n",
      " 9   20K            79553 non-null  timedelta64[ns]\n",
      " 10  25K            79557 non-null  timedelta64[ns]\n",
      " 11  30K            79550 non-null  timedelta64[ns]\n",
      " 12  35K            79552 non-null  timedelta64[ns]\n",
      " 13  40K            79562 non-null  timedelta64[ns]\n",
      " 14  Official Time  79638 non-null  timedelta64[ns]\n",
      " 15  Rank           79638 non-null  int64          \n",
      " 16  Year           79638 non-null  int64          \n",
      "dtypes: int64(3), object(4), timedelta64[ns](10)\n",
      "memory usage: 10.3+ MB\n"
     ]
    }
   ],
   "source": [
    "df_all.info()"
   ]
  },
  {
   "cell_type": "code",
   "execution_count": 24,
   "id": "42de2d0f-85a3-4b95-bff0-52ba7e940013",
   "metadata": {},
   "outputs": [
    {
     "data": {
      "text/html": [
       "<div>\n",
       "<style scoped>\n",
       "    .dataframe tbody tr th:only-of-type {\n",
       "        vertical-align: middle;\n",
       "    }\n",
       "\n",
       "    .dataframe tbody tr th {\n",
       "        vertical-align: top;\n",
       "    }\n",
       "\n",
       "    .dataframe thead th {\n",
       "        text-align: right;\n",
       "    }\n",
       "</style>\n",
       "<table border=\"1\" class=\"dataframe\">\n",
       "  <thead>\n",
       "    <tr style=\"text-align: right;\">\n",
       "      <th></th>\n",
       "      <th>Name</th>\n",
       "      <th>M/F</th>\n",
       "      <th>Age</th>\n",
       "      <th>Country</th>\n",
       "      <th>City</th>\n",
       "      <th>Pace</th>\n",
       "      <th>5K</th>\n",
       "      <th>10K</th>\n",
       "      <th>15K</th>\n",
       "      <th>20K</th>\n",
       "      <th>25K</th>\n",
       "      <th>30K</th>\n",
       "      <th>35K</th>\n",
       "      <th>40K</th>\n",
       "      <th>Official Time</th>\n",
       "      <th>Rank</th>\n",
       "      <th>Year</th>\n",
       "    </tr>\n",
       "  </thead>\n",
       "  <tbody>\n",
       "    <tr>\n",
       "      <th>0</th>\n",
       "      <td>Desisa, Lelisa</td>\n",
       "      <td>M</td>\n",
       "      <td>25</td>\n",
       "      <td>ETH</td>\n",
       "      <td>Ambo</td>\n",
       "      <td>0 days 00:03:03.925872902</td>\n",
       "      <td>0 days 00:14:43</td>\n",
       "      <td>0 days 00:29:43</td>\n",
       "      <td>0 days 00:44:57</td>\n",
       "      <td>0 days 01:00:29</td>\n",
       "      <td>0 days 01:16:07</td>\n",
       "      <td>0 days 01:32:00</td>\n",
       "      <td>0 days 01:47:59</td>\n",
       "      <td>0 days 02:02:39</td>\n",
       "      <td>0 days 02:09:17</td>\n",
       "      <td>1</td>\n",
       "      <td>2015</td>\n",
       "    </tr>\n",
       "    <tr>\n",
       "      <th>1</th>\n",
       "      <td>Kirui, Geoffrey</td>\n",
       "      <td>M</td>\n",
       "      <td>24</td>\n",
       "      <td>KEN</td>\n",
       "      <td>Keringet</td>\n",
       "      <td>0 days 00:03:04.547244094</td>\n",
       "      <td>0 days 00:15:25</td>\n",
       "      <td>0 days 00:30:28</td>\n",
       "      <td>0 days 00:45:44</td>\n",
       "      <td>0 days 01:01:15</td>\n",
       "      <td>0 days 01:16:59</td>\n",
       "      <td>0 days 01:33:01</td>\n",
       "      <td>0 days 01:48:19</td>\n",
       "      <td>0 days 02:02:53</td>\n",
       "      <td>0 days 02:09:37</td>\n",
       "      <td>2</td>\n",
       "      <td>2017</td>\n",
       "    </tr>\n",
       "    <tr>\n",
       "      <th>2</th>\n",
       "      <td>Tsegay, Yemane Adhane</td>\n",
       "      <td>M</td>\n",
       "      <td>30</td>\n",
       "      <td>ETH</td>\n",
       "      <td>Addis Ababa</td>\n",
       "      <td>0 days 00:03:05.168615286</td>\n",
       "      <td>0 days 00:14:43</td>\n",
       "      <td>0 days 00:29:43</td>\n",
       "      <td>0 days 00:44:58</td>\n",
       "      <td>0 days 01:00:28</td>\n",
       "      <td>0 days 01:16:07</td>\n",
       "      <td>0 days 01:31:59</td>\n",
       "      <td>0 days 01:47:59</td>\n",
       "      <td>0 days 02:02:42</td>\n",
       "      <td>0 days 02:09:48</td>\n",
       "      <td>3</td>\n",
       "      <td>2015</td>\n",
       "    </tr>\n",
       "    <tr>\n",
       "      <th>3</th>\n",
       "      <td>Rupp, Galen</td>\n",
       "      <td>M</td>\n",
       "      <td>30</td>\n",
       "      <td>USA</td>\n",
       "      <td>Portland</td>\n",
       "      <td>0 days 00:03:05.168615286</td>\n",
       "      <td>0 days 00:15:24</td>\n",
       "      <td>0 days 00:30:27</td>\n",
       "      <td>0 days 00:45:44</td>\n",
       "      <td>0 days 01:01:15</td>\n",
       "      <td>0 days 01:16:59</td>\n",
       "      <td>0 days 01:33:01</td>\n",
       "      <td>0 days 01:48:19</td>\n",
       "      <td>0 days 02:03:14</td>\n",
       "      <td>0 days 02:09:58</td>\n",
       "      <td>4</td>\n",
       "      <td>2017</td>\n",
       "    </tr>\n",
       "    <tr>\n",
       "      <th>4</th>\n",
       "      <td>Chebet, Wilson</td>\n",
       "      <td>M</td>\n",
       "      <td>29</td>\n",
       "      <td>KEN</td>\n",
       "      <td>Marakwet</td>\n",
       "      <td>0 days 00:03:05.789986478</td>\n",
       "      <td>0 days 00:14:43</td>\n",
       "      <td>0 days 00:29:43</td>\n",
       "      <td>0 days 00:44:57</td>\n",
       "      <td>0 days 01:00:29</td>\n",
       "      <td>0 days 01:16:07</td>\n",
       "      <td>0 days 01:32:00</td>\n",
       "      <td>0 days 01:47:59</td>\n",
       "      <td>0 days 02:03:01</td>\n",
       "      <td>0 days 02:10:22</td>\n",
       "      <td>5</td>\n",
       "      <td>2015</td>\n",
       "    </tr>\n",
       "  </tbody>\n",
       "</table>\n",
       "</div>"
      ],
      "text/plain": [
       "                    Name M/F  Age Country         City  \\\n",
       "0         Desisa, Lelisa   M   25     ETH         Ambo   \n",
       "1        Kirui, Geoffrey   M   24     KEN     Keringet   \n",
       "2  Tsegay, Yemane Adhane   M   30     ETH  Addis Ababa   \n",
       "3            Rupp, Galen   M   30     USA     Portland   \n",
       "4         Chebet, Wilson   M   29     KEN     Marakwet   \n",
       "\n",
       "                       Pace              5K             10K             15K  \\\n",
       "0 0 days 00:03:03.925872902 0 days 00:14:43 0 days 00:29:43 0 days 00:44:57   \n",
       "1 0 days 00:03:04.547244094 0 days 00:15:25 0 days 00:30:28 0 days 00:45:44   \n",
       "2 0 days 00:03:05.168615286 0 days 00:14:43 0 days 00:29:43 0 days 00:44:58   \n",
       "3 0 days 00:03:05.168615286 0 days 00:15:24 0 days 00:30:27 0 days 00:45:44   \n",
       "4 0 days 00:03:05.789986478 0 days 00:14:43 0 days 00:29:43 0 days 00:44:57   \n",
       "\n",
       "              20K             25K             30K             35K  \\\n",
       "0 0 days 01:00:29 0 days 01:16:07 0 days 01:32:00 0 days 01:47:59   \n",
       "1 0 days 01:01:15 0 days 01:16:59 0 days 01:33:01 0 days 01:48:19   \n",
       "2 0 days 01:00:28 0 days 01:16:07 0 days 01:31:59 0 days 01:47:59   \n",
       "3 0 days 01:01:15 0 days 01:16:59 0 days 01:33:01 0 days 01:48:19   \n",
       "4 0 days 01:00:29 0 days 01:16:07 0 days 01:32:00 0 days 01:47:59   \n",
       "\n",
       "              40K   Official Time  Rank  Year  \n",
       "0 0 days 02:02:39 0 days 02:09:17     1  2015  \n",
       "1 0 days 02:02:53 0 days 02:09:37     2  2017  \n",
       "2 0 days 02:02:42 0 days 02:09:48     3  2015  \n",
       "3 0 days 02:03:14 0 days 02:09:58     4  2017  \n",
       "4 0 days 02:03:01 0 days 02:10:22     5  2015  "
      ]
     },
     "execution_count": 24,
     "metadata": {},
     "output_type": "execute_result"
    }
   ],
   "source": [
    "df_all.head()"
   ]
  },
  {
   "cell_type": "markdown",
   "id": "3cbfe75b-c55b-4694-b852-bbf0f84e2fa8",
   "metadata": {},
   "source": [
    "#### IMPORTING CLEAN DATASET TO NEW FILE"
   ]
  },
  {
   "cell_type": "code",
   "execution_count": 26,
   "id": "fba6c4f2-0885-4664-b8a8-d95a8b8398b9",
   "metadata": {},
   "outputs": [],
   "source": [
    "df_all.to_csv('boston_clean.csv', index=False)"
   ]
  }
 ],
 "metadata": {
  "kernelspec": {
   "display_name": "Python [conda env:base] *",
   "language": "python",
   "name": "conda-base-py"
  },
  "language_info": {
   "codemirror_mode": {
    "name": "ipython",
    "version": 3
   },
   "file_extension": ".py",
   "mimetype": "text/x-python",
   "name": "python",
   "nbconvert_exporter": "python",
   "pygments_lexer": "ipython3",
   "version": "3.12.7"
  }
 },
 "nbformat": 4,
 "nbformat_minor": 5
}
