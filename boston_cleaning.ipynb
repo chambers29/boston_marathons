{
 "cells": [
  {
   "cell_type": "markdown",
   "id": "7a56ea98-8e18-406d-9e54-4a52ae3219bc",
   "metadata": {},
   "source": [
    "# DATA CLEANING"
   ]
  },
  {
   "cell_type": "markdown",
   "id": "c0db364b-09f9-4820-85d2-191362433a80",
   "metadata": {},
   "source": [
    "#### MODULES IMPORT"
   ]
  },
  {
   "cell_type": "code",
   "execution_count": 3,
   "id": "190add63-3522-42e0-ba69-d04c4a78de53",
   "metadata": {},
   "outputs": [],
   "source": [
    "import pandas as pd\n",
    "import numpy as np\n",
    "import matplotlib.pyplot as plt\n",
    "import math as math"
   ]
  },
  {
   "cell_type": "markdown",
   "id": "860f2b01-15aa-4ae3-a713-5f1d48a1ebce",
   "metadata": {},
   "source": [
    "#### RAW DATA IMPORT"
   ]
  },
  {
   "cell_type": "code",
   "execution_count": 5,
   "id": "5bff1d9b-42df-45de-b983-1386fd30289f",
   "metadata": {},
   "outputs": [],
   "source": [
    "df_2015 = pd.read_csv('./raw/marathon_results_2015.csv')\n",
    "df_2016 = pd.read_csv('./raw/marathon_results_2016.csv')\n",
    "df_2017 = pd.read_csv('./raw/marathon_results_2017.csv')"
   ]
  },
  {
   "cell_type": "markdown",
   "id": "51d67be3-d713-4f9c-b6b7-57d4ec896304",
   "metadata": {},
   "source": [
    "#### ADDING YEAR COLUMNS TO EACH DATASET BEFORE COMBINING THEM TO KNOW YEAR FROM EVERY RESULT"
   ]
  },
  {
   "cell_type": "code",
   "execution_count": 7,
   "id": "149a9209-ff53-4e43-b945-efbe2308893e",
   "metadata": {},
   "outputs": [],
   "source": [
    "df_2015['Year'] = 2015\n",
    "df_2016['Year'] = 2016\n",
    "df_2017['Year'] = 2017"
   ]
  },
  {
   "cell_type": "markdown",
   "id": "354b7fa2-4cf6-474e-8ef2-811f1e4fb1af",
   "metadata": {},
   "source": [
    "#### COMBINING IMPORTED DATASETS INTO ONE"
   ]
  },
  {
   "cell_type": "code",
   "execution_count": 9,
   "id": "064c089c-f9e9-46b4-9810-540a5adc3302",
   "metadata": {},
   "outputs": [],
   "source": [
    "df = pd.concat([df_2015, df_2016, df_2017])"
   ]
  },
  {
   "cell_type": "markdown",
   "id": "a4426014-7b23-4e51-934e-d4800e45b47c",
   "metadata": {},
   "source": [
    "#### SELECTING COLUMNS"
   ]
  },
  {
   "cell_type": "code",
   "execution_count": 11,
   "id": "d1e838ab-30f1-4ddc-9711-cfd29de46211",
   "metadata": {},
   "outputs": [],
   "source": [
    "df = df[['Name', 'M/F', 'Age', 'Country', 'City', 'Pace', '5K', '10K', '15K', '20K', '25K', '30K', '35K', '40K', 'Official Time', 'Year']]"
   ]
  },
  {
   "cell_type": "markdown",
   "id": "8c36f437-0399-422c-8d6f-818d6e04f93d",
   "metadata": {},
   "source": [
    "#### CHANGING TYPE OF COLUMNS THAT ARE USING TIME VALUES"
   ]
  },
  {
   "cell_type": "code",
   "execution_count": 13,
   "id": "324ae4d3-c0ee-41eb-a1c7-ab40d3397012",
   "metadata": {},
   "outputs": [],
   "source": [
    "time_columns = ['Pace', '5K', '10K', '15K', '20K', '25K', '30K', '35K', '40K', 'Official Time']\n",
    "df[time_columns] = df[time_columns].apply(lambda col: pd.to_timedelta(col, errors='coerce'))"
   ]
  },
  {
   "cell_type": "markdown",
   "id": "cca80b2a-1f36-40eb-9ac1-0b9ba6dfb52c",
   "metadata": {},
   "source": [
    "#### CONVERTING MILES TO KILOMETERS IN 'Pace' COLUMN"
   ]
  },
  {
   "cell_type": "code",
   "execution_count": 15,
   "id": "15708aab-7b15-4d1d-9e00-c9e4da25b125",
   "metadata": {},
   "outputs": [],
   "source": [
    "df['Pace'] = df['Pace'] / 1.609344"
   ]
  },
  {
   "cell_type": "markdown",
   "id": "6d9f4418-a486-4b00-aeca-932b354d529b",
   "metadata": {
    "jp-MarkdownHeadingCollapsed": true
   },
   "source": [
    "## ADDING NEW COLUMNS"
   ]
  },
  {
   "cell_type": "markdown",
   "id": "77791cea-fbe4-4ac8-8078-ecf1e684d8b1",
   "metadata": {
    "jp-MarkdownHeadingCollapsed": true
   },
   "source": [
    "## 'RANK' COLUMN\n",
    "MAKING NEW 'RANK' COLUMN THAT REPRESENT RANK OF EACH RUNNER BY OFFICIAL TIME"
   ]
  },
  {
   "cell_type": "code",
   "execution_count": 18,
   "id": "b519b460-7131-452c-8dd3-39240ceaaa0b",
   "metadata": {},
   "outputs": [],
   "source": [
    "df = df.sort_values(by='Official Time').reset_index(drop=True)\n",
    "df['Rank'] = pd.Series(df.index) + 1"
   ]
  },
  {
   "cell_type": "markdown",
   "id": "46d770e7-a022-4f12-9e94-6d95df67c803",
   "metadata": {
    "jp-MarkdownHeadingCollapsed": true
   },
   "source": [
    "## 'AGE GROUP' COLUMN\n",
    "MAKING NEW 'AGE GROUP' COLUMN THAT REPRESENT AGE GROUP OF EACH RUNNER (e.g. 22–25)"
   ]
  },
  {
   "cell_type": "code",
   "execution_count": 20,
   "id": "b159abfd-2a75-41f6-abb5-498b6adb12f3",
   "metadata": {},
   "outputs": [],
   "source": [
    "age = df['Age']\n",
    "age_max = age.max() # Max age of participants\n",
    "age_min = age.min() # Min age of participants"
   ]
  },
  {
   "cell_type": "markdown",
   "id": "9c1429df-8d15-4f23-81ba-4adc75c07fc3",
   "metadata": {},
   "source": [
    "### CREATING AGE GROUPS"
   ]
  },
  {
   "cell_type": "code",
   "execution_count": 22,
   "id": "331a66d5-c187-4495-a9f5-bdf77e17154e",
   "metadata": {},
   "outputs": [
    {
     "name": "stdout",
     "output_type": "stream",
     "text": [
      "Age groups: [[18, 22], [22, 26], [26, 30], [30, 34], [34, 38], [38, 42], [42, 46], [46, 50], [50, 54], [54, 58], [58, 62], [62, 66], [66, 70], [70, 85]]\n"
     ]
    }
   ],
   "source": [
    "age_edges = list(np.arange(age_min, 70, 4)) # Creating age group edges with maximum age of 69\n",
    "age_edges.append(70) # Adding one more starting edge that equals 70\n",
    "age_edges.append(age_max + 1) # Adding ending edge that equals maximum age +1\n",
    "                                # Now last group will be 70+ \n",
    "\n",
    "age_groups = [[age_edges[i], age_edges[i+1]] for i in range(len(age_edges)-1)] # Creating age groups\n",
    "print(f\"Age groups: {age_groups}\")"
   ]
  },
  {
   "cell_type": "markdown",
   "id": "19bce2bb-ab1f-4e63-b83b-aaf680d14d32",
   "metadata": {
    "jp-MarkdownHeadingCollapsed": true
   },
   "source": [
    "### CREATING COLUMN"
   ]
  },
  {
   "cell_type": "code",
   "execution_count": 24,
   "id": "efe84d28-e0aa-454d-8cb6-f7af99c084d7",
   "metadata": {},
   "outputs": [],
   "source": [
    "labels = [f\"{g[0]}–{g[1]-1}\" for g in age_groups]\n",
    "bins = [g[0] for g in age_groups] + [age_groups[-1][1]]\n",
    "\n",
    "df['Age Group'] = pd.cut(age, bins=bins, labels=labels, right=False)"
   ]
  },
  {
   "cell_type": "markdown",
   "id": "734e0d03-0455-4f92-97c9-1bbc4b7f225d",
   "metadata": {},
   "source": [
    "## 'CONTINENT' COLUMN\n",
    "MAKING NEW 'CONTINENT' COLUMN THAT REPRESENT CONTINENT OF EACH COUNTRY OF RUNNER"
   ]
  },
  {
   "cell_type": "markdown",
   "id": "106fb76a-bcf1-4f61-ac8a-969f5bb5bb55",
   "metadata": {},
   "source": [
    "### EVERY COUNTRY (IN THIS DF) LISTS THAT ARE NAMED BY THEIR CONTINENT"
   ]
  },
  {
   "cell_type": "code",
   "execution_count": 27,
   "id": "b573a6a4-d8b1-4c97-9cc4-d65c8a9825d0",
   "metadata": {},
   "outputs": [],
   "source": [
    "europe = ['UKR', 'NED', 'ITA', 'RUS', 'BEL', 'BLR', 'ESP', 'IRL', 'LAT', 'GBR', 'CRO', 'GER', 'SWE', 'SUI', 'SVK', 'DEN', 'NOR', 'FIN', 'POL', 'FRA', 'ISL', 'POR', 'AUT', 'LTU', 'CYP', 'CZE', 'SLO', 'EST', 'TUR', 'LUX', 'ROU', 'LIE', 'GRE', 'SRB', 'HUN', 'MLT', 'AND', 'SMR', 'BUL', 'ALB']\n",
    "north_america = ['USA', 'CAN', 'MEX', 'GUA', 'CRC', 'DOM', 'PAN', 'BER', 'HON', 'CAY', 'ESA', 'JAM', 'VGB', 'NCA', 'BAR', 'GRN', 'BAH', 'TCA']\n",
    "south_america = ['AHO' ,'BRA', 'ECU', 'COL', 'CHI', 'PER', 'ARG', 'URU', 'VEN', 'FLK', 'TRI', 'PAR']\n",
    "asia = ['PAK', 'QAT' ,'MGL' ,'KUW', 'JPN', 'BRN', 'HKG', 'MAS', 'CHN', 'PHI', 'SIN', 'TWN', 'KOR', 'TPE', 'IND', 'UAE', 'VIE', 'ISR', 'THA', 'KSA', 'INA', 'JOR', 'OMA']\n",
    "africa = ['NGR' ,'ETH', 'KEN', 'RSA', 'ZIM', 'UGA', 'BDI', 'EGY', 'MAR', 'ALG']\n",
    "oceania = ['NZL', 'AUS']"
   ]
  },
  {
   "cell_type": "markdown",
   "id": "7101c2cc-3802-4256-8ba9-9f049587a91d",
   "metadata": {},
   "source": [
    "### DICTIONARY WITH COUNTRY = CONTINENT"
   ]
  },
  {
   "cell_type": "code",
   "execution_count": 29,
   "id": "53eea6a8-85de-4a87-bcda-1323ab37e1c7",
   "metadata": {},
   "outputs": [],
   "source": [
    "continent_map = {}\n",
    "\n",
    "for country in europe:\n",
    "    continent_map[country] = 'Europe'\n",
    "    \n",
    "for country in asia:\n",
    "    continent_map[country] = 'Asia'\n",
    "    \n",
    "for country in africa:\n",
    "    continent_map[country] = 'Africa'\n",
    "    \n",
    "for country in north_america:\n",
    "    continent_map[country] = 'North America'\n",
    "    \n",
    "for country in south_america:\n",
    "    continent_map[country] = 'South America'\n",
    "    \n",
    "for country in oceania:\n",
    "    continent_map[country] = 'Oceania'"
   ]
  },
  {
   "cell_type": "markdown",
   "id": "d8cc691f-b40c-4a6b-9cf5-23438e471de2",
   "metadata": {},
   "source": [
    "### NEW COLUMN"
   ]
  },
  {
   "cell_type": "code",
   "execution_count": 31,
   "id": "3221cfb5-a264-46fc-9d45-a938b9b7b2d4",
   "metadata": {},
   "outputs": [],
   "source": [
    "df['Continent'] = df['Country'].map(continent_map)"
   ]
  },
  {
   "cell_type": "markdown",
   "id": "4ef10be3-dcd3-48e8-843e-ff178d3a2c10",
   "metadata": {},
   "source": [
    "## CHANGING COLUMNS ORDER"
   ]
  },
  {
   "cell_type": "code",
   "execution_count": 33,
   "id": "3e1c1f74-03a1-40b3-a873-b1e5a563f647",
   "metadata": {},
   "outputs": [],
   "source": [
    "df = df[['Name', 'M/F', 'Age', 'Age Group', 'Country', 'Continent', 'City', 'Pace', '5K', '10K', '15K', '20K', '25K', '30K', '35K', '40K', 'Official Time', 'Rank', 'Year']]"
   ]
  },
  {
   "cell_type": "markdown",
   "id": "8550b370-bfad-4ecb-a747-0dea7e020907",
   "metadata": {},
   "source": [
    "## CHECKING IF ALL GOOD"
   ]
  },
  {
   "cell_type": "code",
   "execution_count": 35,
   "id": "9b315a13-0292-4207-9897-6a4e3eee2614",
   "metadata": {
    "collapsed": true,
    "jupyter": {
     "outputs_hidden": true
    }
   },
   "outputs": [
    {
     "name": "stdout",
     "output_type": "stream",
     "text": [
      "<class 'pandas.core.frame.DataFrame'>\n",
      "RangeIndex: 79638 entries, 0 to 79637\n",
      "Data columns (total 19 columns):\n",
      " #   Column         Non-Null Count  Dtype          \n",
      "---  ------         --------------  -----          \n",
      " 0   Name           79638 non-null  object         \n",
      " 1   M/F            79638 non-null  object         \n",
      " 2   Age            79638 non-null  int64          \n",
      " 3   Age Group      79638 non-null  category       \n",
      " 4   Country        79638 non-null  object         \n",
      " 5   Continent      79638 non-null  object         \n",
      " 6   City           79637 non-null  object         \n",
      " 7   Pace           79638 non-null  timedelta64[ns]\n",
      " 8   5K             79409 non-null  timedelta64[ns]\n",
      " 9   10K            79524 non-null  timedelta64[ns]\n",
      " 10  15K            79587 non-null  timedelta64[ns]\n",
      " 11  20K            79553 non-null  timedelta64[ns]\n",
      " 12  25K            79557 non-null  timedelta64[ns]\n",
      " 13  30K            79550 non-null  timedelta64[ns]\n",
      " 14  35K            79552 non-null  timedelta64[ns]\n",
      " 15  40K            79562 non-null  timedelta64[ns]\n",
      " 16  Official Time  79638 non-null  timedelta64[ns]\n",
      " 17  Rank           79638 non-null  int64          \n",
      " 18  Year           79638 non-null  int64          \n",
      "dtypes: category(1), int64(3), object(5), timedelta64[ns](10)\n",
      "memory usage: 11.0+ MB\n"
     ]
    }
   ],
   "source": [
    "df.info()"
   ]
  },
  {
   "cell_type": "code",
   "execution_count": 36,
   "id": "42de2d0f-85a3-4b95-bff0-52ba7e940013",
   "metadata": {
    "collapsed": true,
    "jupyter": {
     "outputs_hidden": true
    }
   },
   "outputs": [
    {
     "data": {
      "text/html": [
       "<div>\n",
       "<style scoped>\n",
       "    .dataframe tbody tr th:only-of-type {\n",
       "        vertical-align: middle;\n",
       "    }\n",
       "\n",
       "    .dataframe tbody tr th {\n",
       "        vertical-align: top;\n",
       "    }\n",
       "\n",
       "    .dataframe thead th {\n",
       "        text-align: right;\n",
       "    }\n",
       "</style>\n",
       "<table border=\"1\" class=\"dataframe\">\n",
       "  <thead>\n",
       "    <tr style=\"text-align: right;\">\n",
       "      <th></th>\n",
       "      <th>Name</th>\n",
       "      <th>M/F</th>\n",
       "      <th>Age</th>\n",
       "      <th>Age Group</th>\n",
       "      <th>Country</th>\n",
       "      <th>Continent</th>\n",
       "      <th>City</th>\n",
       "      <th>Pace</th>\n",
       "      <th>5K</th>\n",
       "      <th>10K</th>\n",
       "      <th>15K</th>\n",
       "      <th>20K</th>\n",
       "      <th>25K</th>\n",
       "      <th>30K</th>\n",
       "      <th>35K</th>\n",
       "      <th>40K</th>\n",
       "      <th>Official Time</th>\n",
       "      <th>Rank</th>\n",
       "      <th>Year</th>\n",
       "    </tr>\n",
       "  </thead>\n",
       "  <tbody>\n",
       "    <tr>\n",
       "      <th>0</th>\n",
       "      <td>Desisa, Lelisa</td>\n",
       "      <td>M</td>\n",
       "      <td>25</td>\n",
       "      <td>22–25</td>\n",
       "      <td>ETH</td>\n",
       "      <td>Africa</td>\n",
       "      <td>Ambo</td>\n",
       "      <td>0 days 00:03:03.925872902</td>\n",
       "      <td>0 days 00:14:43</td>\n",
       "      <td>0 days 00:29:43</td>\n",
       "      <td>0 days 00:44:57</td>\n",
       "      <td>0 days 01:00:29</td>\n",
       "      <td>0 days 01:16:07</td>\n",
       "      <td>0 days 01:32:00</td>\n",
       "      <td>0 days 01:47:59</td>\n",
       "      <td>0 days 02:02:39</td>\n",
       "      <td>0 days 02:09:17</td>\n",
       "      <td>1</td>\n",
       "      <td>2015</td>\n",
       "    </tr>\n",
       "    <tr>\n",
       "      <th>1</th>\n",
       "      <td>Kirui, Geoffrey</td>\n",
       "      <td>M</td>\n",
       "      <td>24</td>\n",
       "      <td>22–25</td>\n",
       "      <td>KEN</td>\n",
       "      <td>Africa</td>\n",
       "      <td>Keringet</td>\n",
       "      <td>0 days 00:03:04.547244094</td>\n",
       "      <td>0 days 00:15:25</td>\n",
       "      <td>0 days 00:30:28</td>\n",
       "      <td>0 days 00:45:44</td>\n",
       "      <td>0 days 01:01:15</td>\n",
       "      <td>0 days 01:16:59</td>\n",
       "      <td>0 days 01:33:01</td>\n",
       "      <td>0 days 01:48:19</td>\n",
       "      <td>0 days 02:02:53</td>\n",
       "      <td>0 days 02:09:37</td>\n",
       "      <td>2</td>\n",
       "      <td>2017</td>\n",
       "    </tr>\n",
       "    <tr>\n",
       "      <th>2</th>\n",
       "      <td>Tsegay, Yemane Adhane</td>\n",
       "      <td>M</td>\n",
       "      <td>30</td>\n",
       "      <td>30–33</td>\n",
       "      <td>ETH</td>\n",
       "      <td>Africa</td>\n",
       "      <td>Addis Ababa</td>\n",
       "      <td>0 days 00:03:05.168615286</td>\n",
       "      <td>0 days 00:14:43</td>\n",
       "      <td>0 days 00:29:43</td>\n",
       "      <td>0 days 00:44:58</td>\n",
       "      <td>0 days 01:00:28</td>\n",
       "      <td>0 days 01:16:07</td>\n",
       "      <td>0 days 01:31:59</td>\n",
       "      <td>0 days 01:47:59</td>\n",
       "      <td>0 days 02:02:42</td>\n",
       "      <td>0 days 02:09:48</td>\n",
       "      <td>3</td>\n",
       "      <td>2015</td>\n",
       "    </tr>\n",
       "    <tr>\n",
       "      <th>3</th>\n",
       "      <td>Rupp, Galen</td>\n",
       "      <td>M</td>\n",
       "      <td>30</td>\n",
       "      <td>30–33</td>\n",
       "      <td>USA</td>\n",
       "      <td>North America</td>\n",
       "      <td>Portland</td>\n",
       "      <td>0 days 00:03:05.168615286</td>\n",
       "      <td>0 days 00:15:24</td>\n",
       "      <td>0 days 00:30:27</td>\n",
       "      <td>0 days 00:45:44</td>\n",
       "      <td>0 days 01:01:15</td>\n",
       "      <td>0 days 01:16:59</td>\n",
       "      <td>0 days 01:33:01</td>\n",
       "      <td>0 days 01:48:19</td>\n",
       "      <td>0 days 02:03:14</td>\n",
       "      <td>0 days 02:09:58</td>\n",
       "      <td>4</td>\n",
       "      <td>2017</td>\n",
       "    </tr>\n",
       "    <tr>\n",
       "      <th>4</th>\n",
       "      <td>Chebet, Wilson</td>\n",
       "      <td>M</td>\n",
       "      <td>29</td>\n",
       "      <td>26–29</td>\n",
       "      <td>KEN</td>\n",
       "      <td>Africa</td>\n",
       "      <td>Marakwet</td>\n",
       "      <td>0 days 00:03:05.789986478</td>\n",
       "      <td>0 days 00:14:43</td>\n",
       "      <td>0 days 00:29:43</td>\n",
       "      <td>0 days 00:44:57</td>\n",
       "      <td>0 days 01:00:29</td>\n",
       "      <td>0 days 01:16:07</td>\n",
       "      <td>0 days 01:32:00</td>\n",
       "      <td>0 days 01:47:59</td>\n",
       "      <td>0 days 02:03:01</td>\n",
       "      <td>0 days 02:10:22</td>\n",
       "      <td>5</td>\n",
       "      <td>2015</td>\n",
       "    </tr>\n",
       "  </tbody>\n",
       "</table>\n",
       "</div>"
      ],
      "text/plain": [
       "                    Name M/F  Age Age Group Country      Continent  \\\n",
       "0         Desisa, Lelisa   M   25     22–25     ETH         Africa   \n",
       "1        Kirui, Geoffrey   M   24     22–25     KEN         Africa   \n",
       "2  Tsegay, Yemane Adhane   M   30     30–33     ETH         Africa   \n",
       "3            Rupp, Galen   M   30     30–33     USA  North America   \n",
       "4         Chebet, Wilson   M   29     26–29     KEN         Africa   \n",
       "\n",
       "          City                      Pace              5K             10K  \\\n",
       "0         Ambo 0 days 00:03:03.925872902 0 days 00:14:43 0 days 00:29:43   \n",
       "1     Keringet 0 days 00:03:04.547244094 0 days 00:15:25 0 days 00:30:28   \n",
       "2  Addis Ababa 0 days 00:03:05.168615286 0 days 00:14:43 0 days 00:29:43   \n",
       "3     Portland 0 days 00:03:05.168615286 0 days 00:15:24 0 days 00:30:27   \n",
       "4     Marakwet 0 days 00:03:05.789986478 0 days 00:14:43 0 days 00:29:43   \n",
       "\n",
       "              15K             20K             25K             30K  \\\n",
       "0 0 days 00:44:57 0 days 01:00:29 0 days 01:16:07 0 days 01:32:00   \n",
       "1 0 days 00:45:44 0 days 01:01:15 0 days 01:16:59 0 days 01:33:01   \n",
       "2 0 days 00:44:58 0 days 01:00:28 0 days 01:16:07 0 days 01:31:59   \n",
       "3 0 days 00:45:44 0 days 01:01:15 0 days 01:16:59 0 days 01:33:01   \n",
       "4 0 days 00:44:57 0 days 01:00:29 0 days 01:16:07 0 days 01:32:00   \n",
       "\n",
       "              35K             40K   Official Time  Rank  Year  \n",
       "0 0 days 01:47:59 0 days 02:02:39 0 days 02:09:17     1  2015  \n",
       "1 0 days 01:48:19 0 days 02:02:53 0 days 02:09:37     2  2017  \n",
       "2 0 days 01:47:59 0 days 02:02:42 0 days 02:09:48     3  2015  \n",
       "3 0 days 01:48:19 0 days 02:03:14 0 days 02:09:58     4  2017  \n",
       "4 0 days 01:47:59 0 days 02:03:01 0 days 02:10:22     5  2015  "
      ]
     },
     "execution_count": 36,
     "metadata": {},
     "output_type": "execute_result"
    }
   ],
   "source": [
    "df.head()"
   ]
  },
  {
   "cell_type": "markdown",
   "id": "3cbfe75b-c55b-4694-b852-bbf0f84e2fa8",
   "metadata": {},
   "source": [
    "## IMPORTING CLEAN DATASET TO NEW FILE"
   ]
  },
  {
   "cell_type": "code",
   "execution_count": 38,
   "id": "fba6c4f2-0885-4664-b8a8-d95a8b8398b9",
   "metadata": {},
   "outputs": [],
   "source": [
    "df.to_csv('boston_clean.csv', index=False)"
   ]
  }
 ],
 "metadata": {
  "kernelspec": {
   "display_name": "Python [conda env:base] *",
   "language": "python",
   "name": "conda-base-py"
  },
  "language_info": {
   "codemirror_mode": {
    "name": "ipython",
    "version": 3
   },
   "file_extension": ".py",
   "mimetype": "text/x-python",
   "name": "python",
   "nbconvert_exporter": "python",
   "pygments_lexer": "ipython3",
   "version": "3.12.7"
  }
 },
 "nbformat": 4,
 "nbformat_minor": 5
}
