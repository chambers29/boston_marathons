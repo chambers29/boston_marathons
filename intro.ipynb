{
 "cells": [
  {
   "cell_type": "markdown",
   "id": "bd116d90-5e63-4463-9cf7-db73583858fa",
   "metadata": {},
   "source": [
    "#### PREPARE\n",
    "modules import, clean data import and changing type of columns"
   ]
  },
  {
   "cell_type": "code",
   "execution_count": 3,
   "id": "df95bb3e-b733-449f-8ded-4c73f17b8fb7",
   "metadata": {},
   "outputs": [],
   "source": [
    "import pandas as pd\n",
    "import numpy as np\n",
    "import matplotlib.pyplot as plt\n",
    "import math as math"
   ]
  },
  {
   "cell_type": "code",
   "execution_count": 20,
   "id": "a38f9b72-17e5-4b3c-9b0a-bcfb258c9b2c",
   "metadata": {},
   "outputs": [],
   "source": [
    "df = pd.read_csv('./boston_clean.csv')"
   ]
  },
  {
   "cell_type": "code",
   "execution_count": 7,
   "id": "d53db5c0-5271-4c14-a95e-0f7afc453a96",
   "metadata": {},
   "outputs": [],
   "source": [
    "time_columns = ['Pace', '5K', '10K', '15K', '20K', '25K', '30K', '35K', '40K', 'Official Time']\n",
    "df[time_columns] = df[time_columns].apply(lambda col: pd.to_timedelta(col, errors='coerce'))"
   ]
  },
  {
   "cell_type": "markdown",
   "id": "299c8a03-79ad-454b-bc2c-4da0a86f648f",
   "metadata": {},
   "source": [
    "# BASIC INFORMATION"
   ]
  },
  {
   "cell_type": "markdown",
   "id": "e16717d8-b8ca-468c-90c6-ee3e11c19891",
   "metadata": {},
   "source": [
    "This analysis contains 3 datasets from 3 Boston Marathons from different years (2015, 2016, 2017)"
   ]
  },
  {
   "cell_type": "markdown",
   "id": "6fc793e2-e4ac-4d58-b0d1-7d2062f81795",
   "metadata": {},
   "source": [
    "## PARTICIPANT ATTRIBUTES\n",
    "The dataset contains the following attributes for each marathon finisher:\n",
    "- Name, gender, age\n",
    "- Country and city\n",
    "- Split times at each 5K\n",
    "- Pace, official finish time, rank\n",
    "- Year of participation"
   ]
  },
  {
   "cell_type": "code",
   "execution_count": 13,
   "id": "38c8faa2-15cd-488a-8713-e12f77de26c7",
   "metadata": {},
   "outputs": [
    {
     "name": "stdout",
     "output_type": "stream",
     "text": [
      "Year: 2016 - Finishers: 26630\n",
      "\n",
      "Year: 2015 - Finishers: 26598\n",
      "\n",
      "Year: 2017 - Finishers: 26410\n",
      "\n",
      "Number of finishers: 79638\n"
     ]
    }
   ],
   "source": [
    "num_finishers = len(df)\n",
    "for y, f in df['Year'].value_counts().items():\n",
    "    print(f\"Year: {y} - Finishers: {f}\\n\")\n",
    "print(f\"Number of finishers: {num_finishers}\")"
   ]
  }
 ],
 "metadata": {
  "kernelspec": {
   "display_name": "Python [conda env:base] *",
   "language": "python",
   "name": "conda-base-py"
  },
  "language_info": {
   "codemirror_mode": {
    "name": "ipython",
    "version": 3
   },
   "file_extension": ".py",
   "mimetype": "text/x-python",
   "name": "python",
   "nbconvert_exporter": "python",
   "pygments_lexer": "ipython3",
   "version": "3.12.7"
  }
 },
 "nbformat": 4,
 "nbformat_minor": 5
}
