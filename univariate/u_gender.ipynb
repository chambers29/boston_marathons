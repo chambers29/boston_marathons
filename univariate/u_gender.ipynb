{
 "cells": [
  {
   "cell_type": "markdown",
   "id": "b06723a7-cccf-41bb-9a2d-98c337555429",
   "metadata": {},
   "source": [
    "#### PREPARE\n",
    "modules import, clean data import and changing type of columns"
   ]
  },
  {
   "cell_type": "code",
   "execution_count": 2,
   "id": "08687df1-03c9-4781-8272-313b9985c718",
   "metadata": {},
   "outputs": [],
   "source": [
    "import pandas as pd\n",
    "import numpy as np\n",
    "import matplotlib.pyplot as plt\n",
    "import math as math"
   ]
  },
  {
   "cell_type": "code",
   "execution_count": 3,
   "id": "4fafd00a-4ded-4bb9-aa30-d0698683146d",
   "metadata": {},
   "outputs": [],
   "source": [
    "df = pd.read_csv('../boston_clean.csv')"
   ]
  },
  {
   "cell_type": "code",
   "execution_count": 4,
   "id": "a01f64f9-de7f-41c1-aaf7-6569ab0b6fd1",
   "metadata": {},
   "outputs": [],
   "source": [
    "time_columns = ['Pace', '5K', '10K', '15K', '20K', '25K', '30K', '35K', '40K', 'Official Time']\n",
    "df[time_columns] = df[time_columns].apply(lambda col: pd.to_timedelta(col, errors='coerce'))"
   ]
  },
  {
   "cell_type": "markdown",
   "id": "b884b652-b951-467e-8eb5-f568c25095c9",
   "metadata": {},
   "source": [
    "# UNIVARIATE"
   ]
  },
  {
   "cell_type": "markdown",
   "id": "10ae415c-51d2-481d-87e7-77daec923e5a",
   "metadata": {},
   "source": [
    "## Gender\n",
    "gender distribution"
   ]
  },
  {
   "cell_type": "code",
   "execution_count": 7,
   "id": "6af4b3f4-a828-450a-92d5-13932e1dfe9f",
   "metadata": {},
   "outputs": [],
   "source": [
    "gender = df['M/F']"
   ]
  },
  {
   "cell_type": "code",
   "execution_count": 8,
   "id": "a3dacfc9-367a-4236-82a8-8f230824e467",
   "metadata": {},
   "outputs": [
    {
     "data": {
      "text/html": [
       "<div>\n",
       "<style scoped>\n",
       "    .dataframe tbody tr th:only-of-type {\n",
       "        vertical-align: middle;\n",
       "    }\n",
       "\n",
       "    .dataframe tbody tr th {\n",
       "        vertical-align: top;\n",
       "    }\n",
       "\n",
       "    .dataframe thead th {\n",
       "        text-align: right;\n",
       "    }\n",
       "</style>\n",
       "<table border=\"1\" class=\"dataframe\">\n",
       "  <thead>\n",
       "    <tr style=\"text-align: right;\">\n",
       "      <th></th>\n",
       "      <th>count</th>\n",
       "      <th>proportion</th>\n",
       "    </tr>\n",
       "    <tr>\n",
       "      <th>M/F</th>\n",
       "      <th></th>\n",
       "      <th></th>\n",
       "    </tr>\n",
       "  </thead>\n",
       "  <tbody>\n",
       "    <tr>\n",
       "      <th>M</th>\n",
       "      <td>43482</td>\n",
       "      <td>54.6</td>\n",
       "    </tr>\n",
       "    <tr>\n",
       "      <th>F</th>\n",
       "      <td>36156</td>\n",
       "      <td>45.4</td>\n",
       "    </tr>\n",
       "  </tbody>\n",
       "</table>\n",
       "</div>"
      ],
      "text/plain": [
       "     count  proportion\n",
       "M/F                   \n",
       "M    43482        54.6\n",
       "F    36156        45.4"
      ]
     },
     "execution_count": 8,
     "metadata": {},
     "output_type": "execute_result"
    }
   ],
   "source": [
    "gender_count = gender.value_counts() # gender count\n",
    "gender_percent = round(gender.value_counts(normalize=True) * 100, 2) # gender percentage\n",
    "\n",
    "df_mf_dist = pd.concat([gender_count, gender_percent], axis=1) # gender count + percentage\n",
    "df_mf_dist"
   ]
  },
  {
   "cell_type": "markdown",
   "id": "fc408962-7fa5-4ce4-84ce-c6f29781ebfc",
   "metadata": {},
   "source": [
    "### visualization"
   ]
  },
  {
   "cell_type": "code",
   "execution_count": 10,
   "id": "7b54a720-532f-4d1c-9286-8a6f931d4951",
   "metadata": {},
   "outputs": [
    {
     "data": {
      "image/png": "[encoded data removed]",
      "text/plain": [
       "<Figure size 640x480 with 1 Axes>"
      ]
     },
     "metadata": {},
     "output_type": "display_data"
    }
   ],
   "source": [
    "x = df_mf_dist['count']\n",
    "labels = df_mf_dist.index\n",
    "\n",
    "ax = plt.pie(x=x, labels=labels, colors=['orange','gold'], startangle=90, autopct= lambda pct: f\"{round(pct/100*gender_count.sum())}\\n{pct:.1f}%\")\n",
    "\n",
    "plt.title('BOSTON MARATHON (2015, 2016, 2017)\\n\\nGender distribution', fontweight='bold')\n",
    "\n",
    "plt.savefig(\"../vexport/gender.png\", dpi=300, bbox_inches='tight')\n",
    "plt.show()"
   ]
  },
  {
   "cell_type": "markdown",
   "id": "c10a3377-b3e5-41eb-9a4f-875705bad994",
   "metadata": {},
   "source": [
    "#### export"
   ]
  },
  {
   "cell_type": "code",
   "execution_count": 12,
   "id": "b1f77017-b342-4613-b684-fde48460fbfb",
   "metadata": {},
   "outputs": [],
   "source": [
    "df_mf_dist.to_csv('../export/mf_dist.csv')"
   ]
  }
 ],
 "metadata": {
  "kernelspec": {
   "display_name": "Python [conda env:base] *",
   "language": "python",
   "name": "conda-base-py"
  },
  "language_info": {
   "codemirror_mode": {
    "name": "ipython",
    "version": 3
   },
   "file_extension": ".py",
   "mimetype": "text/x-python",
   "name": "python",
   "nbconvert_exporter": "python",
   "pygments_lexer": "ipython3",
   "version": "3.12.7"
  }
 },
 "nbformat": 4,
 "nbformat_minor": 5
}
